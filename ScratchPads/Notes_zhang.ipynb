{
 "cells": [
  {
   "cell_type": "code",
   "execution_count": 1,
   "metadata": {},
   "outputs": [],
   "source": [
    "import torch\n",
    "import torch.utils.data as data\n",
    "import torchvision.transforms as transforms\n",
    "import torchvision.transforms.functional as TF\n",
    "from torch.utils.data import Dataset\n",
    "import torchvision as tv\n",
    "\n",
    "import os, sys, re\n",
    "from math import floor, ceil\n",
    "import pandas as pd\n",
    "import numpy as np\n",
    "import pickle\n",
    "from PIL import Image\n",
    "# ImageFile.LOAD_TRUNCATED_IMAGES = True\n",
    "# import spacy\n",
    "# import scispacy\n",
    "from tqdm import tqdm \n",
    "import time\n",
    "from matplotlib import pyplot as plt\n",
    "from skimage import io\n",
    "import scipy.ndimage as ndimage\n",
    "import cv2\n",
    "\n",
    "# from nltk.tokenize import RegexpTokenizer\n",
    "# from transformers import BertTokenizer"
   ]
  },
  {
   "cell_type": "code",
   "execution_count": 2,
   "metadata": {
    "jupyter": {
     "source_hidden": true
    }
   },
   "outputs": [],
   "source": [
    "brk_img = ['/media/SStor1/zhanghex/MIMIC-CXR/physionet.org/files/mimic-cxr-jpg/2.0.0/files/p13/p13464967/s50918656/b9cef6bf-c247621e-4d6efec6-d0ae860e-bc40e3ae.jpg',\n",
    "           '/media/SStor1/zhanghex/MIMIC-CXR/physionet.org/files/mimic-cxr-jpg/2.0.0/files/p19/p19792113/s58921676/8d6e531c-df0eef5f-1c5d1721-3d8aa78e-75615b36.jpg',\n",
    "           '/media/SStor1/zhanghex/MIMIC-CXR/physionet.org/files/mimic-cxr-jpg/2.0.0/files/p19/p19725697/s50021487/077378a1-639e07ca-111795c0-426381a4-a527e0cb.jpg',\n",
    "           '/media/SStor1/zhanghex/MIMIC-CXR/physionet.org/files/mimic-cxr-jpg/2.0.0/files/p15/p15451291/s55836342/37798b7c-cfc1ee44-960992d0-a8c8a727-ef3140dc.jpg',\n",
    "           '/media/SStor1/zhanghex/MIMIC-CXR/physionet.org/files/mimic-cxr-jpg/2.0.0/files/p16/p16303240/s52712996/4b3bedfe-3241c91b-4a6d6d2c-ddcd30b8-a208ca6b.jpg',\n",
    "           '/media/SStor1/zhanghex/MIMIC-CXR/physionet.org/files/mimic-cxr-jpg/2.0.0/files/p18/p18047173/s53663119/e0e4510b-c2763bf7-041bc48b-40b2a42e-bdf0439f.jpg',\n",
    "           '/media/SStor1/zhanghex/MIMIC-CXR/physionet.org/files/mimic-cxr-jpg/2.0.0/files/p11/p11962176/s51118536/516646f1-817a14ba-a04a4bfc-4b6206f4-331e747e.jpg',\n",
    "           '/media/SStor1/zhanghex/MIMIC-CXR/physionet.org/files/mimic-cxr-jpg/2.0.0/files/p11/p11051429/s51276026/1e8f7682-2efc9fd0-f8e53d04-538b66fd-5d2d88e1.jpg',\n",
    "           '/media/SStor1/zhanghex/MIMIC-CXR/physionet.org/files/mimic-cxr-jpg/2.0.0/files/p10/p10001884/s58196907/702047a4-bc0d5902-5c6165ef-8edd29a4-23af9a3b.jpg',\n",
    "           '/media/SStor1/zhanghex/MIMIC-CXR/physionet.org/files/mimic-cxr-jpg/2.0.0/files/p18/p18932705/s51445558/35deee8f-51ef556e-34b0e727-a1bad101-ffedab5d.jpg',\n",
    "           '/media/SStor1/zhanghex/MIMIC-CXR/physionet.org/files/mimic-cxr-jpg/2.0.0/files/p13/p13423849/s52462600/9c9632b7-5810ff86-e8e9c4f4-2c4f4311-3e32811e.jpg',\n",
    "           '/media/SStor1/zhanghex/MIMIC-CXR/physionet.org/files/mimic-cxr-jpg/2.0.0/files/p17/p17463554/s58095002/8ef5bd37-d3bb8c5e-24cd0186-cc986085-5f4d667b.jpg',\n",
    "           '/media/SStor1/zhanghex/MIMIC-CXR/physionet.org/files/mimic-cxr-jpg/2.0.0/files/p12/p12834991/s59888625/8d35f44c-092bfdcc-7c12fcf4-79071a4e-3c976e29.jpg',\n",
    "           '/media/SStor1/zhanghex/MIMIC-CXR/physionet.org/files/mimic-cxr-jpg/2.0.0/files/p17/p17629021/s53298954/6f40c6e1-6fb5c18f-9157c61f-b1fbae5a-6281aab7.jpg',\n",
    "           '/media/SStor1/zhanghex/MIMIC-CXR/physionet.org/files/mimic-cxr-jpg/2.0.0/files/p17/p17496338/s52692894/abb24cff-82b544c2-f5ad96dd-26031eba-a39cc278.jpg',\n",
    "           '/media/SStor1/zhanghex/MIMIC-CXR/physionet.org/files/mimic-cxr-jpg/2.0.0/files/p11/p11250458/s55756289/cf9288e7-cfa6cf2c-36454706-d3f8b617-935ac047.jpg',\n",
    "           '/media/SStor1/zhanghex/MIMIC-CXR/physionet.org/files/mimic-cxr-jpg/2.0.0/files/p17/p17175688/s55829245/3b8a8bd8-7922028c-fd9f8959-a3a63639-01ae0720.jpg',\n",
    "           '/media/SStor1/zhanghex/MIMIC-CXR/physionet.org/files/mimic-cxr-jpg/2.0.0/files/p17/p17463554/s58095002/8ef5bd37-d3bb8c5e-24cd0186-cc986085-5f4d667b.jpg',\n",
    "           '/media/SStor1/zhanghex/MIMIC-CXR/physionet.org/files/mimic-cxr-jpg/2.0.0/files/p19/p19040738/s58695216/1e42526b-81677c4b-d4cc3556-2a6cc065-cd6a8c8e.jpg',\n",
    "           '/media/SStor1/zhanghex/MIMIC-CXR/physionet.org/files/mimic-cxr-jpg/2.0.0/files/p10/p10123997/s50092158/f817146a-1c81d321-26430db8-7933249f-f54d672a.jpg',\n",
    "           '/media/SStor1/zhanghex/MIMIC-CXR/physionet.org/files/mimic-cxr-jpg/2.0.0/files/p18/p18025609/s54177048/2298d1a4-c6b02a68-13a17662-7353c048-3db24770.jpg',\n",
    "           '/media/SStor1/zhanghex/MIMIC-CXR/physionet.org/files/mimic-cxr-jpg/2.0.0/files/p11/p11962176/s51118536/516646f1-817a14ba-a04a4bfc-4b6206f4-331e747e.jpg',\n",
    "           '/media/SStor1/zhanghex/MIMIC-CXR/physionet.org/files/mimic-cxr-jpg/2.0.0/files/p12/p12394964/s51836090/f038ece0-4989c037-ce4c9ab3-1724b55f-5e2340dc.jpg',\n",
    "           '/media/SStor1/zhanghex/MIMIC-CXR/physionet.org/files/mimic-cxr-jpg/2.0.0/files/p14/p14462350/s53317645/f1b5ca06-f5593e8f-253da0cf-8a7c6eaf-a9757466.jpg',\n",
    "           '/media/SStor1/zhanghex/MIMIC-CXR/physionet.org/files/mimic-cxr-jpg/2.0.0/files/p19/p19361635/s54577638/01400adc-c22c266f-55849f2b-7f41d5e4-f87c352b.jpg',\n",
    "           '/media/SStor1/zhanghex/MIMIC-CXR/physionet.org/files/mimic-cxr-jpg/2.0.0/files/p15/p15928227/s56577519/87e953a1-87022837-eec6fcbf-7eb74b3a-ff529770.jpg',\n",
    "           '/media/SStor1/zhanghex/MIMIC-CXR/physionet.org/files/mimic-cxr-jpg/2.0.0/files/p15/p15117669/s58254928/5972c234-55ad41ae-fd6d354d-cee2b0e7-f22a935d.jpg',\n",
    "           '/media/SStor1/zhanghex/MIMIC-CXR/physionet.org/files/mimic-cxr-jpg/2.0.0/files/p18/p18047173/s53663119/e0e4510b-c2763bf7-041bc48b-40b2a42e-bdf0439f.jpg',\n",
    "           '/media/SStor1/zhanghex/MIMIC-CXR/physionet.org/files/mimic-cxr-jpg/2.0.0/files/p19/p19462518/s58215267/c353aa47-8dce54e0-2b8fcd93-538ab73b-bb4de278.jpg',\n",
    "]\n",
    "           \n"
   ]
  },
  {
   "cell_type": "code",
   "execution_count": 6,
   "metadata": {},
   "outputs": [
    {
     "data": {
      "text/plain": [
       "0.7102486707875746"
      ]
     },
     "execution_count": 6,
     "metadata": {},
     "output_type": "execute_result"
    }
   ],
   "source": [
    "np.random.uniform()"
   ]
  },
  {
   "cell_type": "code",
   "execution_count": 31,
   "metadata": {
    "collapsed": true,
    "jupyter": {
     "outputs_hidden": true,
     "source_hidden": true
    }
   },
   "outputs": [
    {
     "name": "stdout",
     "output_type": "stream",
     "text": [
      "(3056, 2544)\n",
      "JPEG\n"
     ]
    }
   ],
   "source": [
    "## check images here\n",
    "# prefix = '/media/SStor1/zhanghex/MIMIC-CXR/physionet.org/files/mimic-cxr-jpg/2.0.0'\n",
    "# prefix = '/media/MyDataStor2/MIMIC-CXR/physionet.org/files/mimic-cxr-jpg/2.0.0'\n",
    "# pths = '/media/MyDataStor2/OpenI_samples/3993_IM-2044-1002.dcm.png'\n",
    "# imgp = 'files/p10/p10368327/s54891162/2cabe06c-89c27d3f-7ed0bde9-e1264940-71d0770b.jpg'\n",
    "# imgp = 'files/p15/p15826372/s52340889/ce840271-6df21667-c7506e69-cc06839b-16735c5f.jpg'\n",
    "# imgp = 'files/p15/p15477318/s55567307/ba6b9957-1eacc2a2-e0edb5cc-c679c12c-ee726d1a.jpg'\n",
    "# imgp = 'files/p10/p10534245/s52330160/cf52095d-dc314a1b-99d09290-c2284811-ee729d0b.jpg'\n",
    "i = 0\n",
    "pths = brk_img[i]\n",
    "# imgp = 'files/p12/p12000146/s52988409/d75aa7c2-d18d783b-d5932b2f-568067e4-746c2426.jpg'\n",
    "# imgp = img_jpg[8]['img']\n",
    "# pths = os.path.join(prefix, imgp)\n",
    "try:\n",
    "    with Image.open(pths) as img:\n",
    "#         img = Image.open(im)\n",
    "        print(img.size)\n",
    "        print(img.format)\n",
    "#     img = np.array(img)\n",
    "# img = Image.open(pths.replace('SStor1/zhanghex', 'MyDataStor2'))\n",
    "# img = Image.open(os.path.join('/home/zhanghex/forsake', os.path.basename(pths)))\n",
    "        tar_fd = os.path.dirname(pths.replace('/media/SStor1/zhanghex/MIMIC-CXR','/home/zhanghex/forsake'))\n",
    "        if not os.path.exists(tar_fd):\n",
    "            os.makedirs(tar_fd)\n",
    "        img.save(os.path.join(tar_fd, os.path.basename(pths).replace('jpg','png')), format='png')\n",
    "#     cv2.imwrite(os.path.join(tar_fd, os.path.basename(pths).replace('jpg','png')), img)\n",
    "# img.close()\n",
    "# img = cv2.imread(pths)\n",
    "# img\n",
    "# fig = plt.figure(figsize=(8,8))\n",
    "# img = np.array(img)\n",
    "# plt.imshow(img, cmap='gray')\n",
    "except Exception as e:\n",
    "    print(e)\n",
    "    print(pths)"
   ]
  },
  {
   "cell_type": "code",
   "execution_count": null,
   "metadata": {
    "jupyter": {
     "source_hidden": true
    }
   },
   "outputs": [],
   "source": [
    "i = 0\n",
    "pths = brk_img[i]\n",
    "img = Image.open(pths.replace('/media/SStor1/zhanghex/MIMIC-CXR','/home/zhanghex/forsake').replace('jpg','png'))\n",
    "print(img.size)\n",
    "print(img.format)"
   ]
  },
  {
   "cell_type": "code",
   "execution_count": 2,
   "metadata": {
    "jupyter": {
     "source_hidden": true
    }
   },
   "outputs": [],
   "source": [
    "img_jpg = [\n",
    "    {'img':'files/p19/p19017919/s50797181/8e5f8df3-4248d575-fd16f8c1-1c69065a-1ac199e9.jpg', 'txt':1},\n",
    "    {'img':'files/p18/p18441078/s58044074/15e60dc7-6493889f-d2cb9dba-2c860709-f171bc98.jpg', 'txt':2},\n",
    "    {'img':'files/p11/p11673861/s53517205/0491306a-d44bb1cd-36678cdf-ef64aa11-ee9897a2.jpg', 'txt':3},\n",
    "    {'img':'files/p15/p15398519/s52897917/6f9899f3-652a0fe6-cb32f8b1-3afb0c85-5a3929f0.jpg', 'txt':4},\n",
    "    {'img':'files/p13/p13118941/s54144739/67b68818-61703959-6321083a-ecf0ff32-addd5bc8.jpg', 'txt':5},\n",
    "    {'img':'files/p13/p13660399/s52532898/2f2d7a89-161059ab-bf24aaa4-c15f7abb-ea408fee.jpg', 'txt':6},\n",
    "    {'img':'files/p14/p14882082/s59150331/5009240f-7dc4006c-4a69d332-00051c01-9179f001.jpg', 'txt':7},\n",
    "    {'img':'files/p17/p17198774/s54162995/2d7e35ed-6f80d557-740804a5-c1cdc6f0-5729e6a6.jpg', 'txt':8},\n",
    "    {'img':'files/p17/p17199342/s59731194/b3e8c46c-99efe614-59b11837-a870ab41-8e30ceea.jpg', 'txt':9},\n",
    "    {'img':'files/p18/p18446282/s54914372/32b63c6b-837955f2-62cd29e6-834d5132-6f9c67d8.jpg', 'txt':10},\n",
    "    {'img':'files/p11/p11285576/s54979966/03b2e67c-70631ff8-685825fb-6c989456-621ca64d.jpg', 'txt':11},\n",
    "    {'img':'files/p11/p11378535/s50374044/db9511e3-ee0359ab-489c3556-4a9b2277-c0bf0369.jpg', 'txt':12},\n",
    "#     {'img':'files/p14/p14887088/s54257662/1bc85033-355accce-e8d0ed50-78188cd3-dac92e86.jpg', 'txt':13},\n",
    "#     {'img':}\n",
    "]\n",
    "## /media/MyDataStor2/MIMIC-CXR/physionet.org/files/mimic-cxr-jpg/2.0.0/files/p18/p18046197/s54101455/03282542-659da086-ed15e343-f5666add-32d57195.jpg\n",
    "\n",
    "img_png = [\n",
    "    {'img':'3993_IM-2044-1002.dcm.png', 'txt':1},\n",
    "    {'img':'3994_IM-2045-1001.dcm.png', 'txt':2},\n",
    "    {'img':'3994_IM-2045-2001.dcm.png', 'txt':3},\n",
    "    {'img':'3995_IM-2046-1001.dcm.png', 'txt':4},\n",
    "    {'img':'3995_IM-2046-2001.dcm.png', 'txt':5},\n",
    "    {'img':'3996_IM-2047-1001.dcm.png', 'txt':6},\n",
    "    {'img':'3996_IM-2047-3001.dcm.png', 'txt':7},\n",
    "    {'img':'3997_IM-2048-1001.dcm.png', 'txt':8},\n",
    "    {'img':'3997_IM-2048-1002.dcm.png', 'txt':9},\n",
    "    {'img':'3998_IM-2048-1001.dcm.png', 'txt':10},\n",
    "    {'img':'3998_IM-2048-1002.dcm.png', 'txt':11},\n",
    "    {'img':'3999_IM-2049-1001.dcm.png', 'txt':12},\n",
    "#     {'img':'3999_IM-2049-2001.dcm.png', 'txt':13},\n",
    "#     {'img':}\n",
    "]"
   ]
  },
  {
   "cell_type": "code",
   "execution_count": 69,
   "metadata": {
    "jupyter": {
     "source_hidden": true
    }
   },
   "outputs": [],
   "source": [
    "## custom functions for transforms using skimage and scipy\n",
    "\n",
    "class RandomTranslateCrop(object):\n",
    "    \"\"\"Translate and crop the image in a sample.\n",
    "    Args:\n",
    "        output_size (tuple or int): Desired output size. \n",
    "        If int, square crop is made.\n",
    "    \"\"\"\n",
    "\n",
    "    def __init__(self, output_size, shift_mean=0,\n",
    "                 shift_std=200, rotation_mean=0, rotation_std=10):\n",
    "        assert isinstance(output_size, (int, tuple))\n",
    "        if isinstance(output_size, int):\n",
    "            self.output_size = (output_size, output_size)\n",
    "        else:\n",
    "            assert len(output_size) == 2\n",
    "            self.output_size = output_size\n",
    "        self.shift_mean = shift_mean\n",
    "        self.shift_std = shift_std\n",
    "        self.rotation_mean = rotation_mean\n",
    "        self.rotation_std = rotation_std\n",
    "\n",
    "    def __call__(self, image):\n",
    "        image = self.__translate_2Dimage(image)\n",
    "#         image = self.__rotate_2Dimage(image)\n",
    "        h, w = image.shape[0:2]\n",
    "        new_h, new_w = self.output_size\n",
    "\n",
    "        if new_h>h or new_w>w:\n",
    "            raise ValueError('This image needs to be padded!')\n",
    "\n",
    "        top = floor((h - new_h) / 2)\n",
    "        down = top + new_h\n",
    "        left = floor((w - new_w) / 2)\n",
    "        right = left + new_w\n",
    "        \n",
    "        return image[top:down, left:right]\n",
    "\n",
    "    def __translate_2Dimage(self, image):\n",
    "        'Translate 2D images as data augmentation'\n",
    "        h, w = image.shape[0:2]\n",
    "        h_output, w_output = self.output_size[0:2]\n",
    "\n",
    "        # Generate random Gaussian numbers for image shift as data augmentation\n",
    "        shift_h = int(np.random.normal(self.shift_mean, self.shift_std))\n",
    "        shift_w = int(np.random.normal(self.shift_mean, self.shift_std))\n",
    "        if abs(shift_h) > 2 * self.shift_std:\n",
    "            shift_h = 0\n",
    "        if abs(shift_w) > 2 * self.shift_std:\n",
    "            shift_w = 0\n",
    "\n",
    "        # Pad the 2D image\n",
    "        pad_h_length = max(0, float(h_output - h))\n",
    "        pad_h_length_1 = floor(pad_h_length / 2) + 4  # 4 is extra padding\n",
    "        pad_h_length_2 = floor(pad_h_length / 2) + 4  # 4 is extra padding\n",
    "        pad_h_length_1 = pad_h_length_1 + max(shift_h , 0)\n",
    "        pad_h_length_2 = pad_h_length_2 + max(-shift_h , 0)\n",
    "\n",
    "        pad_w_length = max(0, float(w_output - w))\n",
    "        pad_w_length_1 = floor(pad_w_length / 2) + 4  # 4 is extra padding\n",
    "        pad_w_length_2 = floor(pad_w_length / 2) + 4  # 4 is extra padding\n",
    "        pad_w_length_1 = pad_w_length_1 + max(shift_w , 0)\n",
    "        pad_w_length_2 = pad_w_length_2 + max(-shift_w , 0)\n",
    "\n",
    "        image = np.pad(image, ((pad_h_length_1, pad_h_length_2), (pad_w_length_1, pad_w_length_2)),\n",
    "                       'constant', constant_values=((0, 0), (0, 0)))\n",
    "\n",
    "        return image\n",
    "\n",
    "    def __rotate_2Dimage(self, image):\n",
    "        'Rotate 2D images as data augmentation'\n",
    "\n",
    "        # Generate a random Gaussian number for image rotation angle as data augmentation\n",
    "        angle = np.random.normal(self.rotation_mean, self.rotation_std)\n",
    "        if abs(angle) > 2 * self.rotation_std:\n",
    "            angle = 0\n",
    "            return image\n",
    "\n",
    "        return ndimage.rotate(image, angle)\n",
    "\n",
    "\n",
    "class CenterCrop(object):\n",
    "    \"\"\"Crop randomly the image in a sample.\n",
    "    Args:\n",
    "        output_size (tuple or int): Desired output size. \n",
    "        If int, square crop is made.\n",
    "    \"\"\"\n",
    "\n",
    "    def __init__(self, output_size):\n",
    "        assert isinstance(output_size, (int, tuple))\n",
    "        if isinstance(output_size, int):\n",
    "            self.output_size = (output_size, output_size)\n",
    "        else:\n",
    "            assert len(output_size) == 2\n",
    "            self.output_size = output_size\n",
    "\n",
    "    def __call__(self, image):\n",
    "        image = self.__pad_2Dimage(image)\n",
    "        h, w = image.shape[0:2]\n",
    "        new_h, new_w = self.output_size\n",
    "\n",
    "        if new_h>h or new_w>w:\n",
    "            raise ValueError('This image needs to be padded!')\n",
    "\n",
    "        top = floor((h - new_h) / 2)\n",
    "        down = top + new_h\n",
    "        left = floor((w - new_w) / 2)\n",
    "        right = left + new_w\n",
    "        \n",
    "        return image[top:down, left:right]\n",
    "    \n",
    "    def __pad_2Dimage(self, image):\n",
    "        'Pad 2D images to match output_size'\n",
    "        h, w = image.shape[0:2]\n",
    "        h_output, w_output = self.output_size[0:2]\n",
    "\n",
    "        pad_h_length = max(0, float(h_output - h))\n",
    "        pad_h_length_1 = floor(pad_h_length / 2) + 4  # 4 is extra padding\n",
    "        pad_h_length_2 = floor(pad_h_length / 2) + 4  # 4 is extra padding\n",
    "\n",
    "        pad_w_length = max(0, float(w_output - w))\n",
    "        pad_w_length_1 = floor(pad_w_length / 2) + 4  # 4 is extra padding\n",
    "        pad_w_length_2 = floor(pad_w_length / 2) + 4  # 4 is extra padding\n",
    "\n",
    "        image = np.pad(image, ((pad_h_length_1, pad_h_length_2), (pad_w_length_1, pad_w_length_2)),\n",
    "                       'constant', constant_values=((0, 0), (0, 0)))\n",
    "\n",
    "        return image\n",
    "    \n",
    "    \n",
    "class ConvertTensor(object):\n",
    "    \"\"\"Convert the numpy image to Tensor.\n",
    "    \"\"\"\n",
    "    def __call__(self, image):\n",
    "        image = torch.tensor(image)\n",
    "        image = image.unsqueeze(0)\n",
    "        return image\n",
    "    \n",
    "    \n",
    "# Load an .npy or .png image \n",
    "def load_image(img_path):\n",
    "    if img_path[-3:] == 'npy':\n",
    "        image = np.load(img_path)\n",
    "    if img_path[-3:] == 'png' or img_path[-3:] == 'jpg':\n",
    "        image = io.imread(img_path)\n",
    "        image = image.astype(np.float32)\n",
    "        image = image/np.max(image)\n",
    "    return image"
   ]
  },
  {
   "cell_type": "code",
   "execution_count": 107,
   "metadata": {
    "jupyter": {
     "source_hidden": true
    }
   },
   "outputs": [],
   "source": [
    "MAX_DIM = 2048\n",
    "\n",
    "class TestDataset(Dataset):\n",
    "    def __init__(self, root, dataset):\n",
    "        super().__init__()\n",
    "        \n",
    "        self.root = root\n",
    "        self.transform = tv.transforms.Compose([\n",
    "#                                         tv.transforms.RandomRotation(10),\n",
    "                                        tv.transforms.RandomCrop(MAX_DIM, pad_if_needed=True),\n",
    "                                        tv.transforms.ColorJitter(brightness=[0.5, 1.8]\n",
    "                                                                  , contrast=[0.5, 1.8]\n",
    "                                                                  , saturation=[0.5, 1.8]),\n",
    "#                                         RandomTranslateCrop(MAX_DIM), # skimage\n",
    "#                                         tv.transforms.CenterCrop(MAX_DIM),\n",
    "#                                         CenterCrop(MAX_DIM), # skimage\n",
    "#                                         ConvertTensor(), # skimage\n",
    "                                        tv.transforms.ToTensor(),\n",
    "                                        tv.transforms.Normalize(0.5, 0.5)])\n",
    "        self.datadict = dataset\n",
    "\n",
    "    def __len__(self):\n",
    "        return len(self.datadict)\n",
    "\n",
    "    def __getitem__(self, idx):\n",
    "        \n",
    "        image_path = os.path.join(self.root, self.datadict[idx]['img'])\n",
    "\n",
    "        try:\n",
    "            image = Image.open(image_path)\n",
    "#             image = load_image(image_path)\n",
    "            if self.transform:\n",
    "                image = self.transform(image)\n",
    "\n",
    "        except Exception as ex:\n",
    "            print(ex)\n",
    "            print(image_path)\n",
    "            return None\n",
    "        \n",
    "        text = self.datadict[idx]['txt']\n",
    "\n",
    "        return image, text, os.path.basename(image_path)"
   ]
  },
  {
   "cell_type": "code",
   "execution_count": 42,
   "metadata": {},
   "outputs": [],
   "source": [
    "def collate_fn_ignore_none(batch):\n",
    "    batch = list(filter(lambda x: x is not None, batch))\n",
    "    return torch.utils.data.dataloader.default_collate(batch)"
   ]
  },
  {
   "cell_type": "code",
   "execution_count": 109,
   "metadata": {},
   "outputs": [],
   "source": [
    "root = '/media/MyDataStor2/MIMIC-CXR/physionet.org/files/mimic-cxr-jpg/2.0.0'\n",
    "# root = '/media/MyDataStor2/OpenI_samples'\n",
    "testset = TestDataset(root, img_jpg)\n",
    "# print(len(testset))\n",
    "testloader = torch.utils.data.DataLoader(testset, collate_fn=collate_fn_ignore_none, shuffle=False, batch_size=12, num_workers=0)"
   ]
  },
  {
   "cell_type": "code",
   "execution_count": 112,
   "metadata": {},
   "outputs": [
    {
     "data": {
      "text/plain": [
       "0.9611063003540039"
      ]
     },
     "execution_count": 112,
     "metadata": {},
     "output_type": "execute_result"
    }
   ],
   "source": [
    "start_time = time.time()\n",
    "for image, text, pth in testloader:\n",
    "    continue\n",
    "#     print(image.shape, text.shape, len(pth), sep='\\n')\n",
    "#     for i in range(len(pth)):\n",
    "#         print('%02d - %s' % (text[i], pth[i]))\n",
    "end_time = time.time()\n",
    "end_time - start_time"
   ]
  },
  {
   "cell_type": "code",
   "execution_count": 64,
   "metadata": {
    "collapsed": true,
    "jupyter": {
     "outputs_hidden": true
    }
   },
   "outputs": [
    {
     "data": {
      "text/plain": [
       "<matplotlib.image.AxesImage at 0x7fa4ec1c4c90>"
      ]
     },
     "execution_count": 64,
     "metadata": {},
     "output_type": "execute_result"
    },
    {
     "data": {
      "image/png": "[encoded data removed]",
      "text/plain": [
       "<Figure size 576x576 with 1 Axes>"
      ]
     },
     "metadata": {
      "needs_background": "light"
     },
     "output_type": "display_data"
    }
   ],
   "source": [
    "fig = plt.figure(figsize=(8,8))\n",
    "i = 11\n",
    "img = image[i,0].numpy()\n",
    "plt.imshow(img, cmap='gray')"
   ]
  },
  {
   "cell_type": "markdown",
   "metadata": {},
   "source": [
    "## Check dataloader"
   ]
  },
  {
   "cell_type": "code",
   "execution_count": 40,
   "metadata": {},
   "outputs": [],
   "source": [
    "from importlib import reload\n",
    "import dataset_mimic_all\n",
    "reload(dataset_mimic_all)\n",
    "from dataset_mimic_all import build_dataset\n",
    "from misc.config import Config\n",
    "\n",
    "cfg  = Config()"
   ]
  },
  {
   "cell_type": "code",
   "execution_count": 43,
   "metadata": {},
   "outputs": [],
   "source": [
    "data_set = build_dataset('train', cfg)\n",
    "train_loader = torch.utils.data.DataLoader(\n",
    "                data_set, batch_size=cfg.batch_size, \n",
    "                collate_fn=collate_fn_ignore_none, drop_last=True,\n",
    "                shuffle=True, num_workers=0)"
   ]
  },
  {
   "cell_type": "code",
   "execution_count": 44,
   "metadata": {},
   "outputs": [],
   "source": [
    "idx2word = data_set.idx2word"
   ]
  },
  {
   "cell_type": "code",
   "execution_count": 45,
   "metadata": {},
   "outputs": [
    {
     "data": {
      "text/plain": [
       "8411"
      ]
     },
     "execution_count": 45,
     "metadata": {},
     "output_type": "execute_result"
    }
   ],
   "source": [
    "data_set.vocab_size"
   ]
  },
  {
   "cell_type": "code",
   "execution_count": 46,
   "metadata": {},
   "outputs": [
    {
     "data": {
      "text/plain": [
       "{0: 'Atelectasis',\n",
       " 1: 'Cardiomegaly',\n",
       " 2: 'Consolidation',\n",
       " 3: 'Edema',\n",
       " 4: 'Enlarged Cardiomediastinum',\n",
       " 5: 'Fracture',\n",
       " 6: 'Lung Lesion',\n",
       " 7: 'Lung Opacity',\n",
       " 8: 'No Finding',\n",
       " 9: 'Pleural Effusion',\n",
       " 10: 'Pleural Other',\n",
       " 11: 'Pneumonia',\n",
       " 12: 'Pneumothorax',\n",
       " 13: 'Support Devices'}"
      ]
     },
     "execution_count": 46,
     "metadata": {},
     "output_type": "execute_result"
    }
   ],
   "source": [
    "data_set.idx_to_class"
   ]
  },
  {
   "cell_type": "code",
   "execution_count": 48,
   "metadata": {},
   "outputs": [
    {
     "name": "stdout",
     "output_type": "stream",
     "text": [
      "torch.Size([32, 1, 2048, 2048]) torch.Size([32, 14]) torch.Size([32, 160]) torch.Size([32, 160]) torch.Size([32]) 32\n",
      "torch.float32\n"
     ]
    }
   ],
   "source": [
    "cnt = 0\n",
    "for image, caption, cap_mask, label, uid, cap_lens in train_loader:\n",
    "    print(image.shape, label.shape, caption.shape, cap_mask.shape, cap_lens.shape, len(uid))\n",
    "    print(label.dtype)\n",
    "    cnt += 1\n",
    "    if cnt == 1:\n",
    "        break"
   ]
  },
  {
   "cell_type": "code",
   "execution_count": 75,
   "metadata": {
    "collapsed": true,
    "jupyter": {
     "outputs_hidden": true
    }
   },
   "outputs": [
    {
     "name": "stdout",
     "output_type": "stream",
     "text": [
      "tensor([ True,  True,  True,  True,  True,  True,  True,  True,  True,  True,\n",
      "         True,  True,  True,  True,  True,  True,  True,  True,  True,  True,\n",
      "         True,  True,  True,  True,  True,  True,  True,  True,  True,  True,\n",
      "         True,  True,  True,  True,  True,  True,  True,  True,  True,  True,\n",
      "         True,  True,  True,  True,  True,  True,  True,  True,  True,  True,\n",
      "         True,  True,  True,  True,  True,  True,  True,  True,  True,  True,\n",
      "         True,  True,  True,  True,  True,  True,  True,  True,  True,  True,\n",
      "         True,  True,  True,  True,  True,  True,  True,  True,  True,  True,\n",
      "         True,  True,  True,  True,  True,  True,  True, False, False, False,\n",
      "        False, False, False, False, False, False, False, False, False, False,\n",
      "        False, False, False, False, False, False, False, False, False, False,\n",
      "        False, False, False, False, False, False, False, False, False, False,\n",
      "        False, False, False, False, False, False, False, False, False, False,\n",
      "        False, False, False, False, False, False, False, False, False, False,\n",
      "        False, False, False, False, False, False, False, False, False, False,\n",
      "        False, False, False, False, False, False, False, False, False, False])\n",
      "160\n",
      "87\n"
     ]
    }
   ],
   "source": [
    "mm = cap_mask[0, :-1]\n",
    "print(mm)\n",
    "print(len(mm))\n",
    "print(mm.numpy().sum())"
   ]
  },
  {
   "cell_type": "code",
   "execution_count": 86,
   "metadata": {
    "collapsed": true,
    "jupyter": {
     "outputs_hidden": true
    }
   },
   "outputs": [
    {
     "data": {
      "text/plain": [
       "tensor([7., 8., 1., 8., 4., 8., 7., 2., 9., 1., 1., 1., 9., 5., 9., 0., 4., 3.,\n",
       "        3., 5., 6., 4., 8., 9., 0., 2., 2., 6., 5., 7., 7., 5., 5., 3., 3., 8.,\n",
       "        6., 2., 0., 4., 7., 1., 2., 9., 9., 9., 5., 4., 8., 1., 5., 2., 1., 2.,\n",
       "        5., 3., 0., 6., 8., 2., 3., 0., 3., 8., 8., 4., 1., 4., 4., 4., 1., 1.,\n",
       "        4., 1., 1., 2., 1., 8., 4., 8., 2., 7., 1., 5., 0., 6., 2., 6., 4., 6.,\n",
       "        4., 9., 5., 5., 3., 8., 5., 8., 9., 0., 1., 5., 2., 2., 8., 1., 0., 7.,\n",
       "        2., 5., 2., 8., 7., 2., 1., 0., 2., 2., 5., 0., 3., 9., 6., 3., 2., 0.,\n",
       "        1., 6., 7., 3., 3., 5., 2., 9., 3., 4., 8., 8., 0., 4., 8., 3., 1., 3.,\n",
       "        1., 2., 2., 2., 6., 4., 0., 8., 1., 1., 9., 6., 4., 4., 6., 0.])"
      ]
     },
     "execution_count": 86,
     "metadata": {},
     "output_type": "execute_result"
    }
   ],
   "source": [
    "rnd = torch.Tensor(np.random.randint(0, 10, 160))\n",
    "rnd"
   ]
  },
  {
   "cell_type": "code",
   "execution_count": 62,
   "metadata": {},
   "outputs": [
    {
     "name": "stdout",
     "output_type": "stream",
     "text": [
      "52961869 84\n",
      "[1, 72, 43, 87, 88, 40, 22, 74, 256, 453, 22, 56, 45, 334, 494, 43, 57, 327, 7, 8, 9, 10, 11, 12, 54, 55, 5, 540, 327, 328, 54, 131, 29, 469, 1286, 1592, 107, 22, 449, 1071, 40, 22, 79, 779, 43, 79, 472, 22, 82, 5, 316, 267, 22, 318, 5, 321, 119, 530, 148, 22, 121, 2226, 167, 258, 793, 183, 180, 694, 107, 22, 617, 40, 22, 121, 410, 97, 151, 327, 328, 54, 131, 6, 111, 2]\n",
      "[CLS] frontal and lateral views of the chest were obtained the lungs are well expanded and clear without focal consolidation pleural effusion or pneumothorax pulmonary vasculature is engorged without overt pulmonary edema left pacemaker leads end in the expected locations of the right atrium and right ventricle the heart is moderate enlarged the aorta is tortuous as described on the prior reports but comparison can not be made in the absence of the prior images vascular congestion without overt pulmonary edema no pneumonia [SEP]\n",
      "[0.0, 0.0, 0.0, 0.0, 0.0, 0.0, 0.0, 0.0, 0.0, 0.0, 0.0, 0.0, 0.0, 0.0]\n"
     ]
    },
    {
     "data": {
      "text/plain": [
       "<matplotlib.image.AxesImage at 0x7f80525baf10>"
      ]
     },
     "execution_count": 62,
     "metadata": {},
     "output_type": "execute_result"
    },
    {
     "data": {
      "image/png": "[encoded data removed]",
      "text/plain": [
       "<Figure size 432x288 with 1 Axes>"
      ]
     },
     "metadata": {
      "needs_background": "light"
     },
     "output_type": "display_data"
    }
   ],
   "source": [
    "## for image-text-classification ##\n",
    "p = 1\n",
    "print(uid[p].item(), cap_lens[p].item())\n",
    "print(caption[p, cap_mask[p]].tolist())\n",
    "print(' '.join([idx2word[x.item()] for x in caption[p, cap_mask[p]]]))\n",
    "print(label[p].tolist())\n",
    "im1 = image[p,0,:,:].numpy()\n",
    "plt.imshow(im1, cmap='gray')"
   ]
  },
  {
   "cell_type": "code",
   "execution_count": 103,
   "metadata": {},
   "outputs": [
    {
     "name": "stdout",
     "output_type": "stream",
     "text": [
      "[(-1, 1), (107, 8410), (-1, 258), (136, 8410), (-1, 22), (-1, 174), (40, 8410), (4, 8410), (-1, 124), (-1, 125), (-1, 209), (-1, 701), (-1, 107), (-1, 22), (-1, 29), (-1, 9), (-1, 10), (-1, 43), (-1, 393), (-1, 640), (-1, 189), (136, 136), (-1, 17), (-1, 40), (-1, 22), (-1, 80), (-1, 334), (-1, 61), (-1, 2538), (40, 4608), (-1, 341), (-1, 5), (-1, 61), (-1, 92), (22, 8410), (-1, 79), (-1, 93), (136, 8410), (-1, 219), (-1, 40), (22, 22), (-1, 220), (-1, 440), (-1, 60), (46, 8410), (635, 8410), (-1, 128), (-1, 107), (22, 8410), (-1, 23), (-1, 24), (96, 8410), (-1, 913), (-1, 40), (-1, 54), (-1, 287), (-1, 5), (-1, 447), (-1, 136), (-1, 989), (-1, 54), (-1, 476), (-1, 685), (-1, 167), (-1, 4), (-1, 5), (-1, 6), (-1, 129), (40, 8410), (-1, 47), (-1, 111), (-1, 11), (-1, 12), (-1, 2)]\n",
      "[CLS] [MASK] comparison [MASK] the study [MASK] [MASK] has been further decrease in the left pleural effusion and basilar atelectatic changes with most of the hemidiaphragm well seen streak adiposity atelectasis is seen at [MASK] right base [MASK] blunting of the costophrenic angle again [MASK] [MASK] change in [MASK] cardiomediastinal silhouette [MASK] indistinctness of pulmonary vessels is consistent with elevated pulmonary venous pressure but there is no evidence [MASK] acute pneumonia or pneumothorax [SEP]\n",
      "tensor([   1, 8410,  258, 8410,   22,  174, 8410, 8410,  124,  125,  209,  701,\n",
      "         107,   22,   29,    9,   10,   43,  393,  640,  189,  136,   17,   40,\n",
      "          22,   80,  334,   61, 2538, 4608,  341,    5,   61,   92, 8410,   79,\n",
      "          93, 8410,  219,   40,   22,  220,  440,   60, 8410, 8410,  128,  107,\n",
      "        8410,   23,   24, 8410,  913,   40,   54,  287,    5,  447,  136,  989,\n",
      "          54,  476,  685,  167,    4,    5,    6,  129, 8410,   47,  111,   11,\n",
      "          12,    2])\n"
     ]
    }
   ],
   "source": [
    "# for masked LM ##\n",
    "p = 0\n",
    "print([x for x in zip(label[p].tolist(), caption[p, cap_mask[p]].tolist())])\n",
    "# print(caption[p, cap_mask[p]])\n",
    "print(' '.join([idx2word[x.item()] for x in caption[p, cap_mask[p]]]))\n",
    "print(caption[p, cap_mask[p]])"
   ]
  },
  {
   "cell_type": "code",
   "execution_count": 105,
   "metadata": {},
   "outputs": [
    {
     "name": "stdout",
     "output_type": "stream",
     "text": [
      "tensor([8410, 8410, 8410, 8410,  136, 4608, 8410, 8410,   22, 8410, 8410, 8410,\n",
      "        8410, 8410])\n",
      "tensor([107, 136,  40,   4, 136,  40,  22, 136,  22,  46, 635,  22,  96,  40])\n"
     ]
    }
   ],
   "source": [
    "p = 1\n",
    "print(caption[p, label[p] != -1])\n",
    "print(label[p][label[p]!=-1])"
   ]
  },
  {
   "cell_type": "code",
   "execution_count": 104,
   "metadata": {},
   "outputs": [
    {
     "name": "stdout",
     "output_type": "stream",
     "text": [
      "[CLS] in comparison with the study of there has been further decrease in the left pleural effusion and basilar atelectatic changes with most of the hemidiaphragm well seen streak of atelectasis is seen at the right base with blunting of the costophrenic angle again noted little change in the cardiomediastinal silhouette mild indistinctness of pulmonary vessels is consistent with elevated pulmonary venous pressure but there is no evidence of acute pneumonia or pneumothorax [SEP]\n"
     ]
    }
   ],
   "source": [
    "## recover the original text\n",
    "gt_token = caption[p].clone()\n",
    "gt_token[label[p]!=-1] = label[p, label[p]!=-1]\n",
    "print(' '.join([idx2word[x.item()] for x in gt_token[cap_mask[p]]]))"
   ]
  },
  {
   "cell_type": "code",
   "execution_count": 17,
   "metadata": {},
   "outputs": [],
   "source": [
    "data_dir = '/media/MyDataStor2/MIMIC-CXR/'\n",
    "with open(os.path.join(data_dir,'lm_reports/mimic_dataset_mit_normalized.pkl'),'rb') as f:\n",
    "    datasets = pickle.load(f)"
   ]
  },
  {
   "cell_type": "code",
   "execution_count": 19,
   "metadata": {},
   "outputs": [],
   "source": [
    "word2idx = datasets['word2idx']\n",
    "idx2word = datasets['idx2word']"
   ]
  },
  {
   "cell_type": "code",
   "execution_count": 11,
   "metadata": {},
   "outputs": [
    {
     "data": {
      "text/plain": [
       "'150'"
      ]
     },
     "execution_count": 11,
     "metadata": {},
     "output_type": "execute_result"
    }
   ],
   "source": [
    "ipath = '/media/MyDataStor2/IPMI2021/output/MIMIC_test_2020_11_30_21_27_14/Model/text_encoder150.pth'\n",
    "re.findall(r'\\d+', os.path.basename(ipath))[-1]"
   ]
  },
  {
   "cell_type": "markdown",
   "metadata": {},
   "source": [
    "## testing"
   ]
  },
  {
   "cell_type": "code",
   "execution_count": 20,
   "metadata": {},
   "outputs": [],
   "source": [
    "from model import TextEncoder, ImageEncoder\n",
    "from misc.config import Config\n",
    "from transformers import BertConfig #, BertTokenizer\n",
    "# from nltk.tokenize import RegexpTokenizer\n",
    "\n",
    "cfg = Config()\n",
    "bert_config = BertConfig(vocab_size=8410, hidden_size=512, num_hidden_layers=3,\n",
    "                    num_attention_heads=8, intermediate_size=2048, hidden_act='gelu',\n",
    "                    hidden_dropout_prob=cfg.hidden_dropout_prob, attention_probs_dropout_prob=cfg.attention_probs_dropout_prob,\n",
    "                    max_position_embeddings=512, layer_norm_eps=1e-12,\n",
    "                    initializer_range=0.02, type_vocab_size=2, pad_token_id=0)"
   ]
  },
  {
   "cell_type": "code",
   "execution_count": 21,
   "metadata": {},
   "outputs": [],
   "source": [
    "text_encoder = TextEncoder(bert_config = bert_config)"
   ]
  },
  {
   "cell_type": "code",
   "execution_count": 36,
   "metadata": {
    "collapsed": true,
    "jupyter": {
     "outputs_hidden": true
    },
    "scrolled": true
   },
   "outputs": [
    {
     "data": {
      "text/plain": [
       "TextEncoder(\n",
       "  (bert): BertModel(\n",
       "    (embeddings): BertEmbeddings(\n",
       "      (word_embeddings): Embedding(8410, 512, padding_idx=0)\n",
       "      (position_embeddings): Embedding(512, 512)\n",
       "      (token_type_embeddings): Embedding(2, 512)\n",
       "      (LayerNorm): LayerNorm((512,), eps=1e-12, elementwise_affine=True)\n",
       "      (dropout): Dropout(p=0.5, inplace=False)\n",
       "    )\n",
       "    (encoder): BertEncoder(\n",
       "      (layer): ModuleList(\n",
       "        (0): BertLayer(\n",
       "          (attention): BertAttention(\n",
       "            (self): BertSelfAttention(\n",
       "              (query): Linear(in_features=512, out_features=512, bias=True)\n",
       "              (key): Linear(in_features=512, out_features=512, bias=True)\n",
       "              (value): Linear(in_features=512, out_features=512, bias=True)\n",
       "              (dropout): Dropout(p=0.05, inplace=False)\n",
       "            )\n",
       "            (output): BertSelfOutput(\n",
       "              (dense): Linear(in_features=512, out_features=512, bias=True)\n",
       "              (LayerNorm): LayerNorm((512,), eps=1e-12, elementwise_affine=True)\n",
       "              (dropout): Dropout(p=0.5, inplace=False)\n",
       "            )\n",
       "          )\n",
       "          (intermediate): BertIntermediate(\n",
       "            (dense): Linear(in_features=512, out_features=2048, bias=True)\n",
       "          )\n",
       "          (output): BertOutput(\n",
       "            (dense): Linear(in_features=2048, out_features=512, bias=True)\n",
       "            (LayerNorm): LayerNorm((512,), eps=1e-12, elementwise_affine=True)\n",
       "            (dropout): Dropout(p=0.5, inplace=False)\n",
       "          )\n",
       "        )\n",
       "        (1): BertLayer(\n",
       "          (attention): BertAttention(\n",
       "            (self): BertSelfAttention(\n",
       "              (query): Linear(in_features=512, out_features=512, bias=True)\n",
       "              (key): Linear(in_features=512, out_features=512, bias=True)\n",
       "              (value): Linear(in_features=512, out_features=512, bias=True)\n",
       "              (dropout): Dropout(p=0.05, inplace=False)\n",
       "            )\n",
       "            (output): BertSelfOutput(\n",
       "              (dense): Linear(in_features=512, out_features=512, bias=True)\n",
       "              (LayerNorm): LayerNorm((512,), eps=1e-12, elementwise_affine=True)\n",
       "              (dropout): Dropout(p=0.5, inplace=False)\n",
       "            )\n",
       "          )\n",
       "          (intermediate): BertIntermediate(\n",
       "            (dense): Linear(in_features=512, out_features=2048, bias=True)\n",
       "          )\n",
       "          (output): BertOutput(\n",
       "            (dense): Linear(in_features=2048, out_features=512, bias=True)\n",
       "            (LayerNorm): LayerNorm((512,), eps=1e-12, elementwise_affine=True)\n",
       "            (dropout): Dropout(p=0.5, inplace=False)\n",
       "          )\n",
       "        )\n",
       "        (2): BertLayer(\n",
       "          (attention): BertAttention(\n",
       "            (self): BertSelfAttention(\n",
       "              (query): Linear(in_features=512, out_features=512, bias=True)\n",
       "              (key): Linear(in_features=512, out_features=512, bias=True)\n",
       "              (value): Linear(in_features=512, out_features=512, bias=True)\n",
       "              (dropout): Dropout(p=0.05, inplace=False)\n",
       "            )\n",
       "            (output): BertSelfOutput(\n",
       "              (dense): Linear(in_features=512, out_features=512, bias=True)\n",
       "              (LayerNorm): LayerNorm((512,), eps=1e-12, elementwise_affine=True)\n",
       "              (dropout): Dropout(p=0.5, inplace=False)\n",
       "            )\n",
       "          )\n",
       "          (intermediate): BertIntermediate(\n",
       "            (dense): Linear(in_features=512, out_features=2048, bias=True)\n",
       "          )\n",
       "          (output): BertOutput(\n",
       "            (dense): Linear(in_features=2048, out_features=512, bias=True)\n",
       "            (LayerNorm): LayerNorm((512,), eps=1e-12, elementwise_affine=True)\n",
       "            (dropout): Dropout(p=0.5, inplace=False)\n",
       "          )\n",
       "        )\n",
       "      )\n",
       "    )\n",
       "  )\n",
       "  (sent): Linear(in_features=512, out_features=512, bias=True)\n",
       ")"
      ]
     },
     "execution_count": 36,
     "metadata": {},
     "output_type": "execute_result"
    }
   ],
   "source": [
    "text_encoder.train()"
   ]
  },
  {
   "cell_type": "code",
   "execution_count": 38,
   "metadata": {},
   "outputs": [
    {
     "data": {
      "text/plain": [
       "True"
      ]
     },
     "execution_count": 38,
     "metadata": {},
     "output_type": "execute_result"
    }
   ],
   "source": [
    "text_encoder.bert.training"
   ]
  },
  {
   "cell_type": "code",
   "execution_count": 39,
   "metadata": {},
   "outputs": [],
   "source": [
    "image_encoder = ImageEncoder(output_channels=cfg.hidden_dim)"
   ]
  },
  {
   "cell_type": "code",
   "execution_count": 40,
   "metadata": {
    "collapsed": true,
    "jupyter": {
     "outputs_hidden": true
    },
    "scrolled": true
   },
   "outputs": [
    {
     "data": {
      "text/plain": [
       "ImageEncoder(\n",
       "  (conv1): Conv2d(1, 8, kernel_size=(7, 7), stride=(4, 4), padding=(3, 3), bias=False)\n",
       "  (bn1): BatchNorm2d(8, eps=1e-05, momentum=0.1, affine=True, track_running_stats=True)\n",
       "  (relu): ReLU(inplace=True)\n",
       "  (layer1): Sequential(\n",
       "    (0): BasicBlock(\n",
       "      (conv1): Conv2d(8, 16, kernel_size=(3, 3), stride=(2, 2), padding=(1, 1), bias=False)\n",
       "      (bn1): BatchNorm2d(16, eps=1e-05, momentum=0.1, affine=True, track_running_stats=True)\n",
       "      (relu): ReLU(inplace=True)\n",
       "      (conv2): Conv2d(16, 16, kernel_size=(3, 3), stride=(1, 1), padding=(1, 1), bias=False)\n",
       "      (bn2): BatchNorm2d(16, eps=1e-05, momentum=0.1, affine=True, track_running_stats=True)\n",
       "      (downsample): Sequential(\n",
       "        (0): Conv2d(8, 16, kernel_size=(1, 1), stride=(2, 2), bias=False)\n",
       "        (1): BatchNorm2d(16, eps=1e-05, momentum=0.1, affine=True, track_running_stats=True)\n",
       "      )\n",
       "    )\n",
       "    (1): BasicBlock(\n",
       "      (conv1): Conv2d(16, 16, kernel_size=(3, 3), stride=(1, 1), padding=(1, 1), bias=False)\n",
       "      (bn1): BatchNorm2d(16, eps=1e-05, momentum=0.1, affine=True, track_running_stats=True)\n",
       "      (relu): ReLU(inplace=True)\n",
       "      (conv2): Conv2d(16, 16, kernel_size=(3, 3), stride=(1, 1), padding=(1, 1), bias=False)\n",
       "      (bn2): BatchNorm2d(16, eps=1e-05, momentum=0.1, affine=True, track_running_stats=True)\n",
       "    )\n",
       "  )\n",
       "  (layer2): Sequential(\n",
       "    (0): BasicBlock(\n",
       "      (conv1): Conv2d(16, 32, kernel_size=(3, 3), stride=(2, 2), padding=(1, 1), bias=False)\n",
       "      (bn1): BatchNorm2d(32, eps=1e-05, momentum=0.1, affine=True, track_running_stats=True)\n",
       "      (relu): ReLU(inplace=True)\n",
       "      (conv2): Conv2d(32, 32, kernel_size=(3, 3), stride=(1, 1), padding=(1, 1), bias=False)\n",
       "      (bn2): BatchNorm2d(32, eps=1e-05, momentum=0.1, affine=True, track_running_stats=True)\n",
       "      (downsample): Sequential(\n",
       "        (0): Conv2d(16, 32, kernel_size=(1, 1), stride=(2, 2), bias=False)\n",
       "        (1): BatchNorm2d(32, eps=1e-05, momentum=0.1, affine=True, track_running_stats=True)\n",
       "      )\n",
       "    )\n",
       "    (1): BasicBlock(\n",
       "      (conv1): Conv2d(32, 32, kernel_size=(3, 3), stride=(1, 1), padding=(1, 1), bias=False)\n",
       "      (bn1): BatchNorm2d(32, eps=1e-05, momentum=0.1, affine=True, track_running_stats=True)\n",
       "      (relu): ReLU(inplace=True)\n",
       "      (conv2): Conv2d(32, 32, kernel_size=(3, 3), stride=(1, 1), padding=(1, 1), bias=False)\n",
       "      (bn2): BatchNorm2d(32, eps=1e-05, momentum=0.1, affine=True, track_running_stats=True)\n",
       "    )\n",
       "  )\n",
       "  (layer3): Sequential(\n",
       "    (0): BasicBlock(\n",
       "      (conv1): Conv2d(32, 64, kernel_size=(3, 3), stride=(2, 2), padding=(1, 1), bias=False)\n",
       "      (bn1): BatchNorm2d(64, eps=1e-05, momentum=0.1, affine=True, track_running_stats=True)\n",
       "      (relu): ReLU(inplace=True)\n",
       "      (conv2): Conv2d(64, 64, kernel_size=(3, 3), stride=(1, 1), padding=(1, 1), bias=False)\n",
       "      (bn2): BatchNorm2d(64, eps=1e-05, momentum=0.1, affine=True, track_running_stats=True)\n",
       "      (downsample): Sequential(\n",
       "        (0): Conv2d(32, 64, kernel_size=(1, 1), stride=(2, 2), bias=False)\n",
       "        (1): BatchNorm2d(64, eps=1e-05, momentum=0.1, affine=True, track_running_stats=True)\n",
       "      )\n",
       "    )\n",
       "    (1): BasicBlock(\n",
       "      (conv1): Conv2d(64, 64, kernel_size=(3, 3), stride=(1, 1), padding=(1, 1), bias=False)\n",
       "      (bn1): BatchNorm2d(64, eps=1e-05, momentum=0.1, affine=True, track_running_stats=True)\n",
       "      (relu): ReLU(inplace=True)\n",
       "      (conv2): Conv2d(64, 64, kernel_size=(3, 3), stride=(1, 1), padding=(1, 1), bias=False)\n",
       "      (bn2): BatchNorm2d(64, eps=1e-05, momentum=0.1, affine=True, track_running_stats=True)\n",
       "    )\n",
       "  )\n",
       "  (layer4): Sequential(\n",
       "    (0): BasicBlock(\n",
       "      (conv1): Conv2d(64, 128, kernel_size=(3, 3), stride=(2, 2), padding=(1, 1), bias=False)\n",
       "      (bn1): BatchNorm2d(128, eps=1e-05, momentum=0.1, affine=True, track_running_stats=True)\n",
       "      (relu): ReLU(inplace=True)\n",
       "      (conv2): Conv2d(128, 128, kernel_size=(3, 3), stride=(1, 1), padding=(1, 1), bias=False)\n",
       "      (bn2): BatchNorm2d(128, eps=1e-05, momentum=0.1, affine=True, track_running_stats=True)\n",
       "      (downsample): Sequential(\n",
       "        (0): Conv2d(64, 128, kernel_size=(1, 1), stride=(2, 2), bias=False)\n",
       "        (1): BatchNorm2d(128, eps=1e-05, momentum=0.1, affine=True, track_running_stats=True)\n",
       "      )\n",
       "    )\n",
       "    (1): BasicBlock(\n",
       "      (conv1): Conv2d(128, 128, kernel_size=(3, 3), stride=(1, 1), padding=(1, 1), bias=False)\n",
       "      (bn1): BatchNorm2d(128, eps=1e-05, momentum=0.1, affine=True, track_running_stats=True)\n",
       "      (relu): ReLU(inplace=True)\n",
       "      (conv2): Conv2d(128, 128, kernel_size=(3, 3), stride=(1, 1), padding=(1, 1), bias=False)\n",
       "      (bn2): BatchNorm2d(128, eps=1e-05, momentum=0.1, affine=True, track_running_stats=True)\n",
       "    )\n",
       "  )\n",
       "  (layer5): Sequential(\n",
       "    (0): BasicBlock(\n",
       "      (conv1): Conv2d(128, 256, kernel_size=(3, 3), stride=(2, 2), padding=(1, 1), bias=False)\n",
       "      (bn1): BatchNorm2d(256, eps=1e-05, momentum=0.1, affine=True, track_running_stats=True)\n",
       "      (relu): ReLU(inplace=True)\n",
       "      (conv2): Conv2d(256, 256, kernel_size=(3, 3), stride=(1, 1), padding=(1, 1), bias=False)\n",
       "      (bn2): BatchNorm2d(256, eps=1e-05, momentum=0.1, affine=True, track_running_stats=True)\n",
       "      (downsample): Sequential(\n",
       "        (0): Conv2d(128, 256, kernel_size=(1, 1), stride=(2, 2), bias=False)\n",
       "        (1): BatchNorm2d(256, eps=1e-05, momentum=0.1, affine=True, track_running_stats=True)\n",
       "      )\n",
       "    )\n",
       "    (1): BasicBlock(\n",
       "      (conv1): Conv2d(256, 256, kernel_size=(3, 3), stride=(1, 1), padding=(1, 1), bias=False)\n",
       "      (bn1): BatchNorm2d(256, eps=1e-05, momentum=0.1, affine=True, track_running_stats=True)\n",
       "      (relu): ReLU(inplace=True)\n",
       "      (conv2): Conv2d(256, 256, kernel_size=(3, 3), stride=(1, 1), padding=(1, 1), bias=False)\n",
       "      (bn2): BatchNorm2d(256, eps=1e-05, momentum=0.1, affine=True, track_running_stats=True)\n",
       "    )\n",
       "  )\n",
       "  (layer6): Sequential(\n",
       "    (0): BasicBlock(\n",
       "      (conv1): Conv2d(256, 512, kernel_size=(3, 3), stride=(2, 2), padding=(1, 1), bias=False)\n",
       "      (bn1): BatchNorm2d(512, eps=1e-05, momentum=0.1, affine=True, track_running_stats=True)\n",
       "      (relu): ReLU(inplace=True)\n",
       "      (conv2): Conv2d(512, 512, kernel_size=(3, 3), stride=(1, 1), padding=(1, 1), bias=False)\n",
       "      (bn2): BatchNorm2d(512, eps=1e-05, momentum=0.1, affine=True, track_running_stats=True)\n",
       "      (downsample): Sequential(\n",
       "        (0): Conv2d(256, 512, kernel_size=(1, 1), stride=(2, 2), bias=False)\n",
       "        (1): BatchNorm2d(512, eps=1e-05, momentum=0.1, affine=True, track_running_stats=True)\n",
       "      )\n",
       "    )\n",
       "    (1): BasicBlock(\n",
       "      (conv1): Conv2d(512, 512, kernel_size=(3, 3), stride=(1, 1), padding=(1, 1), bias=False)\n",
       "      (bn1): BatchNorm2d(512, eps=1e-05, momentum=0.1, affine=True, track_running_stats=True)\n",
       "      (relu): ReLU(inplace=True)\n",
       "      (conv2): Conv2d(512, 512, kernel_size=(3, 3), stride=(1, 1), padding=(1, 1), bias=False)\n",
       "      (bn2): BatchNorm2d(512, eps=1e-05, momentum=0.1, affine=True, track_running_stats=True)\n",
       "    )\n",
       "  )\n",
       "  (region): Conv2d(256, 512, kernel_size=(1, 1), stride=(1, 1), bias=False)\n",
       "  (avgpool): AdaptiveAvgPool2d(output_size=(2, 2))\n",
       "  (global_feats): Linear(in_features=2048, out_features=512, bias=True)\n",
       ")"
      ]
     },
     "execution_count": 40,
     "metadata": {},
     "output_type": "execute_result"
    }
   ],
   "source": [
    "image_encoder"
   ]
  },
  {
   "cell_type": "code",
   "execution_count": 43,
   "metadata": {},
   "outputs": [
    {
     "data": {
      "text/plain": [
       "True"
      ]
     },
     "execution_count": 43,
     "metadata": {},
     "output_type": "execute_result"
    }
   ],
   "source": [
    "image_encoder.conv1.weight.requires_grad #training"
   ]
  },
  {
   "cell_type": "code",
   "execution_count": 3,
   "metadata": {},
   "outputs": [
    {
     "name": "stdout",
     "output_type": "stream",
     "text": [
      "lr: 1.0000e-04\n"
     ]
    }
   ],
   "source": [
    "print('lr: %.4e' % 0.0001)"
   ]
  },
  {
   "cell_type": "code",
   "execution_count": null,
   "metadata": {},
   "outputs": [],
   "source": []
  },
  {
   "cell_type": "code",
   "execution_count": null,
   "metadata": {},
   "outputs": [],
   "source": []
  },
  {
   "cell_type": "code",
   "execution_count": 2,
   "metadata": {},
   "outputs": [],
   "source": [
    "### dataset used for matching ###\n",
    "data_dir = '/media/My1TBSSD1/MIMIC-CXR'\n",
    "with open(os.path.join(data_dir, 'lm_reports/mimic_dataset_mit_normalized.pkl'), 'rb') as f:\n",
    "        dataset = pickle.load(f)"
   ]
  },
  {
   "cell_type": "code",
   "execution_count": 3,
   "metadata": {},
   "outputs": [
    {
     "data": {
      "text/plain": [
       "dict_keys(['data_dict', 'data_split', 'word2idx', 'idx2word'])"
      ]
     },
     "execution_count": 3,
     "metadata": {},
     "output_type": "execute_result"
    }
   ],
   "source": [
    "dataset.keys() ### 50414267, 53189527, 53911762, 56699142, 57375967"
   ]
  },
  {
   "cell_type": "code",
   "execution_count": 14,
   "metadata": {},
   "outputs": [
    {
     "name": "stdout",
     "output_type": "stream",
     "text": [
      "217252\n",
      "2000\n",
      "3000\n",
      "3041\n"
     ]
    }
   ],
   "source": [
    "print(len(dataset['data_split']['train_uids']))\n",
    "print(len(dataset['data_split']['val_uids']))\n",
    "print(len(dataset['data_split']['test_uids']))\n",
    "print(len(dataset['data_split']['hold_uids']))"
   ]
  },
  {
   "cell_type": "code",
   "execution_count": 34,
   "metadata": {
    "collapsed": true,
    "jupyter": {
     "outputs_hidden": true
    }
   },
   "outputs": [
    {
     "data": {
      "text/plain": [
       "[50051329,\n",
       " 51738740,\n",
       " 53492798,\n",
       " 56173345,\n",
       " 57379357,\n",
       " 57977208,\n",
       " 52835225,\n",
       " 50042142,\n",
       " 50214117,\n",
       " 50239281,\n",
       " 51051449,\n",
       " 51513702,\n",
       " 51623828,\n",
       " 51715880,\n",
       " 51779078,\n",
       " 52199665,\n",
       " 53021891,\n",
       " 53368667,\n",
       " 53452091,\n",
       " 53883066,\n",
       " 54103072,\n",
       " 54137212,\n",
       " 54558182,\n",
       " 54571214,\n",
       " 54658698,\n",
       " 54934220,\n",
       " 55430988,\n",
       " 55785509,\n",
       " 55809473,\n",
       " 56063579,\n",
       " 57765703,\n",
       " 57873452,\n",
       " 57976739,\n",
       " 58011676,\n",
       " 58267855,\n",
       " 58694539,\n",
       " 59301985,\n",
       " 53356050,\n",
       " 56140866,\n",
       " 58307391,\n",
       " 59166131,\n",
       " 50879902,\n",
       " 51966612,\n",
       " 52241282,\n",
       " 52316568,\n",
       " 52470229,\n",
       " 52824884,\n",
       " 53941324,\n",
       " 54715839,\n",
       " 56446284,\n",
       " 56711198,\n",
       " 57949791,\n",
       " 58117612,\n",
       " 58736291,\n",
       " 59239338,\n",
       " 53850317,\n",
       " 56031350,\n",
       " 56839020,\n",
       " 57107868,\n",
       " 59146650,\n",
       " 59980986,\n",
       " 50277921,\n",
       " 50501762,\n",
       " 51129150,\n",
       " 51441976,\n",
       " 52077644,\n",
       " 52737492,\n",
       " 52831202,\n",
       " 53479699,\n",
       " 53567394,\n",
       " 54623776,\n",
       " 55725911,\n",
       " 55811525,\n",
       " 56140154,\n",
       " 56498272,\n",
       " 56653253,\n",
       " 56925922,\n",
       " 52837403,\n",
       " 54721755,\n",
       " 54773340,\n",
       " 56486000,\n",
       " 56078456,\n",
       " 59223989,\n",
       " 51742525,\n",
       " 52195893,\n",
       " 53897449,\n",
       " 55414814,\n",
       " 59775769,\n",
       " 50124332,\n",
       " 55609649,\n",
       " 56172325,\n",
       " 50563564,\n",
       " 51185902,\n",
       " 51674154,\n",
       " 52363927,\n",
       " 52467293,\n",
       " 53818026,\n",
       " 55183572,\n",
       " 55878458,\n",
       " 59089311,\n",
       " 59170987,\n",
       " 51837636,\n",
       " 54594848,\n",
       " 56348027,\n",
       " 56625924,\n",
       " 58393560,\n",
       " 50482798,\n",
       " 51707133,\n",
       " 51723789,\n",
       " 53652133,\n",
       " 57033562,\n",
       " 57163975,\n",
       " 57513198,\n",
       " 57761141,\n",
       " 59071382,\n",
       " 59191972,\n",
       " 59535316,\n",
       " 51545557,\n",
       " 52654095,\n",
       " 52894975,\n",
       " 52937462,\n",
       " 56441444,\n",
       " 56443683,\n",
       " 57959841,\n",
       " 59532499,\n",
       " 50301215,\n",
       " 51423353,\n",
       " 52555178,\n",
       " 53460154,\n",
       " 54849848,\n",
       " 54962274,\n",
       " 55957472,\n",
       " 56034024,\n",
       " 57211901,\n",
       " 58072789,\n",
       " 50205123,\n",
       " 50289849,\n",
       " 50290463,\n",
       " 50380704,\n",
       " 50636786,\n",
       " 51002383,\n",
       " 51115198,\n",
       " 51816597,\n",
       " 51826402,\n",
       " 52247073,\n",
       " 52402828,\n",
       " 52624179,\n",
       " 52866895,\n",
       " 52935265,\n",
       " 53512860,\n",
       " 54300688,\n",
       " 54422699,\n",
       " 54537700,\n",
       " 54694185,\n",
       " 54853227,\n",
       " 54870311,\n",
       " 55438657,\n",
       " 55447530,\n",
       " 55646831,\n",
       " 55736427,\n",
       " 55794889,\n",
       " 56058164,\n",
       " 56267214,\n",
       " 56304327,\n",
       " 56535476,\n",
       " 57053258,\n",
       " 57290683,\n",
       " 57629869,\n",
       " 57695180,\n",
       " 58929044,\n",
       " 59018975,\n",
       " 59225625,\n",
       " 59243134,\n",
       " 59885828,\n",
       " 50128467,\n",
       " 53881360,\n",
       " 59281953,\n",
       " 59557609,\n",
       " 50572011,\n",
       " 51473674,\n",
       " 53829371,\n",
       " 53835190,\n",
       " 53843466,\n",
       " 55185117,\n",
       " 55747813,\n",
       " 55911959,\n",
       " 56122911,\n",
       " 56390608,\n",
       " 56616764,\n",
       " 56820999,\n",
       " 58917552,\n",
       " 59969148,\n",
       " 51683155,\n",
       " 54381763,\n",
       " 50078440,\n",
       " 50126222,\n",
       " 50146341,\n",
       " 51656138,\n",
       " 52391187,\n",
       " 53978610,\n",
       " 55490259,\n",
       " 55512076,\n",
       " 56258422,\n",
       " 56303122,\n",
       " 56603583,\n",
       " 57185571,\n",
       " 57732352,\n",
       " 58274962,\n",
       " 58402174,\n",
       " 52056685,\n",
       " 53407845,\n",
       " 53537165,\n",
       " 53702175,\n",
       " 54389393,\n",
       " 56107641,\n",
       " 57433211,\n",
       " 58377417,\n",
       " 59032183,\n",
       " 50367895,\n",
       " 50457087,\n",
       " 51137224,\n",
       " 51882937,\n",
       " 53792271,\n",
       " 53884408,\n",
       " 55372843,\n",
       " 56129930,\n",
       " 56673612,\n",
       " 57171514,\n",
       " 57214202,\n",
       " 57502393,\n",
       " 58831403,\n",
       " 59503672,\n",
       " 50533006,\n",
       " 51807337,\n",
       " 51866834,\n",
       " 52079096,\n",
       " 52157373,\n",
       " 52842984,\n",
       " 52989952,\n",
       " 53737003,\n",
       " 54351633,\n",
       " 55470597,\n",
       " 55611611,\n",
       " 55868782,\n",
       " 57013017,\n",
       " 57844625,\n",
       " 57940242,\n",
       " 59171234,\n",
       " 59345943,\n",
       " 59627448,\n",
       " 59646951,\n",
       " 59896422,\n",
       " 51796690,\n",
       " 53762508,\n",
       " 59983953,\n",
       " 50567642,\n",
       " 52190468,\n",
       " 52818853,\n",
       " 55481818,\n",
       " 50845269,\n",
       " 52833948,\n",
       " 53430284,\n",
       " 54700382,\n",
       " 55101140,\n",
       " 55525523,\n",
       " 55831566,\n",
       " 56805129,\n",
       " 57001251,\n",
       " 57114968,\n",
       " 57774874,\n",
       " 50979785,\n",
       " 52705433,\n",
       " 53538021,\n",
       " 54147285,\n",
       " 55092691,\n",
       " 55743226,\n",
       " 59467402,\n",
       " 50494220,\n",
       " 50855550,\n",
       " 51161513,\n",
       " 51499550,\n",
       " 51503417,\n",
       " 51568216,\n",
       " 51644170,\n",
       " 51943964,\n",
       " 52164077,\n",
       " 52541396,\n",
       " 53155287,\n",
       " 53410264,\n",
       " 53836642,\n",
       " 53966135,\n",
       " 53994053,\n",
       " 54517998,\n",
       " 55108847,\n",
       " 55277653,\n",
       " 55420069,\n",
       " 55972946,\n",
       " 56440391,\n",
       " 56921446,\n",
       " 57332361,\n",
       " 57361873,\n",
       " 58006032,\n",
       " 58800563,\n",
       " 58971300,\n",
       " 59218667,\n",
       " 59735304,\n",
       " 59753947,\n",
       " 59798652,\n",
       " 50017760,\n",
       " 50955371,\n",
       " 51394568,\n",
       " 52511628,\n",
       " 52522246,\n",
       " 52736624,\n",
       " 53308168,\n",
       " 53521887,\n",
       " 53907259,\n",
       " 54030442,\n",
       " 54696391,\n",
       " 55048341,\n",
       " 55570024,\n",
       " 56372001,\n",
       " 56451222,\n",
       " 56570382,\n",
       " 56896759,\n",
       " 57174042,\n",
       " 57723670,\n",
       " 57848354,\n",
       " 58409843,\n",
       " 58468356,\n",
       " 58721487,\n",
       " 58952033,\n",
       " 59083645,\n",
       " 59155076,\n",
       " 59648796,\n",
       " 59691021,\n",
       " 51244125,\n",
       " 52398109,\n",
       " 53379869,\n",
       " 56889771,\n",
       " 51114398,\n",
       " 51230608,\n",
       " 56385625,\n",
       " 58773579,\n",
       " 58056251,\n",
       " 59027235,\n",
       " 54093116,\n",
       " 55883502,\n",
       " 56581797,\n",
       " 57778607,\n",
       " 58093109,\n",
       " 58517699,\n",
       " 58961408,\n",
       " 50008596,\n",
       " 51887095,\n",
       " 51983905,\n",
       " 52011372,\n",
       " 52805540,\n",
       " 53825501,\n",
       " 54670469,\n",
       " 54721804,\n",
       " 54749599,\n",
       " 54969173,\n",
       " 56084617,\n",
       " 56389746,\n",
       " 57204814,\n",
       " 58407493,\n",
       " 59234239,\n",
       " 59413372,\n",
       " 59433529,\n",
       " 59718086,\n",
       " 59995358,\n",
       " 50790949,\n",
       " 52031993,\n",
       " 52246418,\n",
       " 52356321,\n",
       " 52802608,\n",
       " 56862577,\n",
       " 57673768,\n",
       " 53339862,\n",
       " 57018476,\n",
       " 51551069,\n",
       " 53021526,\n",
       " 54357764,\n",
       " 54972841,\n",
       " 56268607,\n",
       " 56855230,\n",
       " 50164479,\n",
       " 50720959,\n",
       " 50889423,\n",
       " 50940921,\n",
       " 50969842,\n",
       " 50993278,\n",
       " 51034232,\n",
       " 51225417,\n",
       " 51876627,\n",
       " 52510525,\n",
       " 52804047,\n",
       " 53367019,\n",
       " 53737059,\n",
       " 54089797,\n",
       " 55084084,\n",
       " 55238105,\n",
       " 55514554,\n",
       " 56440140,\n",
       " 57045176,\n",
       " 57292244,\n",
       " 58556085,\n",
       " 58606191,\n",
       " 58862282,\n",
       " 59196954,\n",
       " 50901361,\n",
       " 53024166,\n",
       " 53774431,\n",
       " 53794474,\n",
       " 54669609,\n",
       " 55255832,\n",
       " 55430447,\n",
       " 56555909,\n",
       " 57134673,\n",
       " 57330158,\n",
       " 52008677,\n",
       " 53854854,\n",
       " 55124994,\n",
       " 56779415,\n",
       " 57232140,\n",
       " 59697640,\n",
       " 50241018,\n",
       " 53372149,\n",
       " 56051681,\n",
       " 56091680,\n",
       " 56353295,\n",
       " 56990167,\n",
       " 58367071,\n",
       " 53222889,\n",
       " 54164323,\n",
       " 55947318,\n",
       " 50921864,\n",
       " 51139077,\n",
       " 51328698,\n",
       " 52020944,\n",
       " 52152296,\n",
       " 52625540,\n",
       " 53100359,\n",
       " 55027268,\n",
       " 57363067,\n",
       " 58600769,\n",
       " 58725099,\n",
       " 59763671,\n",
       " 51988570,\n",
       " 52874646,\n",
       " 52969052,\n",
       " 53353190,\n",
       " 53840157,\n",
       " 54973829,\n",
       " 56121920,\n",
       " 56502688,\n",
       " 57679936,\n",
       " 50751429,\n",
       " 52268728,\n",
       " 53008088,\n",
       " 55498995,\n",
       " 55875120,\n",
       " 59358922,\n",
       " 52979134,\n",
       " 53352013,\n",
       " 53809636,\n",
       " 55477134,\n",
       " 57169558,\n",
       " 57320234,\n",
       " 50323020,\n",
       " 51835810,\n",
       " 54457720,\n",
       " 54100996,\n",
       " 54833205,\n",
       " 50127750,\n",
       " 50491354,\n",
       " 50630947,\n",
       " 50729749,\n",
       " 50953777,\n",
       " 51309585,\n",
       " 51682896,\n",
       " 51760501,\n",
       " 51826366,\n",
       " 52400146,\n",
       " 53053450,\n",
       " 53295276,\n",
       " 53349756,\n",
       " 53462705,\n",
       " 53746608,\n",
       " 53768980,\n",
       " 53850178,\n",
       " 53923012,\n",
       " 53930112,\n",
       " 54133721,\n",
       " 54211038,\n",
       " 55200248,\n",
       " 55391561,\n",
       " 55494760,\n",
       " 55958316,\n",
       " 56043671,\n",
       " 56143620,\n",
       " 56494283,\n",
       " 56614076,\n",
       " 57024984,\n",
       " 57164346,\n",
       " 57463116,\n",
       " 57648356,\n",
       " 57910301,\n",
       " 58095298,\n",
       " 58100629,\n",
       " 58139207,\n",
       " 59200846,\n",
       " 59303778,\n",
       " 59668999,\n",
       " 59700205,\n",
       " 59751598,\n",
       " 50770541,\n",
       " 52939782,\n",
       " 54523680,\n",
       " 56010471,\n",
       " 59956784,\n",
       " 51202805,\n",
       " 52329768,\n",
       " 53999109,\n",
       " 54218896,\n",
       " 56230969,\n",
       " 56901171,\n",
       " 58981887,\n",
       " 51192088,\n",
       " 58757200,\n",
       " 50178679,\n",
       " 59986698,\n",
       " 51749906,\n",
       " 50100756,\n",
       " 51144460,\n",
       " 51727838,\n",
       " 51765454,\n",
       " 53759718,\n",
       " 54151331,\n",
       " 55755138,\n",
       " 56130174,\n",
       " 57525852,\n",
       " 51235553,\n",
       " 51301343,\n",
       " 53499416,\n",
       " 54607940,\n",
       " 55644325,\n",
       " 57365217,\n",
       " 57966185,\n",
       " 59200772,\n",
       " 59409427,\n",
       " 50247294,\n",
       " 51466579,\n",
       " 54729238,\n",
       " 50620952,\n",
       " 50639335,\n",
       " 52368505,\n",
       " 52676650,\n",
       " 53378145,\n",
       " 54377872,\n",
       " 55620198,\n",
       " 56329592,\n",
       " 56545860,\n",
       " 57980363,\n",
       " 57980670,\n",
       " 58387960,\n",
       " 58466988,\n",
       " 58891388,\n",
       " 59310626,\n",
       " 59735543,\n",
       " 51322756,\n",
       " 51770967,\n",
       " 51917429,\n",
       " 51972716,\n",
       " 51979149,\n",
       " 52210830,\n",
       " 52583710,\n",
       " 52715750,\n",
       " 53225437,\n",
       " 53558787,\n",
       " 53979536,\n",
       " 54170209,\n",
       " 54186218,\n",
       " 54434117,\n",
       " 54946834,\n",
       " 55949339,\n",
       " 56218099,\n",
       " 56383568,\n",
       " 56521967,\n",
       " 57147904,\n",
       " 58704662,\n",
       " 59686145,\n",
       " 51621137,\n",
       " 55670303,\n",
       " 58740782,\n",
       " 50291999,\n",
       " 50452688,\n",
       " 50749866,\n",
       " 51474707,\n",
       " 51615087,\n",
       " 52076561,\n",
       " 52170957,\n",
       " 52173177,\n",
       " 54046592,\n",
       " 55463602,\n",
       " 55907924,\n",
       " 56983444,\n",
       " 58585557,\n",
       " 58608964,\n",
       " 58621321,\n",
       " 59048499,\n",
       " 59402852,\n",
       " 59808558,\n",
       " 56477444,\n",
       " 57053848,\n",
       " 58521232,\n",
       " 54766893,\n",
       " 59756815,\n",
       " 51233868,\n",
       " 51280998,\n",
       " 52607450,\n",
       " 54061371,\n",
       " 54282937,\n",
       " 55849664,\n",
       " 57974904,\n",
       " 58039469,\n",
       " 50637233,\n",
       " 51244261,\n",
       " 51407808,\n",
       " 53164365,\n",
       " 53795595,\n",
       " 54932317,\n",
       " 58466818,\n",
       " 59289980,\n",
       " 53736575,\n",
       " 59488681,\n",
       " 50141921,\n",
       " 50820057,\n",
       " 50957430,\n",
       " 51043428,\n",
       " 51374401,\n",
       " 51566590,\n",
       " 52442135,\n",
       " 53757292,\n",
       " 54232340,\n",
       " 54548144,\n",
       " 55696171,\n",
       " 56294295,\n",
       " 57146595,\n",
       " 57368679,\n",
       " 59091975,\n",
       " 59832157,\n",
       " 50049540,\n",
       " 50981777,\n",
       " 53948906,\n",
       " 54423763,\n",
       " 59870920,\n",
       " 51265355,\n",
       " 52295860,\n",
       " 53025898,\n",
       " 53234157,\n",
       " 53469163,\n",
       " 53606038,\n",
       " 54656023,\n",
       " 55410068,\n",
       " 55528877,\n",
       " 56524359,\n",
       " 56973241,\n",
       " 57348805,\n",
       " 57961005,\n",
       " 58371032,\n",
       " 58905647,\n",
       " 59739662,\n",
       " 50380203,\n",
       " 50551136,\n",
       " 50702561,\n",
       " 50802157,\n",
       " 51080537,\n",
       " 51183783,\n",
       " 51455625,\n",
       " 51592807,\n",
       " 52149367,\n",
       " 52630381,\n",
       " 52774948,\n",
       " 53389484,\n",
       " 54128066,\n",
       " 54189049,\n",
       " 54537743,\n",
       " 54586308,\n",
       " 54870443,\n",
       " 55062075,\n",
       " 56354797,\n",
       " 56373739,\n",
       " 56581630,\n",
       " 57259586,\n",
       " 57273961,\n",
       " 57876776,\n",
       " 57927198,\n",
       " 58055058,\n",
       " 58485731,\n",
       " 58509428,\n",
       " 58565744,\n",
       " 59762556,\n",
       " 59873563,\n",
       " 50827294,\n",
       " 52085657,\n",
       " 53443143,\n",
       " 54527138,\n",
       " 57210258,\n",
       " 58929701,\n",
       " 59505688,\n",
       " 55553875,\n",
       " 57399078,\n",
       " 59842808,\n",
       " 52971492,\n",
       " 57583790,\n",
       " 59569764,\n",
       " 50510286,\n",
       " 50629857,\n",
       " 50882034,\n",
       " 51040656,\n",
       " 51083465,\n",
       " 51631521,\n",
       " 52075994,\n",
       " 52130325,\n",
       " 52519155,\n",
       " 52544398,\n",
       " 53555445,\n",
       " 53742043,\n",
       " 53831546,\n",
       " 54507675,\n",
       " 54922650,\n",
       " 57019853,\n",
       " 57045066,\n",
       " 58064262,\n",
       " 58856677,\n",
       " 59018724,\n",
       " 50999536,\n",
       " 51140369,\n",
       " 51807934,\n",
       " 55049183,\n",
       " 57241942,\n",
       " 58611846,\n",
       " 58819781,\n",
       " 59507972,\n",
       " 59557085,\n",
       " 50406925,\n",
       " 50736883,\n",
       " 51021074,\n",
       " 51153042,\n",
       " 52864337,\n",
       " 54020063,\n",
       " 54325875,\n",
       " 55206854,\n",
       " 55331519,\n",
       " 55557117,\n",
       " 55575670,\n",
       " 55700894,\n",
       " 56504249,\n",
       " 56888186,\n",
       " 58226576,\n",
       " 58231918,\n",
       " 58410688,\n",
       " 58645963,\n",
       " 58895837,\n",
       " 59307024,\n",
       " 59434734,\n",
       " 55681597,\n",
       " 57697281,\n",
       " 53887723,\n",
       " 50356977,\n",
       " 51657622,\n",
       " 51924292,\n",
       " 52546073,\n",
       " 52547146,\n",
       " 53363173,\n",
       " 54379083,\n",
       " 55409720,\n",
       " 55451827,\n",
       " 55603183,\n",
       " 56200127,\n",
       " 56680924,\n",
       " 56745473,\n",
       " 58348130,\n",
       " 58519194,\n",
       " 58778519,\n",
       " 50109176,\n",
       " 51265278,\n",
       " 52022822,\n",
       " 50844750,\n",
       " 51477948,\n",
       " 51718410,\n",
       " 51947296,\n",
       " 52063347,\n",
       " 52138943,\n",
       " 52332522,\n",
       " 52399735,\n",
       " 52974031,\n",
       " 53038880,\n",
       " 53450140,\n",
       " 53474620,\n",
       " 53789417,\n",
       " 54433794,\n",
       " 54651626,\n",
       " 54800318,\n",
       " 54904275,\n",
       " 55058862,\n",
       " 55312260,\n",
       " 55413705,\n",
       " 55748723,\n",
       " 55876844,\n",
       " 56506647,\n",
       " 56749558,\n",
       " 57439643,\n",
       " 57452809,\n",
       " 57474634,\n",
       " 57878445,\n",
       " 57887570,\n",
       " 57953072,\n",
       " 58319427,\n",
       " 58632637,\n",
       " 59379876,\n",
       " 59488278,\n",
       " 53346804,\n",
       " 56991236,\n",
       " 57012952,\n",
       " 50344973,\n",
       " 51233388,\n",
       " 52426022,\n",
       " 52659811,\n",
       " 53207240,\n",
       " 53273158,\n",
       " 53475803,\n",
       " 53780576,\n",
       " 53925537,\n",
       " 54113050,\n",
       " 54232840,\n",
       " 55176260,\n",
       " 55492069,\n",
       " 55573533,\n",
       " 55629622,\n",
       " 55680047,\n",
       " 56801982,\n",
       " 57908576,\n",
       " 58143212,\n",
       " 58706366,\n",
       " 59156265,\n",
       " 59589248,\n",
       " 59616378,\n",
       " 59873070,\n",
       " 54783326,\n",
       " 56510605,\n",
       " 56538372,\n",
       " 57540712,\n",
       " 53776243,\n",
       " 54759244,\n",
       " 59329945,\n",
       " 50580104,\n",
       " 51153135,\n",
       " 52299675,\n",
       " 53613536,\n",
       " 57882993,\n",
       " 59529409,\n",
       " 50319774,\n",
       " 50904351,\n",
       " 51168408,\n",
       " 51300469,\n",
       " 52412265,\n",
       " 53000263,\n",
       " 53131726,\n",
       " 53351384,\n",
       " 53400246,\n",
       " 53743811,\n",
       " 53797803,\n",
       " 54050506,\n",
       " 54861751,\n",
       " 54904335,\n",
       " 55153576,\n",
       " 55610892,\n",
       " 55720395,\n",
       " 56526400,\n",
       " 56817456,\n",
       " 56929753,\n",
       " 57333607,\n",
       " 57447816,\n",
       " 57665537,\n",
       " 58228725,\n",
       " 58371511,\n",
       " 58858468,\n",
       " 58878473,\n",
       " 59693688,\n",
       " 59702344,\n",
       " 50453286,\n",
       " 53148581,\n",
       " 57035793,\n",
       " 57373953,\n",
       " 59067739,\n",
       " 59379638,\n",
       " 59454336,\n",
       " 50093179,\n",
       " 50354419,\n",
       " 50641273,\n",
       " 50920770,\n",
       " 50956811,\n",
       " 51259731,\n",
       " 51345585,\n",
       " 51347202,\n",
       " 51351077,\n",
       " 51788121,\n",
       " 51820068,\n",
       " 51830719,\n",
       " 51842805,\n",
       " 52240207,\n",
       " 52361758,\n",
       " 52367439,\n",
       " 52606958,\n",
       " 52994496,\n",
       " 53018485,\n",
       " 53354417,\n",
       " 53358228,\n",
       " 54028344,\n",
       " 54655485,\n",
       " 54830140,\n",
       " 54900154,\n",
       " 55135726,\n",
       " 55316579,\n",
       " 55339618,\n",
       " 55876368,\n",
       " 55966450,\n",
       " 56055109,\n",
       " 56081681,\n",
       " 56231194,\n",
       " 56492056,\n",
       " 56512741,\n",
       " 56556080,\n",
       " 56721487,\n",
       " 56833050,\n",
       " 56836177,\n",
       " 56998787,\n",
       " 57429813,\n",
       " 57951979,\n",
       " 58198532,\n",
       " 58306324,\n",
       " 58495524,\n",
       " 58680008,\n",
       " 58757097,\n",
       " 59116034,\n",
       " 59669144,\n",
       " 59787158,\n",
       " 59862902,\n",
       " 59915934,\n",
       " 59918608,\n",
       " 59968351,\n",
       " 51009376,\n",
       " 54526081,\n",
       " 55799349,\n",
       " 55812727,\n",
       " 56546504,\n",
       " 50270173,\n",
       " 50830952,\n",
       " 51189125,\n",
       " 54073075,\n",
       " 54331436,\n",
       " 54712047,\n",
       " 50447060,\n",
       " 51871239,\n",
       " 51927179,\n",
       " 52305481,\n",
       " 53053945,\n",
       " 53357801,\n",
       " 53417168,\n",
       " 53546263,\n",
       " 53940581,\n",
       " 54400622,\n",
       " 55496973,\n",
       " 55528477,\n",
       " 55832727,\n",
       " 56272498,\n",
       " 56497798,\n",
       " 56883120,\n",
       " 57077344,\n",
       " 57242265,\n",
       " 58039737,\n",
       " 58107496,\n",
       " 58568223,\n",
       " 58789863,\n",
       " 59371598,\n",
       " 51183691,\n",
       " 53966692,\n",
       " 55303396,\n",
       " 56825873,\n",
       " 57936326,\n",
       " 58340193,\n",
       " 51819517,\n",
       " 52081127,\n",
       " 54082940,\n",
       " 55908245,\n",
       " 57798512,\n",
       " 58916510,\n",
       " ...]"
      ]
     },
     "execution_count": 34,
     "metadata": {},
     "output_type": "execute_result"
    }
   ],
   "source": [
    "dataset['data_split']['hold_uids']"
   ]
  },
  {
   "cell_type": "code",
   "execution_count": 20,
   "metadata": {},
   "outputs": [
    {
     "data": {
      "text/plain": [
       "array({'filenames': ['files/p10/p10000032/s50414267/02aa804e-bde0afdd-112c0b34-7bc16630-4e384014.dcm'], 'text': 'There is no focal consolidation , pleural effusion or pneumothorax . Bilateral nodular opacities that most likely represent nipple shadows . The cardiomediastinal silhouette is normal . Clips project over the left lung , potentially within the breast . The imaged upper abdomen is unremarkable . Chronic deformity of the posterior left NUMBER and NUMBER ribs are noted . No acute cardiopulmonary process .', 'split': 0, 'official_split': 0, 'token_ids': [1, 4, 5, 6, 7, 8, 9, 10, 11, 12, 13, 14, 15, 16, 17, 18, 19, 20, 21, 22, 23, 24, 5, 25, 26, 27, 28, 22, 29, 30, 31, 32, 22, 33, 22, 34, 35, 36, 5, 37, 38, 39, 40, 22, 41, 29, 42, 43, 42, 44, 45, 46, 6, 47, 48, 49, 2]},\n",
       "      dtype=object)"
      ]
     },
     "execution_count": 20,
     "metadata": {},
     "output_type": "execute_result"
    }
   ],
   "source": [
    "np.array(dataset['data_dict'][50414267]) ## check sample dict"
   ]
  },
  {
   "cell_type": "code",
   "execution_count": 8,
   "metadata": {},
   "outputs": [],
   "source": [
    "### dataset used for classification ###\n",
    "data_dir = '/media/My1TBSSD1/MIMIC-CXR'\n",
    "with open(os.path.join(data_dir, 'lm_reports/class_label_mit.pkl'), 'rb') as f:\n",
    "        dataset2 = pickle.load(f)"
   ]
  },
  {
   "cell_type": "code",
   "execution_count": 21,
   "metadata": {},
   "outputs": [
    {
     "data": {
      "text/plain": [
       "dict_keys(['label', 'split', 'image'])"
      ]
     },
     "execution_count": 21,
     "metadata": {},
     "output_type": "execute_result"
    }
   ],
   "source": [
    "dataset2.keys()"
   ]
  },
  {
   "cell_type": "code",
   "execution_count": 16,
   "metadata": {},
   "outputs": [
    {
     "name": "stdout",
     "output_type": "stream",
     "text": [
      "217246\n",
      "1999\n",
      "3000\n",
      "3041\n"
     ]
    }
   ],
   "source": [
    "print(len(dataset2['split']['train']))\n",
    "print(len(dataset2['split']['val1']))\n",
    "print(len(dataset2['split']['val2']))\n",
    "print(len(dataset2['split']['test']))"
   ]
  },
  {
   "cell_type": "code",
   "execution_count": 63,
   "metadata": {},
   "outputs": [
    {
     "name": "stdout",
     "output_type": "stream",
     "text": [
      "{'filenames': ['files/p15/p15110754/s52961869/4a52fd15-65b80b8e-84429afe-49c102fc-1c45957c.dcm'], 'text': 'Frontal and lateral views of the chest were obtained . The lungs are well expanded and clear , without focal consolidation , pleural effusion or pneumothorax . Pulmonary vasculature is engorged without overt pulmonary edema . Left pacemaker leads end in the expected locations of the right atrium and right ventricle . The heart is moderate enlarged . The aorta is tortuous , as described on the prior reports , but comparison can not be made in the absence of the prior images . Vascular congestion without overt pulmonary edema . No pneumonia .', 'split': 0, 'official_split': 0, 'token_ids': [1, 72, 43, 87, 88, 40, 22, 74, 256, 453, 22, 56, 45, 334, 494, 43, 57, 327, 7, 8, 9, 10, 11, 12, 54, 55, 5, 540, 327, 328, 54, 131, 29, 469, 1286, 1592, 107, 22, 449, 1071, 40, 22, 79, 779, 43, 79, 472, 22, 82, 5, 316, 267, 22, 318, 5, 321, 119, 530, 148, 22, 121, 2226, 167, 258, 793, 183, 180, 694, 107, 22, 617, 40, 22, 121, 410, 97, 151, 327, 328, 54, 131, 6, 111, 2]}\n",
      "[0 0 0 0 0 0 0 0 0 0 0 0 0 0]\n"
     ]
    }
   ],
   "source": [
    "pp = 52961869\n",
    "print(np.array(dataset2['image'][pp]))\n",
    "print(dataset2['label'][pp])"
   ]
  },
  {
   "cell_type": "code",
   "execution_count": null,
   "metadata": {},
   "outputs": [],
   "source": []
  },
  {
   "cell_type": "code",
   "execution_count": 27,
   "metadata": {
    "collapsed": true,
    "jupyter": {
     "outputs_hidden": true
    }
   },
   "outputs": [
    {
     "name": "stdout",
     "output_type": "stream",
     "text": [
      "[False False  True  True False False False False False False  True False\n",
      " False  True False False False False False False False False False False\n",
      " False False  True False False False False False False False  True False\n",
      " False  True  True  True False False False False False False False False\n",
      " False  True False False False False False False False]\n",
      "[False False  True  True False False False False False False  True False\n",
      " False  True False False False False False False False False False False\n",
      " False False  True False False False False False False False  True False\n",
      " False  True  True  True False False False False False False False False\n",
      " False  True False False False False False False False]\n",
      "[-1 -1  5  6 -1 -1 -1 -1 -1 -1 13 -1 -1 16 -1 -1 -1 -1 -1 -1 -1 -1 -1 -1\n",
      " -1 -1 28 -1 -1 -1 -1 -1 -1 -1 22 -1 -1 36  5 37 -1 -1 -1 -1 -1 -1 -1 -1\n",
      " -1 44 -1 -1 -1 -1 -1 -1 -1]\n",
      "[   1    4 8410 8410    7    8    9   10   11   12 8410   14   15 8410\n",
      "   17   18   19   20   21   22   23   24    5   25   26   27 8410   22\n",
      "   29   30   31   32   22   33 8410   34   35 8410 8410 8410   38   39\n",
      "   40   22   41   29   42   43   42   44   45   46    6   47   48   49\n",
      "    2]\n",
      "[   1    4 8410 8410    7    8    9   10   11   12 8410   14   15  434\n",
      "   17   18   19   20   21   22   23   24    5   25   26   27 8410   22\n",
      "   29   30   31   32   22   33 8410   34   35 2142 8410 7788   38   39\n",
      "   40   22   41   29   42   43   42   44   45   46    6   47   48   49\n",
      "    2]\n",
      "[0. 0. 1. 1. 0. 0. 0. 0. 0. 0. 1. 0. 0. 1. 0. 0. 0. 0. 0. 0. 0. 0. 0. 0.\n",
      " 0. 0. 1. 0. 0. 0. 0. 0. 0. 0. 1. 0. 0. 1. 1. 1. 0. 0. 0. 0. 0. 0. 0. 0.\n",
      " 0. 1. 0. 0. 0. 0. 0. 0. 0.]\n",
      "[ 1  4  5  6  7  8  9 10 11 12 13 14 15 16 17 18 19 20 21 22 23 24  5 25\n",
      " 26 27 28 22 29 30 31 32 22 33 22 34 35 36  5 37 38 39 40 22 41 29 42 43\n",
      " 42 44 45 46  6 47 48 49  2]\n"
     ]
    }
   ],
   "source": [
    "# 15% BERT masking\n",
    "inp_mask = np.random.rand(*encoded_texts.shape) < 0.15\n",
    "print(inp_mask)\n",
    "# Do not mask special tokens\n",
    "inp_mask[encoded_texts <= 3] = False\n",
    "print(inp_mask)\n",
    "# Set targets to -1 by default, it means ignore\n",
    "labels = -1 * np.ones(encoded_texts.shape, dtype=int)\n",
    "# Set labels for masked tokens\n",
    "labels[inp_mask] = encoded_texts[inp_mask]\n",
    "print(labels)\n",
    "\n",
    "# Prepare input\n",
    "encoded_texts_masked = np.copy(encoded_texts)\n",
    "# Set input to [MASK] which is the last token for the 90% of tokens\n",
    "# This means leaving 10% unchanged\n",
    "inp_mask_2mask = inp_mask & (np.random.rand(*encoded_texts.shape) < 0.90)\n",
    "encoded_texts_masked[\n",
    "    inp_mask_2mask\n",
    "] = 8410  # mask token is the last in the dict\n",
    "print(encoded_texts_masked)\n",
    "# Set 10% to a random token\n",
    "inp_mask_2random = inp_mask_2mask & (np.random.rand(*encoded_texts.shape) < 1 / 9)\n",
    "encoded_texts_masked[inp_mask_2random] = np.random.randint(\n",
    "    4, 8410, inp_mask_2random.sum()\n",
    ")\n",
    "print(encoded_texts_masked)\n",
    "# Prepare sample_weights to pass to .fit() method\n",
    "sample_weights = np.ones(labels.shape)\n",
    "sample_weights[labels == -1] = 0\n",
    "print(sample_weights)\n",
    "# y_labels would be same as encoded_texts i.e input tokens\n",
    "y_labels = np.copy(encoded_texts)\n",
    "print(y_labels)"
   ]
  },
  {
   "cell_type": "code",
   "execution_count": 89,
   "metadata": {
    "collapsed": true,
    "jupyter": {
     "outputs_hidden": true
    }
   },
   "outputs": [
    {
     "data": {
      "text/plain": [
       "array([[[4, 4, 5, 4, 7],\n",
       "        [2, 4, 9, 4, 9],\n",
       "        [0, 0, 6, 9, 7]],\n",
       "\n",
       "       [[2, 8, 1, 7, 7],\n",
       "        [2, 4, 0, 7, 9],\n",
       "        [5, 5, 2, 3, 9]],\n",
       "\n",
       "       [[0, 6, 8, 5, 3],\n",
       "        [4, 2, 1, 6, 7],\n",
       "        [1, 7, 3, 7, 6]],\n",
       "\n",
       "       [[6, 1, 0, 4, 2],\n",
       "        [3, 2, 8, 5, 6],\n",
       "        [7, 5, 2, 8, 8]]])"
      ]
     },
     "execution_count": 89,
     "metadata": {},
     "output_type": "execute_result"
    }
   ],
   "source": [
    "dd = np.random.randint(0,10,(4,3,5))\n",
    "dd"
   ]
  },
  {
   "cell_type": "code",
   "execution_count": 90,
   "metadata": {},
   "outputs": [
    {
     "data": {
      "text/plain": [
       "array([[0, 0, 1, 2, 1],\n",
       "       [2, 0, 2, 0, 1],\n",
       "       [1, 2, 0, 2, 1],\n",
       "       [2, 2, 1, 2, 2]])"
      ]
     },
     "execution_count": 90,
     "metadata": {},
     "output_type": "execute_result"
    }
   ],
   "source": [
    "np.argmax(dd, axis=1)"
   ]
  },
  {
   "cell_type": "code",
   "execution_count": 91,
   "metadata": {},
   "outputs": [
    {
     "name": "stdout",
     "output_type": "stream",
     "text": [
      "[0 1 2 3 4 5 6 7 8 9]\n",
      "[-1 -1  2 -1  1 -1  6  7 -1  5]\n",
      "[False False  True False  True False  True  True False  True]\n",
      "0.6\n"
     ]
    }
   ],
   "source": [
    "p = np.array([0,1,2,3,4,5,6,7,8,9], dtype=int)\n",
    "t = np.array([-1,-1,2,-1,1,-1,6,7,-1,5], dtype=int)\n",
    "b = t != -1\n",
    "acc = np.sum(p[b]==t[b]) / np.sum(b)\n",
    "print(p)\n",
    "print(t)\n",
    "print(b)\n",
    "print(acc)"
   ]
  },
  {
   "cell_type": "code",
   "execution_count": null,
   "metadata": {},
   "outputs": [],
   "source": [
    "#### testing the pretraining loading ####"
   ]
  },
  {
   "cell_type": "code",
   "execution_count": 22,
   "metadata": {},
   "outputs": [],
   "source": [
    "from model_phrase_mlm import TextEncoder, ImageEncoder\n",
    "from misc.config import Config\n",
    "from transformers import BertConfig #, BertTokenizer\n",
    "\n",
    "cfg = Config()"
   ]
  },
  {
   "cell_type": "code",
   "execution_count": 24,
   "metadata": {},
   "outputs": [],
   "source": [
    "bert_config = BertConfig(vocab_size=8411, hidden_size=512, num_hidden_layers=3,\n",
    "                    num_attention_heads=8, intermediate_size=2048, hidden_act='gelu',\n",
    "                    hidden_dropout_prob=cfg.hidden_dropout_prob, attention_probs_dropout_prob=cfg.attention_probs_dropout_prob,\n",
    "                    max_position_embeddings=512, layer_norm_eps=1e-12,\n",
    "                    initializer_range=0.02, type_vocab_size=2, pad_token_id=0)"
   ]
  },
  {
   "cell_type": "code",
   "execution_count": 25,
   "metadata": {},
   "outputs": [],
   "source": [
    "text_encoder = TextEncoder(bert_config = bert_config, output_channels=cfg.hidden_dim)"
   ]
  },
  {
   "cell_type": "code",
   "execution_count": 17,
   "metadata": {},
   "outputs": [],
   "source": [
    "#### load pytorch model params (.pth) with different keys name ####\n",
    "mlm_encoder_path = '/media/My1TBSSD1/IPMI2021/output/MIMIC_mlm_2021_02_24_19_58_21/Model/text_encoder.pth'\n",
    "state_dict = torch.load(mlm_encoder_path, map_location='cpu')"
   ]
  },
  {
   "cell_type": "code",
   "execution_count": 37,
   "metadata": {},
   "outputs": [
    {
     "data": {
      "text/plain": [
       "_IncompatibleKeys(missing_keys=['bigram.weight', 'bigram.bias', 'norm.weight', 'norm.bias', 'trigram.weight', 'trigram.bias', 'sent_fc.weight', 'sent_fc.bias', 'word_fc.weight', 'word_fc.bias', 'bigram_fc.weight', 'bigram_fc.bias', 'trigram_fc.weight', 'trigram_fc.bias'], unexpected_keys=['transform.weight', 'transform.bias', 'LayerNorm.weight', 'LayerNorm.bias', 'mlm.weight', 'mlm.bias'])"
      ]
     },
     "execution_count": 37,
     "metadata": {},
     "output_type": "execute_result"
    }
   ],
   "source": [
    "## load checkpoint from MLM model ##\n",
    "text_encoder.load_state_dict(state_dict['model'], strict=False)"
   ]
  },
  {
   "cell_type": "code",
   "execution_count": 97,
   "metadata": {},
   "outputs": [
    {
     "name": "stdout",
     "output_type": "stream",
     "text": [
      "b4.x\n",
      "b5.y\n",
      "b6.z\n"
     ]
    }
   ],
   "source": [
    "txt_list = ['a1.x', 'a2.y', 'a3.z', 'b4.x', 'b5.y', 'b6.z', 'c7.x', 'c8.y', 'c9.z']\n",
    "for x in txt_list:\n",
    "    if ('a' not in x) and ('c' not in x):\n",
    "        print(x)"
   ]
  },
  {
   "cell_type": "code",
   "execution_count": null,
   "metadata": {},
   "outputs": [],
   "source": []
  },
  {
   "cell_type": "code",
   "execution_count": null,
   "metadata": {},
   "outputs": [],
   "source": []
  },
  {
   "cell_type": "code",
   "execution_count": 2,
   "metadata": {},
   "outputs": [],
   "source": [
    "## few shot openi dataset"
   ]
  },
  {
   "cell_type": "code",
   "execution_count": 46,
   "metadata": {},
   "outputs": [],
   "source": [
    "data_dir = '/home/ipmi/data/ChestXRay/dataset/'\n",
    "img_dir = os.path.join(data_dir, 'images', 'images_normalized')\n",
    "with open('/home/ipmi/data/ChestXRay/dataset/cleaned_dataset_v3.pickle','rb') as f:\n",
    "    dataset = pickle.load(f)"
   ]
  },
  {
   "cell_type": "code",
   "execution_count": 47,
   "metadata": {},
   "outputs": [
    {
     "data": {
      "text/plain": [
       "dict_keys(['data_dict', 'data_split', 'word2idx', 'idx2word', 'classes', 'few_shot'])"
      ]
     },
     "execution_count": 47,
     "metadata": {},
     "output_type": "execute_result"
    }
   ],
   "source": [
    "dataset.keys()"
   ]
  },
  {
   "cell_type": "code",
   "execution_count": 48,
   "metadata": {},
   "outputs": [
    {
     "data": {
      "text/plain": [
       "dict_keys(['fewshot1', 'fewshot5', 'test1', 'test5'])"
      ]
     },
     "execution_count": 48,
     "metadata": {},
     "output_type": "execute_result"
    }
   ],
   "source": [
    "dataset['few_shot'].keys()"
   ]
  },
  {
   "cell_type": "code",
   "execution_count": 5,
   "metadata": {},
   "outputs": [
    {
     "data": {
      "text/plain": [
       "array({'filenames': ['3750_IM-1874-1001.dcm.png'], 'text': 'there is stable cardiomegaly. right pleural effusion is slightly increased in size. pulmonary vasculature is persistently enlarged. prominent interstitium is stable. no  focal infiltrate. no pneumothorax. visualized osseous structures intact.', 'split': 0, 'token_ids': [1, 4, 5, 152, 333, 79, 9, 10, 5, 354, 556, 107, 83, 54, 55, 5, 1533, 267, 379, 2066, 5, 152, 6, 7, 810, 6, 12, 171, 116, 117, 118, 2]},\n",
       "      dtype=object)"
      ]
     },
     "execution_count": 5,
     "metadata": {},
     "output_type": "execute_result"
    }
   ],
   "source": [
    "np.array(dataset['data_dict'][3750])"
   ]
  },
  {
   "cell_type": "code",
   "execution_count": 6,
   "metadata": {},
   "outputs": [
    {
     "data": {
      "text/plain": [
       "['edema', 'cardiomegaly', 'effusion']"
      ]
     },
     "execution_count": 6,
     "metadata": {},
     "output_type": "execute_result"
    }
   ],
   "source": [
    "dataset['classes'][3750]"
   ]
  },
  {
   "cell_type": "code",
   "execution_count": 7,
   "metadata": {},
   "outputs": [],
   "source": [
    "imgfile = os.path.join('/home/ipmi/data/ChestXRay/dataset/images/images_normalized', dataset['data_dict'][3750]['filenames'][0])\n",
    "img = Image.open(imgfile)"
   ]
  },
  {
   "cell_type": "code",
   "execution_count": 10,
   "metadata": {
    "collapsed": true,
    "jupyter": {
     "outputs_hidden": true
    }
   },
   "outputs": [
    {
     "data": {
      "text/plain": [
       "<matplotlib.image.AxesImage at 0x7fe65266c7d0>"
      ]
     },
     "execution_count": 10,
     "metadata": {},
     "output_type": "execute_result"
    },
    {
     "data": {
      "image/png": "[encoded data removed]",
      "text/plain": [
       "<Figure size 432x288 with 1 Axes>"
      ]
     },
     "metadata": {
      "needs_background": "light"
     },
     "output_type": "display_data"
    }
   ],
   "source": [
    "plt.imshow(img, cmap='gray')"
   ]
  },
  {
   "cell_type": "code",
   "execution_count": 9,
   "metadata": {},
   "outputs": [],
   "source": [
    "iu_cls = {'no finding':8\n",
    "            ,'edema':3\n",
    "            ,'consolidation':2\n",
    "            ,'pneumonia':11\n",
    "            ,'pneumothorax':12\n",
    "            ,'atelectasis':0\n",
    "            ,'cardiomegaly':1\n",
    "            ,'effusion':9}\n",
    "\n",
    "iu_idx = {0:'atelectasis'\n",
    "            ,1:'cardiomegaly'\n",
    "            ,9:'effusion'\n",
    "            ,3:'edema'\n",
    "            ,2:'consolidation'\n",
    "            ,11:'pneumonia'\n",
    "            ,12:'pneumothorax'\n",
    "            ,8:'no finding'}"
   ]
  },
  {
   "cell_type": "code",
   "execution_count": 26,
   "metadata": {},
   "outputs": [],
   "source": [
    "## 5 shot\n",
    "few_shot_5 = []\n",
    "\n",
    "for k in list(iu_cls.keys()):\n",
    "    few_shot_5.extend(np.random.choice([i for i in list(dataset['classes'].keys()) if k in dataset['classes'][i]], 5, replace=False).tolist())\n",
    "    "
   ]
  },
  {
   "cell_type": "code",
   "execution_count": 30,
   "metadata": {
    "collapsed": true,
    "jupyter": {
     "outputs_hidden": true
    },
    "scrolled": true
   },
   "outputs": [
    {
     "name": "stdout",
     "output_type": "stream",
     "text": [
      "1663 ['no finding']\n",
      "0141 ['no finding']\n",
      "2068 ['no finding']\n",
      "0049 ['no finding']\n",
      "2078 ['no finding']\n",
      "2615 ['edema', 'cardiomegaly', 'effusion']\n",
      "2055 ['edema', 'atelectasis', 'effusion']\n",
      "2082 ['edema', 'cardiomegaly']\n",
      "0353 ['edema', 'effusion']\n",
      "1898 ['edema', 'cardiomegaly']\n",
      "1740 ['consolidation']\n",
      "0825 ['consolidation', 'atelectasis', 'cardiomegaly']\n",
      "1422 ['consolidation', 'pneumonia']\n",
      "3130 ['consolidation', 'cardiomegaly']\n",
      "0394 ['consolidation']\n",
      "1226 ['consolidation', 'pneumonia']\n",
      "3895 ['pneumonia']\n",
      "0268 ['pneumonia']\n",
      "1430 ['pneumonia', 'atelectasis', 'effusion']\n",
      "0945 ['consolidation', 'pneumonia', 'atelectasis']\n",
      "3378 ['pneumothorax']\n",
      "1326 ['pneumothorax']\n",
      "3945 ['pneumothorax', 'atelectasis', 'atelectasis', 'effusion']\n",
      "2482 ['pneumothorax', 'atelectasis']\n",
      "1525 ['pneumothorax', 'atelectasis']\n",
      "0418 ['atelectasis']\n",
      "0535 ['atelectasis']\n",
      "1919 ['atelectasis']\n",
      "3241 ['atelectasis']\n",
      "0455 ['atelectasis']\n",
      "0847 ['cardiomegaly']\n",
      "1053 ['atelectasis', 'cardiomegaly']\n",
      "1204 ['cardiomegaly']\n",
      "0910 ['cardiomegaly']\n",
      "3690 ['cardiomegaly']\n",
      "0145 ['effusion']\n",
      "1043 ['atelectasis', 'effusion']\n",
      "0073 ['atelectasis', 'effusion']\n",
      "0105 ['effusion']\n",
      "2220 ['effusion']\n"
     ]
    }
   ],
   "source": [
    "for i in few_shot_5:\n",
    "    print('%04d' % i, dataset['classes'][i])"
   ]
  },
  {
   "cell_type": "code",
   "execution_count": 32,
   "metadata": {},
   "outputs": [],
   "source": [
    "test_few_shot_5 = list(dataset['classes'].keys())\n",
    "\n",
    "for e in few_shot_5:\n",
    "    test_few_shot_5.remove(e)\n"
   ]
  },
  {
   "cell_type": "code",
   "execution_count": 37,
   "metadata": {},
   "outputs": [],
   "source": [
    "# 1 shot\n",
    "few_shot_1 = []\n",
    "\n",
    "for k in list(iu_cls.keys()):\n",
    "    few_shot_1.append(np.random.choice([i for i in list(dataset['classes'].keys()) if k in dataset['classes'][i]]).tolist())\n"
   ]
  },
  {
   "cell_type": "code",
   "execution_count": 38,
   "metadata": {},
   "outputs": [
    {
     "name": "stdout",
     "output_type": "stream",
     "text": [
      "2179 ['no finding']\n",
      "2657 ['edema', 'effusion']\n",
      "0313 ['consolidation', 'effusion']\n",
      "2207 ['pneumonia']\n",
      "1021 ['pneumothorax', 'atelectasis']\n",
      "1542 ['atelectasis']\n",
      "1637 ['cardiomegaly']\n",
      "3877 ['effusion']\n"
     ]
    }
   ],
   "source": [
    "for i in few_shot_1:\n",
    "    print('%04d' % i, dataset['classes'][i])"
   ]
  },
  {
   "cell_type": "code",
   "execution_count": 39,
   "metadata": {},
   "outputs": [],
   "source": [
    "test_few_shot_1 = list(dataset['classes'].keys())\n",
    "\n",
    "for e in few_shot_1:\n",
    "    test_few_shot_1.remove(e)"
   ]
  },
  {
   "cell_type": "code",
   "execution_count": 40,
   "metadata": {},
   "outputs": [
    {
     "data": {
      "text/plain": [
       "3658"
      ]
     },
     "execution_count": 40,
     "metadata": {},
     "output_type": "execute_result"
    }
   ],
   "source": [
    "len(test_few_shot_1)"
   ]
  },
  {
   "cell_type": "code",
   "execution_count": 41,
   "metadata": {},
   "outputs": [],
   "source": [
    "few_shot = {'fewshot1': few_shot_1,\n",
    "            'fewshot5': few_shot_5,\n",
    "            'test1': test_few_shot_1,\n",
    "            'test5': test_few_shot_5}\n",
    "\n",
    "dataset['few_shot'] = few_shot"
   ]
  },
  {
   "cell_type": "code",
   "execution_count": 44,
   "metadata": {},
   "outputs": [],
   "source": [
    "data_dir = '/home/ipmi/data/ChestXRay/dataset/'\n",
    "img_dir = os.path.join(data_dir, 'images', 'images_normalized')\n",
    "\n",
    "with open('/home/ipmi/data/ChestXRay/dataset/cleaned_dataset_v3.pickle','wb') as f:\n",
    "    pickle.dump(dataset, f)"
   ]
  },
  {
   "cell_type": "code",
   "execution_count": null,
   "metadata": {},
   "outputs": [],
   "source": []
  },
  {
   "cell_type": "code",
   "execution_count": 50,
   "metadata": {},
   "outputs": [
    {
     "data": {
      "text/plain": [
       "0.9729857142857143"
      ]
     },
     "execution_count": 50,
     "metadata": {},
     "output_type": "execute_result"
    }
   ],
   "source": [
    "cc = np.array([0.9854,\n",
    "                0.9624,\n",
    "                0.975,\n",
    "                0.9490,\n",
    "                0.9784,\n",
    "                0.9894,\n",
    "                0.9713])\n",
    "wt = np.array([315,\n",
    "                40,\n",
    "                28,\n",
    "                36,\n",
    "                293,\n",
    "                22,\n",
    "                140])\n",
    "\n",
    "# cc @ (wt / wt.sum())\n",
    "cc.mean()"
   ]
  },
  {
   "cell_type": "code",
   "execution_count": null,
   "metadata": {},
   "outputs": [],
   "source": [
    "# 1\n",
    "atelectasis: 0.9703\n",
    "cardiomegaly: 0.9867\n",
    "consolidation: 0.9755\n",
    "edema: 0.9679\n",
    "no finding: 0.9404\n",
    "effusion: 0.9712\n",
    "pneumonia: 0.9449\n",
    "pneumothorax: 0.9800\n",
    "Avg: 0.9709\n",
    "wAvg: 0.9758\n",
    "    \n",
    "# 2\n",
    "atelectasis: 0.9759\n",
    "cardiomegaly: 0.9863\n",
    "consolidation: 0.9738\n",
    "edema: 0.9652\n",
    "no finding: 0.9528\n",
    "effusion: 0.9714\n",
    "pneumonia: 0.9473\n",
    "pneumothorax: 0.9791\n",
    "Avg: 0.9713\n",
    "wAvg: 0.9775\n",
    "    \n",
    "# 3\n",
    "atelectasis: 0.9784\n",
    "cardiomegaly: 0.9854\n",
    "consolidation: 0.9716\n",
    "edema: 0.9624\n",
    "no finding: 0.9608\n",
    "effusion: 0.9713\n",
    "pneumonia: 0.9490\n",
    "pneumothorax: 0.9784\n",
    "Avg: 0.9709\n",
    "wAvg: 0.9779\n",
    "    \n",
    "# 4\n",
    "atelectasis: 0.9798\n",
    "cardiomegaly: 0.9844\n",
    "consolidation: 0.9691\n",
    "edema: 0.9599\n",
    "no finding: 0.9662\n",
    "effusion: 0.9712\n",
    "pneumonia: 0.9485\n",
    "pneumothorax: 0.9783\n",
    "Avg: 0.9702\n",
    "wAvg: 0.9778\n",
    "    \n",
    "# 5\n",
    "atelectasis: 0.9806\n",
    "cardiomegaly: 0.9834\n",
    "consolidation: 0.9668\n",
    "edema: 0.9574\n",
    "no finding: 0.9691\n",
    "effusion: 0.9712\n",
    "pneumonia: 0.9481\n",
    "pneumothorax: 0.9784\n",
    "Avg: 0.9694\n",
    "wAvg: 0.9775\n",
    "    \n",
    "# 6\n",
    "atelectasis: 0.9811\n",
    "cardiomegaly: 0.9825\n",
    "consolidation: 0.9644\n",
    "edema: 0.9556\n",
    "no finding: 0.9706\n",
    "effusion: 0.9714\n",
    "pneumonia: 0.9467\n",
    "pneumothorax: 0.9787\n",
    "Avg: 0.9686\n",
    "wAvg: 0.9772\n",
    "    \n",
    "# 7\n",
    "atelectasis: 0.9814\n",
    "cardiomegaly: 0.9816\n",
    "consolidation: 0.9619\n",
    "edema: 0.9545\n",
    "no finding: 0.9714\n",
    "effusion: 0.9716\n",
    "pneumonia: 0.9451\n",
    "pneumothorax: 0.9789\n",
    "Avg: 0.9678\n",
    "wAvg: 0.9768"
   ]
  }
 ],
 "metadata": {
  "kernelspec": {
   "display_name": "Python 3",
   "language": "python",
   "name": "python3"
  },
  "language_info": {
   "codemirror_mode": {
    "name": "ipython",
    "version": 3
   },
   "file_extension": ".py",
   "mimetype": "text/x-python",
   "name": "python",
   "nbconvert_exporter": "python",
   "pygments_lexer": "ipython3",
   "version": "3.7.7"
  }
 },
 "nbformat": 4,
 "nbformat_minor": 4
}
