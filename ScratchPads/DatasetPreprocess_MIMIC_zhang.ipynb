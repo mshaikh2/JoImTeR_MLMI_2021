{
 "cells": [
  {
   "cell_type": "code",
   "execution_count": 1,
   "metadata": {},
   "outputs": [],
   "source": [
    "from __future__ import print_function\n",
    "\n",
    "# from miscc.config import cfg, cfg_from_file\n",
    "# from datasets import TextDataset\n",
    "from trainer import JoImTeR as trainer\n",
    "import pickle \n",
    "import os\n",
    "import sys\n",
    "import time\n",
    "import math\n",
    "import random\n",
    "import pprint\n",
    "import datetime\n",
    "import dateutil.tz\n",
    "import argparse\n",
    "import numpy as np\n",
    "import pandas as pd\n",
    "from ast import literal_eval\n",
    "pd.options.display.max_colwidth=0\n",
    "from misc.config import Config\n",
    "cfg = Config()\n",
    "import json\n",
    "from PIL import Image\n",
    "\n",
    "from tqdm import tqdm\n",
    "import torch\n",
    "import torchvision.transforms as transforms"
   ]
  },
  {
   "cell_type": "code",
   "execution_count": 2,
   "metadata": {},
   "outputs": [],
   "source": [
    "'''\n",
    "Helper functions in MIT code for loading csv file with eval()\n",
    "Below are just helper functions\n",
    "'''\n",
    "# to streamline the writing of the dataframe\n",
    "def write_dataframe(df, filepath):\n",
    "    df.to_csv(filepath, sep='\\t', encoding='utf-8', index=False)\n",
    "\n",
    "# to streamline the reading of the dataframe\n",
    "def read_dataframe(filepath):\n",
    "    df = pd.read_csv(filepath, sep='\\t')\n",
    "    def literal_eval_col(row, col_name):\n",
    "        col = row[col_name]\n",
    "        col = literal_eval(col)\n",
    "        return col\n",
    "    df['report'] = df.apply(literal_eval_col, args=('report',), axis=1)\n",
    "    if 'origin_section' in df.columns:\n",
    "        df['origin_section'] = df.apply(literal_eval_col, args=('origin_section',), axis=1)\n",
    "    if 'normalized_report' in df.columns:\n",
    "        df['normalized_report'] = df.apply(literal_eval_col, args=('normalized_report',), axis=1)\n",
    "    #df['edema_severity'] = df.apply(literal_eval_col, args=('edema_severity',), axis=1)\n",
    "    # metadata is a dictionary which is written into the csv format as a string\n",
    "    # but in order to be treated as a dictionary it needs to be evaluated\n",
    "    return df\n",
    "\n",
    "# The goal here is to make sure that the df that is written into memory is the same one that is read\n",
    "def check_equality_of_written_and_read_df(df, df_copy):\n",
    "    bool_equality = df.equals(df_copy)\n",
    "    # to double check, we want to check with every column\n",
    "    bool_every_column = True\n",
    "    for idx in range(len(df)):\n",
    "        row1 = df.iloc[idx]\n",
    "        row2 = df_copy.iloc[idx]\n",
    "        # for any column names (grab the column names), then compare for all of them and print the \n",
    "        # column name where they differ\n",
    "        if not np.array_equal(row1.index, row2.index):\n",
    "            print(\"The two dataframes must have identical columns with their order!\")\n",
    "            return\n",
    "        columns = row1.index\n",
    "        for column_name in columns:\n",
    "            if row1[column_name] != row2[column_name]:\n",
    "                print(\"The dataframes differ in column: \", column_name)\n",
    "                bool_every_column = False\n",
    "                return bool_equality, bool_every_column\n",
    "    return bool_equality, bool_every_column\n",
    "\n",
    "# remove any additional whitespace within a line\n",
    "def remove_whitespace(line):\n",
    "    return str(\" \".join(line.split()).strip())\n",
    "\n",
    "# get a dictionary, return a string\n",
    "# used to convert normalized report to 1 long sentence\n",
    "def extract_report_from_normalized(normalized_report):\n",
    "    return \" \".join(normalized_report['sentences'])"
   ]
  },
  {
   "cell_type": "markdown",
   "metadata": {},
   "source": [
    "# Dataset"
   ]
  },
  {
   "cell_type": "code",
   "execution_count": 3,
   "metadata": {},
   "outputs": [
    {
     "data": {
      "text/plain": [
       "'/media/My1TBSSD1/IPMI2021/code'"
      ]
     },
     "execution_count": 3,
     "metadata": {},
     "output_type": "execute_result"
    }
   ],
   "source": [
    "path=os.getcwd() #Get the path\n",
    "path"
   ]
  },
  {
   "cell_type": "code",
   "execution_count": 20,
   "metadata": {
    "scrolled": true
   },
   "outputs": [],
   "source": [
    "frontal_ds = pd.read_csv('/media/MyDataStor2/MIMIC-CXR/frontal_info_mit.csv')\n",
    "lm_report_ds = read_dataframe('/media/MyDataStor2/MIMIC-CXR/lm_reports/original_reports_mit_normalized.csv')"
   ]
  },
  {
   "cell_type": "code",
   "execution_count": 80,
   "metadata": {
    "collapsed": true,
    "jupyter": {
     "outputs_hidden": true
    }
   },
   "outputs": [
    {
     "data": {
      "text/html": [
       "<div>\n",
       "<style scoped>\n",
       "    .dataframe tbody tr th:only-of-type {\n",
       "        vertical-align: middle;\n",
       "    }\n",
       "\n",
       "    .dataframe tbody tr th {\n",
       "        vertical-align: top;\n",
       "    }\n",
       "\n",
       "    .dataframe thead th {\n",
       "        text-align: right;\n",
       "    }\n",
       "</style>\n",
       "<table border=\"1\" class=\"dataframe\">\n",
       "  <thead>\n",
       "    <tr style=\"text-align: right;\">\n",
       "      <th></th>\n",
       "      <th>uid</th>\n",
       "      <th>subject_id</th>\n",
       "      <th>study_id</th>\n",
       "      <th>dicom_id</th>\n",
       "      <th>img</th>\n",
       "      <th>txt</th>\n",
       "      <th>ViewPosition</th>\n",
       "      <th>Rows</th>\n",
       "      <th>Columns</th>\n",
       "      <th>split</th>\n",
       "      <th>official_split</th>\n",
       "    </tr>\n",
       "  </thead>\n",
       "  <tbody>\n",
       "    <tr>\n",
       "      <th>31214</th>\n",
       "      <td>47388</td>\n",
       "      <td>11285576</td>\n",
       "      <td>54979966</td>\n",
       "      <td>03b2e67c-70631ff8-685825fb-6c989456-621ca64d</td>\n",
       "      <td>files/p11/p11285576/s54979966/03b2e67c-70631ff8-685825fb-6c989456-621ca64d.dcm</td>\n",
       "      <td>files/p11/p11285576/s54979966.txt</td>\n",
       "      <td>AP</td>\n",
       "      <td>697</td>\n",
       "      <td>3050</td>\n",
       "      <td>train</td>\n",
       "      <td>train</td>\n",
       "    </tr>\n",
       "    <tr>\n",
       "      <th>33517</th>\n",
       "      <td>50857</td>\n",
       "      <td>11378535</td>\n",
       "      <td>50374044</td>\n",
       "      <td>db9511e3-ee0359ab-489c3556-4a9b2277-c0bf0369</td>\n",
       "      <td>files/p11/p11378535/s50374044/db9511e3-ee0359ab-489c3556-4a9b2277-c0bf0369.dcm</td>\n",
       "      <td>files/p11/p11378535/s50374044.txt</td>\n",
       "      <td>AP</td>\n",
       "      <td>3050</td>\n",
       "      <td>805</td>\n",
       "      <td>train</td>\n",
       "      <td>train</td>\n",
       "    </tr>\n",
       "    <tr>\n",
       "      <th>120390</th>\n",
       "      <td>183446</td>\n",
       "      <td>14887088</td>\n",
       "      <td>54257662</td>\n",
       "      <td>1bc85033-355accce-e8d0ed50-78188cd3-dac92e86</td>\n",
       "      <td>files/p14/p14887088/s54257662/1bc85033-355accce-e8d0ed50-78188cd3-dac92e86.dcm</td>\n",
       "      <td>files/p14/p14887088/s54257662.txt</td>\n",
       "      <td>AP</td>\n",
       "      <td>2539</td>\n",
       "      <td>776</td>\n",
       "      <td>train</td>\n",
       "      <td>train</td>\n",
       "    </tr>\n",
       "  </tbody>\n",
       "</table>\n",
       "</div>"
      ],
      "text/plain": [
       "           uid  subject_id  study_id  \\\n",
       "31214   47388   11285576    54979966   \n",
       "33517   50857   11378535    50374044   \n",
       "120390  183446  14887088    54257662   \n",
       "\n",
       "                                            dicom_id  \\\n",
       "31214   03b2e67c-70631ff8-685825fb-6c989456-621ca64d   \n",
       "33517   db9511e3-ee0359ab-489c3556-4a9b2277-c0bf0369   \n",
       "120390  1bc85033-355accce-e8d0ed50-78188cd3-dac92e86   \n",
       "\n",
       "                                                                                   img  \\\n",
       "31214   files/p11/p11285576/s54979966/03b2e67c-70631ff8-685825fb-6c989456-621ca64d.dcm   \n",
       "33517   files/p11/p11378535/s50374044/db9511e3-ee0359ab-489c3556-4a9b2277-c0bf0369.dcm   \n",
       "120390  files/p14/p14887088/s54257662/1bc85033-355accce-e8d0ed50-78188cd3-dac92e86.dcm   \n",
       "\n",
       "                                      txt ViewPosition  Rows  Columns  split  \\\n",
       "31214   files/p11/p11285576/s54979966.txt  AP           697   3050     train   \n",
       "33517   files/p11/p11378535/s50374044.txt  AP           3050  805      train   \n",
       "120390  files/p14/p14887088/s54257662.txt  AP           2539  776      train   \n",
       "\n",
       "       official_split  \n",
       "31214   train          \n",
       "33517   train          \n",
       "120390  train          "
      ]
     },
     "execution_count": 80,
     "metadata": {},
     "output_type": "execute_result"
    }
   ],
   "source": [
    "## broken images was found\n",
    "## files/p19/p19017919/s50797181/8e5f8df3-4248d575-fd16f8c1-1c69065a-1ac199e9.dcm\n",
    "## files/p18/p18441078/s58044074/15e60dc7-6493889f-d2cb9dba-2c860709-f171bc98.dcm\n",
    "## files/p11/p11673861/s53517205/0491306a-d44bb1cd-36678cdf-ef64aa11-ee9897a2.dcm\n",
    "## files/p15/p15398519/s52897917/6f9899f3-652a0fe6-cb32f8b1-3afb0c85-5a3929f0.dcm\n",
    "## files/p13/p13118941/s54144739/67b68818-61703959-6321083a-ecf0ff32-addd5bc8.jpg\n",
    "## files/p13/p13660399/s52532898/2f2d7a89-161059ab-bf24aaa4-c15f7abb-ea408fee.jpg\n",
    "## files/p14/p14882082/s59150331/5009240f-7dc4006c-4a69d332-00051c01-9179f001.jpg\n",
    "## files/p17/p17198774/s54162995/2d7e35ed-6f80d557-740804a5-c1cdc6f0-5729e6a6.jpg\n",
    "## files/p17/p17199342/s59731194/b3e8c46c-99efe614-59b11837-a870ab41-8e30ceea.jpg\n",
    "## files/p18/p18446282/s54914372/32b63c6b-837955f2-62cd29e6-834d5132-6f9c67d8.jpg\n",
    "## files/p10/p10429567/s50092250/9b638b93-04eb16df-27abce62-5053672d-3a0b750b.jpg\n",
    "## files/p18/p18046197/s54101455/03282542-659da086-ed15e343-f5666add-32d57195.jpg\n",
    "# replaced broken images above\n",
    "## bad image files/p11/p11285576/s54979966/03b2e67c-70631ff8-685825fb-6c989456-621ca64d.dcm\n",
    "## bad image files/p11/p11378535/s50374044/db9511e3-ee0359ab-489c3556-4a9b2277-c0bf0369.dcm\n",
    "## bad image files/p14/p14887088/s54257662/1bc85033-355accce-e8d0ed50-78188cd3-dac92e86.dcm\n",
    "frontal_ds[frontal_ds['img'].isin(['files/p11/p11378535/s50374044/db9511e3-ee0359ab-489c3556-4a9b2277-c0bf0369.dcm',\n",
    "                                  'files/p11/p11285576/s54979966/03b2e67c-70631ff8-685825fb-6c989456-621ca64d.dcm',\n",
    "                                  'files/p14/p14887088/s54257662/1bc85033-355accce-e8d0ed50-78188cd3-dac92e86.dcm'])]"
   ]
  },
  {
   "cell_type": "code",
   "execution_count": 81,
   "metadata": {},
   "outputs": [
    {
     "data": {
      "text/html": [
       "<div>\n",
       "<style scoped>\n",
       "    .dataframe tbody tr th:only-of-type {\n",
       "        vertical-align: middle;\n",
       "    }\n",
       "\n",
       "    .dataframe tbody tr th {\n",
       "        vertical-align: top;\n",
       "    }\n",
       "\n",
       "    .dataframe thead th {\n",
       "        text-align: right;\n",
       "    }\n",
       "</style>\n",
       "<table border=\"1\" class=\"dataframe\">\n",
       "  <thead>\n",
       "    <tr style=\"text-align: right;\">\n",
       "      <th></th>\n",
       "      <th>uid</th>\n",
       "      <th>subject_id</th>\n",
       "      <th>study_id</th>\n",
       "      <th>dicom_id</th>\n",
       "      <th>img</th>\n",
       "      <th>txt</th>\n",
       "      <th>ViewPosition</th>\n",
       "      <th>Rows</th>\n",
       "      <th>Columns</th>\n",
       "      <th>split</th>\n",
       "      <th>official_split</th>\n",
       "    </tr>\n",
       "  </thead>\n",
       "  <tbody>\n",
       "    <tr>\n",
       "      <th>120390</th>\n",
       "      <td>183446</td>\n",
       "      <td>14887088</td>\n",
       "      <td>54257662</td>\n",
       "      <td>1bc85033-355accce-e8d0ed50-78188cd3-dac92e86</td>\n",
       "      <td>files/p14/p14887088/s54257662/1bc85033-355accce-e8d0ed50-78188cd3-dac92e86.dcm</td>\n",
       "      <td>files/p14/p14887088/s54257662.txt</td>\n",
       "      <td>AP</td>\n",
       "      <td>2539</td>\n",
       "      <td>776</td>\n",
       "      <td>train</td>\n",
       "      <td>train</td>\n",
       "    </tr>\n",
       "  </tbody>\n",
       "</table>\n",
       "</div>"
      ],
      "text/plain": [
       "           uid  subject_id  study_id  \\\n",
       "120390  183446  14887088    54257662   \n",
       "\n",
       "                                            dicom_id  \\\n",
       "120390  1bc85033-355accce-e8d0ed50-78188cd3-dac92e86   \n",
       "\n",
       "                                                                                   img  \\\n",
       "120390  files/p14/p14887088/s54257662/1bc85033-355accce-e8d0ed50-78188cd3-dac92e86.dcm   \n",
       "\n",
       "                                      txt ViewPosition  Rows  Columns  split  \\\n",
       "120390  files/p14/p14887088/s54257662.txt  AP           2539  776      train   \n",
       "\n",
       "       official_split  \n",
       "120390  train          "
      ]
     },
     "execution_count": 81,
     "metadata": {},
     "output_type": "execute_result"
    }
   ],
   "source": [
    "frontal_ds[frontal_ds['study_id']==54257662]\n",
    "## also need to remove this study case with single bad image from text report. "
   ]
  },
  {
   "cell_type": "code",
   "execution_count": 82,
   "metadata": {},
   "outputs": [],
   "source": [
    "# each time read csv\n",
    "# remove bad image rows from frontal_ds (and the corresponding reports from lm_report_ds (no need))\n",
    "frontal_ds.drop(frontal_ds[frontal_ds['img'].isin(['files/p11/p11378535/s50374044/db9511e3-ee0359ab-489c3556-4a9b2277-c0bf0369.dcm',\n",
    "                                  'files/p11/p11285576/s54979966/03b2e67c-70631ff8-685825fb-6c989456-621ca64d.dcm',\n",
    "                                  'files/p14/p14887088/s54257662/1bc85033-355accce-e8d0ed50-78188cd3-dac92e86.dcm'])].index, inplace=True)"
   ]
  },
  {
   "cell_type": "code",
   "execution_count": 90,
   "metadata": {},
   "outputs": [],
   "source": [
    "lm_report_ds.drop(lm_report_ds[lm_report_ds['filename']=='s54257662.txt'].index, inplace=True)"
   ]
  },
  {
   "cell_type": "code",
   "execution_count": 25,
   "metadata": {},
   "outputs": [],
   "source": [
    "## check images here\n",
    "## https://physionet.org/files/mimic-cxr-jpg/2.0.0/files/p18/p18446282/s54914372/32b63c6b-837955f2-62cd29e6-834d5132-6f9c67d8.jpg\n",
    "# imgroot = '/media/MyDataStor2/MIMIC-CXR/physionet.org/files/mimic-cxr-jpg/2.0.0/'\n",
    "# # Image.open(imgroot+frontal_ds['img'][1].replace('dcm', 'jpg'))\n",
    "# img = Image.open(imgroot + 'files/p18/p18446282/s54914372/32b63c6b-837955f2-62cd29e6-834d5132-6f9c67d8.jpg')\n",
    "# img"
   ]
  },
  {
   "cell_type": "code",
   "execution_count": 21,
   "metadata": {
    "collapsed": true,
    "jupyter": {
     "outputs_hidden": true
    }
   },
   "outputs": [
    {
     "data": {
      "text/html": [
       "<div>\n",
       "<style scoped>\n",
       "    .dataframe tbody tr th:only-of-type {\n",
       "        vertical-align: middle;\n",
       "    }\n",
       "\n",
       "    .dataframe tbody tr th {\n",
       "        vertical-align: top;\n",
       "    }\n",
       "\n",
       "    .dataframe thead th {\n",
       "        text-align: right;\n",
       "    }\n",
       "</style>\n",
       "<table border=\"1\" class=\"dataframe\">\n",
       "  <thead>\n",
       "    <tr style=\"text-align: right;\">\n",
       "      <th></th>\n",
       "      <th>uid</th>\n",
       "      <th>subject_id</th>\n",
       "      <th>study_id</th>\n",
       "      <th>dicom_id</th>\n",
       "      <th>img</th>\n",
       "      <th>txt</th>\n",
       "      <th>ViewPosition</th>\n",
       "      <th>Rows</th>\n",
       "      <th>Columns</th>\n",
       "      <th>split</th>\n",
       "      <th>official_split</th>\n",
       "    </tr>\n",
       "  </thead>\n",
       "  <tbody>\n",
       "    <tr>\n",
       "      <th>209003</th>\n",
       "      <td>318521</td>\n",
       "      <td>18446282</td>\n",
       "      <td>54914372</td>\n",
       "      <td>16690210-2cc1bb02-e359ca9e-ad0d76e4-aec413a7</td>\n",
       "      <td>files/p18/p18446282/s54914372/16690210-2cc1bb02-e359ca9e-ad0d76e4-aec413a7.dcm</td>\n",
       "      <td>files/p18/p18446282/s54914372.txt</td>\n",
       "      <td>AP</td>\n",
       "      <td>3050</td>\n",
       "      <td>2539</td>\n",
       "      <td>train</td>\n",
       "      <td>train</td>\n",
       "    </tr>\n",
       "    <tr>\n",
       "      <th>209004</th>\n",
       "      <td>318522</td>\n",
       "      <td>18446282</td>\n",
       "      <td>54914372</td>\n",
       "      <td>32b63c6b-837955f2-62cd29e6-834d5132-6f9c67d8</td>\n",
       "      <td>files/p18/p18446282/s54914372/32b63c6b-837955f2-62cd29e6-834d5132-6f9c67d8.dcm</td>\n",
       "      <td>files/p18/p18446282/s54914372.txt</td>\n",
       "      <td>AP</td>\n",
       "      <td>3050</td>\n",
       "      <td>2539</td>\n",
       "      <td>train</td>\n",
       "      <td>train</td>\n",
       "    </tr>\n",
       "    <tr>\n",
       "      <th>209005</th>\n",
       "      <td>318523</td>\n",
       "      <td>18446282</td>\n",
       "      <td>54914372</td>\n",
       "      <td>590b6177-50716e0e-7f5300a9-886a2e9c-1af3ed01</td>\n",
       "      <td>files/p18/p18446282/s54914372/590b6177-50716e0e-7f5300a9-886a2e9c-1af3ed01.dcm</td>\n",
       "      <td>files/p18/p18446282/s54914372.txt</td>\n",
       "      <td>AP</td>\n",
       "      <td>3050</td>\n",
       "      <td>2539</td>\n",
       "      <td>train</td>\n",
       "      <td>train</td>\n",
       "    </tr>\n",
       "    <tr>\n",
       "      <th>209006</th>\n",
       "      <td>318524</td>\n",
       "      <td>18446282</td>\n",
       "      <td>54914372</td>\n",
       "      <td>6ca7ab4a-c989f7f0-9f03020e-0693a4fc-354d6f47</td>\n",
       "      <td>files/p18/p18446282/s54914372/6ca7ab4a-c989f7f0-9f03020e-0693a4fc-354d6f47.dcm</td>\n",
       "      <td>files/p18/p18446282/s54914372.txt</td>\n",
       "      <td>AP</td>\n",
       "      <td>3050</td>\n",
       "      <td>2539</td>\n",
       "      <td>train</td>\n",
       "      <td>train</td>\n",
       "    </tr>\n",
       "    <tr>\n",
       "      <th>209007</th>\n",
       "      <td>318525</td>\n",
       "      <td>18446282</td>\n",
       "      <td>54914372</td>\n",
       "      <td>c5b09acc-a6d4dad0-5f8037a2-e7939c67-5d36a016</td>\n",
       "      <td>files/p18/p18446282/s54914372/c5b09acc-a6d4dad0-5f8037a2-e7939c67-5d36a016.dcm</td>\n",
       "      <td>files/p18/p18446282/s54914372.txt</td>\n",
       "      <td>AP</td>\n",
       "      <td>3050</td>\n",
       "      <td>2539</td>\n",
       "      <td>train</td>\n",
       "      <td>train</td>\n",
       "    </tr>\n",
       "    <tr>\n",
       "      <th>209008</th>\n",
       "      <td>318526</td>\n",
       "      <td>18446282</td>\n",
       "      <td>54914372</td>\n",
       "      <td>d117ac9e-01c5a816-7b30760e-0b239ec4-935b177a</td>\n",
       "      <td>files/p18/p18446282/s54914372/d117ac9e-01c5a816-7b30760e-0b239ec4-935b177a.dcm</td>\n",
       "      <td>files/p18/p18446282/s54914372.txt</td>\n",
       "      <td>AP</td>\n",
       "      <td>3050</td>\n",
       "      <td>2539</td>\n",
       "      <td>train</td>\n",
       "      <td>train</td>\n",
       "    </tr>\n",
       "    <tr>\n",
       "      <th>209009</th>\n",
       "      <td>318527</td>\n",
       "      <td>18446282</td>\n",
       "      <td>54914372</td>\n",
       "      <td>d7a9d501-d24d5115-5e98a244-a807df3f-f44431be</td>\n",
       "      <td>files/p18/p18446282/s54914372/d7a9d501-d24d5115-5e98a244-a807df3f-f44431be.dcm</td>\n",
       "      <td>files/p18/p18446282/s54914372.txt</td>\n",
       "      <td>AP</td>\n",
       "      <td>3050</td>\n",
       "      <td>2539</td>\n",
       "      <td>train</td>\n",
       "      <td>train</td>\n",
       "    </tr>\n",
       "    <tr>\n",
       "      <th>209010</th>\n",
       "      <td>318528</td>\n",
       "      <td>18446282</td>\n",
       "      <td>54914372</td>\n",
       "      <td>e71710dc-8ba3d9cf-41a9eae8-12af97f6-1e92d263</td>\n",
       "      <td>files/p18/p18446282/s54914372/e71710dc-8ba3d9cf-41a9eae8-12af97f6-1e92d263.dcm</td>\n",
       "      <td>files/p18/p18446282/s54914372.txt</td>\n",
       "      <td>AP</td>\n",
       "      <td>3050</td>\n",
       "      <td>2539</td>\n",
       "      <td>train</td>\n",
       "      <td>train</td>\n",
       "    </tr>\n",
       "  </tbody>\n",
       "</table>\n",
       "</div>"
      ],
      "text/plain": [
       "           uid  subject_id  study_id  \\\n",
       "209003  318521  18446282    54914372   \n",
       "209004  318522  18446282    54914372   \n",
       "209005  318523  18446282    54914372   \n",
       "209006  318524  18446282    54914372   \n",
       "209007  318525  18446282    54914372   \n",
       "209008  318526  18446282    54914372   \n",
       "209009  318527  18446282    54914372   \n",
       "209010  318528  18446282    54914372   \n",
       "\n",
       "                                            dicom_id  \\\n",
       "209003  16690210-2cc1bb02-e359ca9e-ad0d76e4-aec413a7   \n",
       "209004  32b63c6b-837955f2-62cd29e6-834d5132-6f9c67d8   \n",
       "209005  590b6177-50716e0e-7f5300a9-886a2e9c-1af3ed01   \n",
       "209006  6ca7ab4a-c989f7f0-9f03020e-0693a4fc-354d6f47   \n",
       "209007  c5b09acc-a6d4dad0-5f8037a2-e7939c67-5d36a016   \n",
       "209008  d117ac9e-01c5a816-7b30760e-0b239ec4-935b177a   \n",
       "209009  d7a9d501-d24d5115-5e98a244-a807df3f-f44431be   \n",
       "209010  e71710dc-8ba3d9cf-41a9eae8-12af97f6-1e92d263   \n",
       "\n",
       "                                                                                   img  \\\n",
       "209003  files/p18/p18446282/s54914372/16690210-2cc1bb02-e359ca9e-ad0d76e4-aec413a7.dcm   \n",
       "209004  files/p18/p18446282/s54914372/32b63c6b-837955f2-62cd29e6-834d5132-6f9c67d8.dcm   \n",
       "209005  files/p18/p18446282/s54914372/590b6177-50716e0e-7f5300a9-886a2e9c-1af3ed01.dcm   \n",
       "209006  files/p18/p18446282/s54914372/6ca7ab4a-c989f7f0-9f03020e-0693a4fc-354d6f47.dcm   \n",
       "209007  files/p18/p18446282/s54914372/c5b09acc-a6d4dad0-5f8037a2-e7939c67-5d36a016.dcm   \n",
       "209008  files/p18/p18446282/s54914372/d117ac9e-01c5a816-7b30760e-0b239ec4-935b177a.dcm   \n",
       "209009  files/p18/p18446282/s54914372/d7a9d501-d24d5115-5e98a244-a807df3f-f44431be.dcm   \n",
       "209010  files/p18/p18446282/s54914372/e71710dc-8ba3d9cf-41a9eae8-12af97f6-1e92d263.dcm   \n",
       "\n",
       "                                      txt ViewPosition  Rows  Columns  split  \\\n",
       "209003  files/p18/p18446282/s54914372.txt  AP           3050  2539     train   \n",
       "209004  files/p18/p18446282/s54914372.txt  AP           3050  2539     train   \n",
       "209005  files/p18/p18446282/s54914372.txt  AP           3050  2539     train   \n",
       "209006  files/p18/p18446282/s54914372.txt  AP           3050  2539     train   \n",
       "209007  files/p18/p18446282/s54914372.txt  AP           3050  2539     train   \n",
       "209008  files/p18/p18446282/s54914372.txt  AP           3050  2539     train   \n",
       "209009  files/p18/p18446282/s54914372.txt  AP           3050  2539     train   \n",
       "209010  files/p18/p18446282/s54914372.txt  AP           3050  2539     train   \n",
       "\n",
       "       official_split  \n",
       "209003  train          \n",
       "209004  train          \n",
       "209005  train          \n",
       "209006  train          \n",
       "209007  train          \n",
       "209008  train          \n",
       "209009  train          \n",
       "209010  train          "
      ]
     },
     "execution_count": 21,
     "metadata": {},
     "output_type": "execute_result"
    }
   ],
   "source": [
    "## ? maybe need to remove bad image files/p18/p18446282/s54914372/32b63c6b-837955f2-62cd29e6-834d5132-6f9c67d8.jpg\n",
    "frontal_ds[frontal_ds['study_id']==54914372]"
   ]
  },
  {
   "cell_type": "code",
   "execution_count": 85,
   "metadata": {
    "collapsed": true,
    "jupyter": {
     "outputs_hidden": true
    }
   },
   "outputs": [
    {
     "data": {
      "text/html": [
       "<div>\n",
       "<style scoped>\n",
       "    .dataframe tbody tr th:only-of-type {\n",
       "        vertical-align: middle;\n",
       "    }\n",
       "\n",
       "    .dataframe tbody tr th {\n",
       "        vertical-align: top;\n",
       "    }\n",
       "\n",
       "    .dataframe thead th {\n",
       "        text-align: right;\n",
       "    }\n",
       "</style>\n",
       "<table border=\"1\" class=\"dataframe\">\n",
       "  <thead>\n",
       "    <tr style=\"text-align: right;\">\n",
       "      <th></th>\n",
       "      <th>uid</th>\n",
       "      <th>subject_id</th>\n",
       "      <th>study_id</th>\n",
       "      <th>dicom_id</th>\n",
       "      <th>img</th>\n",
       "      <th>txt</th>\n",
       "      <th>ViewPosition</th>\n",
       "      <th>Rows</th>\n",
       "      <th>Columns</th>\n",
       "      <th>split</th>\n",
       "      <th>official_split</th>\n",
       "    </tr>\n",
       "  </thead>\n",
       "  <tbody>\n",
       "    <tr>\n",
       "      <th>0</th>\n",
       "      <td>0</td>\n",
       "      <td>10000032</td>\n",
       "      <td>50414267</td>\n",
       "      <td>02aa804e-bde0afdd-112c0b34-7bc16630-4e384014</td>\n",
       "      <td>files/p10/p10000032/s50414267/02aa804e-bde0afdd-112c0b34-7bc16630-4e384014.dcm</td>\n",
       "      <td>files/p10/p10000032/s50414267.txt</td>\n",
       "      <td>PA</td>\n",
       "      <td>3056</td>\n",
       "      <td>2544</td>\n",
       "      <td>train</td>\n",
       "      <td>train</td>\n",
       "    </tr>\n",
       "    <tr>\n",
       "      <th>1</th>\n",
       "      <td>2</td>\n",
       "      <td>10000032</td>\n",
       "      <td>53189527</td>\n",
       "      <td>2a2277a9-b0ded155-c0de8eb9-c124d10e-82c5caab</td>\n",
       "      <td>files/p10/p10000032/s53189527/2a2277a9-b0ded155-c0de8eb9-c124d10e-82c5caab.dcm</td>\n",
       "      <td>files/p10/p10000032/s53189527.txt</td>\n",
       "      <td>PA</td>\n",
       "      <td>3056</td>\n",
       "      <td>2544</td>\n",
       "      <td>train</td>\n",
       "      <td>train</td>\n",
       "    </tr>\n",
       "    <tr>\n",
       "      <th>2</th>\n",
       "      <td>4</td>\n",
       "      <td>10000032</td>\n",
       "      <td>53911762</td>\n",
       "      <td>68b5c4b1-227d0485-9cc38c3f-7b84ab51-4b472714</td>\n",
       "      <td>files/p10/p10000032/s53911762/68b5c4b1-227d0485-9cc38c3f-7b84ab51-4b472714.dcm</td>\n",
       "      <td>files/p10/p10000032/s53911762.txt</td>\n",
       "      <td>AP</td>\n",
       "      <td>2705</td>\n",
       "      <td>2539</td>\n",
       "      <td>train</td>\n",
       "      <td>train</td>\n",
       "    </tr>\n",
       "    <tr>\n",
       "      <th>3</th>\n",
       "      <td>5</td>\n",
       "      <td>10000032</td>\n",
       "      <td>53911762</td>\n",
       "      <td>fffabebf-74fd3a1f-673b6b41-96ec0ac9-2ab69818</td>\n",
       "      <td>files/p10/p10000032/s53911762/fffabebf-74fd3a1f-673b6b41-96ec0ac9-2ab69818.dcm</td>\n",
       "      <td>files/p10/p10000032/s53911762.txt</td>\n",
       "      <td>AP</td>\n",
       "      <td>2906</td>\n",
       "      <td>2258</td>\n",
       "      <td>train</td>\n",
       "      <td>train</td>\n",
       "    </tr>\n",
       "    <tr>\n",
       "      <th>4</th>\n",
       "      <td>6</td>\n",
       "      <td>10000032</td>\n",
       "      <td>56699142</td>\n",
       "      <td>ea030e7a-2e3b1346-bc518786-7a8fd698-f673b44c</td>\n",
       "      <td>files/p10/p10000032/s56699142/ea030e7a-2e3b1346-bc518786-7a8fd698-f673b44c.dcm</td>\n",
       "      <td>files/p10/p10000032/s56699142.txt</td>\n",
       "      <td>AP</td>\n",
       "      <td>3056</td>\n",
       "      <td>2544</td>\n",
       "      <td>train</td>\n",
       "      <td>train</td>\n",
       "    </tr>\n",
       "    <tr>\n",
       "      <th>...</th>\n",
       "      <td>...</td>\n",
       "      <td>...</td>\n",
       "      <td>...</td>\n",
       "      <td>...</td>\n",
       "      <td>...</td>\n",
       "      <td>...</td>\n",
       "      <td>...</td>\n",
       "      <td>...</td>\n",
       "      <td>...</td>\n",
       "      <td>...</td>\n",
       "      <td>...</td>\n",
       "    </tr>\n",
       "    <tr>\n",
       "      <th>250823</th>\n",
       "      <td>376658</td>\n",
       "      <td>19991135</td>\n",
       "      <td>57757467</td>\n",
       "      <td>727e2aa5-ddfdd2ff-b5723867-520a758e-c81ca8e2</td>\n",
       "      <td>files/p19/p19991135/s57757467/727e2aa5-ddfdd2ff-b5723867-520a758e-c81ca8e2.dcm</td>\n",
       "      <td>files/p19/p19991135/s57757467.txt</td>\n",
       "      <td>AP</td>\n",
       "      <td>3056</td>\n",
       "      <td>2544</td>\n",
       "      <td>hold</td>\n",
       "      <td>test</td>\n",
       "    </tr>\n",
       "    <tr>\n",
       "      <th>250824</th>\n",
       "      <td>376659</td>\n",
       "      <td>19991135</td>\n",
       "      <td>58283482</td>\n",
       "      <td>313f1d75-23648c34-dd36ecad-5d0f94e8-93a40356</td>\n",
       "      <td>files/p19/p19991135/s58283482/313f1d75-23648c34-dd36ecad-5d0f94e8-93a40356.dcm</td>\n",
       "      <td>files/p19/p19991135/s58283482.txt</td>\n",
       "      <td>AP</td>\n",
       "      <td>2544</td>\n",
       "      <td>3056</td>\n",
       "      <td>hold</td>\n",
       "      <td>test</td>\n",
       "    </tr>\n",
       "    <tr>\n",
       "      <th>250825</th>\n",
       "      <td>376660</td>\n",
       "      <td>19991135</td>\n",
       "      <td>58283482</td>\n",
       "      <td>4d0251eb-cc875c55-fde85f43-3a9d7888-c62772b8</td>\n",
       "      <td>files/p19/p19991135/s58283482/4d0251eb-cc875c55-fde85f43-3a9d7888-c62772b8.dcm</td>\n",
       "      <td>files/p19/p19991135/s58283482.txt</td>\n",
       "      <td>AP</td>\n",
       "      <td>2544</td>\n",
       "      <td>3056</td>\n",
       "      <td>hold</td>\n",
       "      <td>test</td>\n",
       "    </tr>\n",
       "    <tr>\n",
       "      <th>250826</th>\n",
       "      <td>376661</td>\n",
       "      <td>19991135</td>\n",
       "      <td>58283482</td>\n",
       "      <td>f6a7a470-9e057a45-d244e0e5-3efe1422-bb946478</td>\n",
       "      <td>files/p19/p19991135/s58283482/f6a7a470-9e057a45-d244e0e5-3efe1422-bb946478.dcm</td>\n",
       "      <td>files/p19/p19991135/s58283482.txt</td>\n",
       "      <td>AP</td>\n",
       "      <td>2544</td>\n",
       "      <td>3056</td>\n",
       "      <td>hold</td>\n",
       "      <td>test</td>\n",
       "    </tr>\n",
       "    <tr>\n",
       "      <th>250827</th>\n",
       "      <td>376663</td>\n",
       "      <td>19991135</td>\n",
       "      <td>59381316</td>\n",
       "      <td>d122eb74-bc404dd2-45a05cd3-18505b72-5058fbdd</td>\n",
       "      <td>files/p19/p19991135/s59381316/d122eb74-bc404dd2-45a05cd3-18505b72-5058fbdd.dcm</td>\n",
       "      <td>files/p19/p19991135/s59381316.txt</td>\n",
       "      <td>PA</td>\n",
       "      <td>2022</td>\n",
       "      <td>2022</td>\n",
       "      <td>hold</td>\n",
       "      <td>test</td>\n",
       "    </tr>\n",
       "  </tbody>\n",
       "</table>\n",
       "<p>250825 rows × 11 columns</p>\n",
       "</div>"
      ],
      "text/plain": [
       "           uid  subject_id  study_id  \\\n",
       "0       0       10000032    50414267   \n",
       "1       2       10000032    53189527   \n",
       "2       4       10000032    53911762   \n",
       "3       5       10000032    53911762   \n",
       "4       6       10000032    56699142   \n",
       "...    ..            ...         ...   \n",
       "250823  376658  19991135    57757467   \n",
       "250824  376659  19991135    58283482   \n",
       "250825  376660  19991135    58283482   \n",
       "250826  376661  19991135    58283482   \n",
       "250827  376663  19991135    59381316   \n",
       "\n",
       "                                            dicom_id  \\\n",
       "0       02aa804e-bde0afdd-112c0b34-7bc16630-4e384014   \n",
       "1       2a2277a9-b0ded155-c0de8eb9-c124d10e-82c5caab   \n",
       "2       68b5c4b1-227d0485-9cc38c3f-7b84ab51-4b472714   \n",
       "3       fffabebf-74fd3a1f-673b6b41-96ec0ac9-2ab69818   \n",
       "4       ea030e7a-2e3b1346-bc518786-7a8fd698-f673b44c   \n",
       "...                                              ...   \n",
       "250823  727e2aa5-ddfdd2ff-b5723867-520a758e-c81ca8e2   \n",
       "250824  313f1d75-23648c34-dd36ecad-5d0f94e8-93a40356   \n",
       "250825  4d0251eb-cc875c55-fde85f43-3a9d7888-c62772b8   \n",
       "250826  f6a7a470-9e057a45-d244e0e5-3efe1422-bb946478   \n",
       "250827  d122eb74-bc404dd2-45a05cd3-18505b72-5058fbdd   \n",
       "\n",
       "                                                                                   img  \\\n",
       "0       files/p10/p10000032/s50414267/02aa804e-bde0afdd-112c0b34-7bc16630-4e384014.dcm   \n",
       "1       files/p10/p10000032/s53189527/2a2277a9-b0ded155-c0de8eb9-c124d10e-82c5caab.dcm   \n",
       "2       files/p10/p10000032/s53911762/68b5c4b1-227d0485-9cc38c3f-7b84ab51-4b472714.dcm   \n",
       "3       files/p10/p10000032/s53911762/fffabebf-74fd3a1f-673b6b41-96ec0ac9-2ab69818.dcm   \n",
       "4       files/p10/p10000032/s56699142/ea030e7a-2e3b1346-bc518786-7a8fd698-f673b44c.dcm   \n",
       "...                                                                                ...   \n",
       "250823  files/p19/p19991135/s57757467/727e2aa5-ddfdd2ff-b5723867-520a758e-c81ca8e2.dcm   \n",
       "250824  files/p19/p19991135/s58283482/313f1d75-23648c34-dd36ecad-5d0f94e8-93a40356.dcm   \n",
       "250825  files/p19/p19991135/s58283482/4d0251eb-cc875c55-fde85f43-3a9d7888-c62772b8.dcm   \n",
       "250826  files/p19/p19991135/s58283482/f6a7a470-9e057a45-d244e0e5-3efe1422-bb946478.dcm   \n",
       "250827  files/p19/p19991135/s59381316/d122eb74-bc404dd2-45a05cd3-18505b72-5058fbdd.dcm   \n",
       "\n",
       "                                      txt ViewPosition  Rows  Columns  split  \\\n",
       "0       files/p10/p10000032/s50414267.txt  PA           3056  2544     train   \n",
       "1       files/p10/p10000032/s53189527.txt  PA           3056  2544     train   \n",
       "2       files/p10/p10000032/s53911762.txt  AP           2705  2539     train   \n",
       "3       files/p10/p10000032/s53911762.txt  AP           2906  2258     train   \n",
       "4       files/p10/p10000032/s56699142.txt  AP           3056  2544     train   \n",
       "...                                   ...  ..            ...   ...       ...   \n",
       "250823  files/p19/p19991135/s57757467.txt  AP           3056  2544     hold    \n",
       "250824  files/p19/p19991135/s58283482.txt  AP           2544  3056     hold    \n",
       "250825  files/p19/p19991135/s58283482.txt  AP           2544  3056     hold    \n",
       "250826  files/p19/p19991135/s58283482.txt  AP           2544  3056     hold    \n",
       "250827  files/p19/p19991135/s59381316.txt  PA           2022  2022     hold    \n",
       "\n",
       "       official_split  \n",
       "0       train          \n",
       "1       train          \n",
       "2       train          \n",
       "3       train          \n",
       "4       train          \n",
       "...       ...          \n",
       "250823  test           \n",
       "250824  test           \n",
       "250825  test           \n",
       "250826  test           \n",
       "250827  test           \n",
       "\n",
       "[250825 rows x 11 columns]"
      ]
     },
     "execution_count": 85,
     "metadata": {},
     "output_type": "execute_result"
    }
   ],
   "source": [
    "frontal_ds"
   ]
  },
  {
   "cell_type": "code",
   "execution_count": 91,
   "metadata": {
    "collapsed": true,
    "jupyter": {
     "outputs_hidden": true
    }
   },
   "outputs": [
    {
     "data": {
      "text/html": [
       "<div>\n",
       "<style scoped>\n",
       "    .dataframe tbody tr th:only-of-type {\n",
       "        vertical-align: middle;\n",
       "    }\n",
       "\n",
       "    .dataframe tbody tr th {\n",
       "        vertical-align: top;\n",
       "    }\n",
       "\n",
       "    .dataframe thead th {\n",
       "        text-align: right;\n",
       "    }\n",
       "</style>\n",
       "<table border=\"1\" class=\"dataframe\">\n",
       "  <thead>\n",
       "    <tr style=\"text-align: right;\">\n",
       "      <th></th>\n",
       "      <th>filename</th>\n",
       "      <th>report</th>\n",
       "      <th>original_report</th>\n",
       "      <th>origin_section</th>\n",
       "      <th>normalized_report</th>\n",
       "    </tr>\n",
       "  </thead>\n",
       "  <tbody>\n",
       "    <tr>\n",
       "      <th>0</th>\n",
       "      <td>s50414267.txt</td>\n",
       "      <td>{'final_report': {'examination': 'CHEST (PA AND LAT)', 'indication': 'DEID F with new onset ascites // eval for infection', 'technique': 'Chest PA and lateral', 'comparison': 'None.', 'findings': 'There is no focal consolidation, pleural effusion or pneumothorax. Bilateral nodular opacities that most likely represent nipple shadows. The cardiomediastinal silhouette is normal. Clips project over the left lung, potentially within the breast. The imaged upper abdomen is unremarkable. Chronic deformity of the posterior left sixth and seventh ribs are noted.', 'impression': 'No acute cardiopulmonary process.'}}</td>\n",
       "      <td>There is no focal consolidation, pleural effusion or pneumothorax. Bilateral nodular opacities that most likely represent nipple shadows. The cardiomediastinal silhouette is normal. Clips project over the left lung, potentially within the breast. The imaged upper abdomen is unremarkable. Chronic deformity of the posterior left sixth and seventh ribs are noted. No acute cardiopulmonary process.</td>\n",
       "      <td>[finding, impression]</td>\n",
       "      <td>{'sentences': ['There is no focal consolidation , pleural effusion or pneumothorax .', 'Bilateral nodular opacities that most likely represent nipple shadows .', 'The cardiomediastinal silhouette is normal .', 'Clips project over the left lung , potentially within the breast .', 'The imaged upper abdomen is unremarkable .', 'Chronic deformity of the posterior left NUMBER and NUMBER ribs are noted .', 'No acute cardiopulmonary process .']}</td>\n",
       "    </tr>\n",
       "    <tr>\n",
       "      <th>1</th>\n",
       "      <td>s53189527.txt</td>\n",
       "      <td>{'final_report': {'examination': 'CHEST (PA AND LAT)', 'indication': 'History: DEID F with shortness of breath', 'technique': 'Chest PA and lateral', 'comparison': 'DEID', 'findings': 'The cardiac, mediastinal and hilar contours are normal. Pulmonary vasculature is normal. Lungs are clear. No pleural effusion or pneumothorax is present. Multiple clips are again seen projecting over the left breast. Remote left-sided rib fractures are also re- demonstrated.', 'impression': 'No acute cardiopulmonary abnormality.'}}</td>\n",
       "      <td>The cardiac, mediastinal and hilar contours are normal. Pulmonary vasculature is normal. Lungs are clear. No pleural effusion or pneumothorax is present. Multiple clips are again seen projecting over the left breast. Remote left-sided rib fractures are also re- demonstrated. No acute cardiopulmonary abnormality.</td>\n",
       "      <td>[finding, impression]</td>\n",
       "      <td>{'sentences': ['The cardiac , mediastinal and hilar contours are normal .', 'Pulmonary vasculature is normal .', 'Lungs are clear .', 'No pleural effusion or pneumothorax is present .', 'Multiple clips are again seen projecting over the left breast .', 'Remote left-sided rib fractures are also re- demonstrated .', 'No acute cardiopulmonary abnormality .']}</td>\n",
       "    </tr>\n",
       "    <tr>\n",
       "      <th>2</th>\n",
       "      <td>s53911762.txt</td>\n",
       "      <td>{'final_report': {'examination': 'CHEST (PORTABLE AP)', 'indication': 'DEID F with cough // acute process?', 'comparison': 'Chest radiograph DEID', 'findings': 'Single frontal view of the chest provided. There is no focal consolidation, effusion, or pneumothorax. The cardiomediastinal silhouette is normal. Again seen are multiple clips projecting over the left breast and remote left-sided rib fractures. No free air below the right hemidiaphragm is seen.', 'impression': 'No acute intrathoracic process.'}}</td>\n",
       "      <td>Single frontal view of the chest provided. There is no focal consolidation, effusion, or pneumothorax. The cardiomediastinal silhouette is normal. Again seen are multiple clips projecting over the left breast and remote left-sided rib fractures. No free air below the right hemidiaphragm is seen. No acute intrathoracic process.</td>\n",
       "      <td>[finding, impression]</td>\n",
       "      <td>{'sentences': ['Single frontal view of the chest provided .', 'There is no focal consolidation , effusion , or pneumothorax .', 'The cardiomediastinal silhouette is normal .', 'Again seen are multiple clips projecting over the left breast and remote left-sided rib fractures .', 'No free air below the right hemidiaphragm is seen .', 'No acute intrathoracic process .']}</td>\n",
       "    </tr>\n",
       "    <tr>\n",
       "      <th>3</th>\n",
       "      <td>s56699142.txt</td>\n",
       "      <td>{'final_report': {'indication': 'DEID year old woman with cirrhosis.', 'technique': 'Frontal chest radiographs were obtained with the patient in the upright position.', 'comparison': 'Radiographs from DEID , DEID and DEID .', 'findings': 'The lungs are clear of focal consolidation, pleural effusion or pneumothorax. The heart size is normal. The mediastinal contours are normal. Multiple surgical clips project over the left breast, and old left rib fractures are noted.', 'impression': 'No acute cardiopulmonary process.'}}</td>\n",
       "      <td>The lungs are clear of focal consolidation, pleural effusion or pneumothorax. The heart size is normal. The mediastinal contours are normal. Multiple surgical clips project over the left breast, and old left rib fractures are noted. No acute cardiopulmonary process.</td>\n",
       "      <td>[finding, impression]</td>\n",
       "      <td>{'sentences': ['The lungs are clear of focal consolidation , pleural effusion or pneumothorax .', 'The heart size is normal .', 'The mediastinal contours are normal .', 'Multiple surgical clips project over the left breast , and old left rib fractures are noted .', 'No acute cardiopulmonary process .']}</td>\n",
       "    </tr>\n",
       "    <tr>\n",
       "      <th>4</th>\n",
       "      <td>s57375967.txt</td>\n",
       "      <td>{'final_report': {'examination': 'CHEST (PA AND LAT)', 'indication': 'DEID M with hypoxia // ?pna, aspiration.', 'comparison': 'None', 'findings': 'PA and lateral views of the chest provided. The lungs are adequately aerated. There is a focal consolidation at the left lung base adjacent to the lateral hemidiaphragm. There is mild vascular engorgement. There is bilateral apical pleural thickening. The cardiomediastinal silhouette is remarkable for aortic arch calcifications. The heart is top normal in size.', 'impression': 'Focal consolidation at the left lung base, possibly representing aspiration or pneumonia. Central vascular engorgement.'}}</td>\n",
       "      <td>PA and lateral views of the chest provided. The lungs are adequately aerated. There is a focal consolidation at the left lung base adjacent to the lateral hemidiaphragm. There is mild vascular engorgement. There is bilateral apical pleural thickening. The cardiomediastinal silhouette is remarkable for aortic arch calcifications. The heart is top normal in size. Focal consolidation at the left lung base, possibly representing aspiration or pneumonia. Central vascular engorgement.</td>\n",
       "      <td>[finding, impression]</td>\n",
       "      <td>{'sentences': ['PA and lateral views of the chest provided .', 'The lungs are adequately aerated .', 'There is a focal consolidation at the left lung base adjacent to the lateral hemidiaphragm .', 'There is mild vascular engorgement .', 'There is bilateral apical pleural thickening .', 'The cardiomediastinal silhouette is remarkable for aortic arch calcifications .', 'The heart is top normal in size .', 'Focal consolidation at the left lung base , possibly representing aspiration or pneumonia .', 'Central vascular engorgement .']}</td>\n",
       "    </tr>\n",
       "    <tr>\n",
       "      <th>...</th>\n",
       "      <td>...</td>\n",
       "      <td>...</td>\n",
       "      <td>...</td>\n",
       "      <td>...</td>\n",
       "      <td>...</td>\n",
       "    </tr>\n",
       "    <tr>\n",
       "      <th>225290</th>\n",
       "      <td>s56918032.txt</td>\n",
       "      <td>{'final_report': {'history': 'COPD with dyspnea on exertion.', 'findings': 'In comparison with study of DEID , there is again evidence of severe COPD with apparent bullous changes in the apices. Old healed rib fractures are noted on the right. However, there is no evidence of acute pneumonia or vascular congestion at this time.'}}</td>\n",
       "      <td>In comparison with study of DEID , there is again evidence of severe COPD with apparent bullous changes in the apices. Old healed rib fractures are noted on the right. However, there is no evidence of acute pneumonia or vascular congestion at this time.</td>\n",
       "      <td>[finding]</td>\n",
       "      <td>{'sentences': ['In comparison with study of , there is again evidence of severe COPD with apparent bullous changes in the apices .', 'Old healed rib fractures are noted on the right .', 'However , there is no evidence of acute pneumonia or vascular congestion at this time .']}</td>\n",
       "    </tr>\n",
       "    <tr>\n",
       "      <th>225291</th>\n",
       "      <td>s57096024.txt</td>\n",
       "      <td>{'final_report': {'no_section': 'PA AND LATERAL CHEST, DEID .', 'history': 'Right VATS converted to thoracotomy for right upper lobectomy. Rule out pneumothorax. Chest tube removed.', 'impression': 'PA and lateral chest compared to DEID through DEID at 3:59 p.m. Subcutaneous emphysema in the right chest wall has diminished slightly since removal of the right pleural tube. There is still a small pocket of air and fluid, or clot in the right upper chest alongside the surgical rib fracture. Right lung is diffusely edematous, perhaps from hilar lymphatic or venous congestion. Left lung is hyperinflated due to emphysema and clear of any focal abnormality. The heart is normal size. Fullness in the postoperative right hilus has improved since DEID . Lateral view shows persistence of an anterior air and fluid collection, which on the frontal view is at the level of the third anterior interspace.'}}</td>\n",
       "      <td>PA and lateral chest compared to DEID through DEID at 3:59 p.m. Subcutaneous emphysema in the right chest wall has diminished slightly since removal of the right pleural tube. There is still a small pocket of air and fluid, or clot in the right upper chest alongside the surgical rib fracture. Right lung is diffusely edematous, perhaps from hilar lymphatic or venous congestion. Left lung is hyperinflated due to emphysema and clear of any focal abnormality. The heart is normal size. Fullness in the postoperative right hilus has improved since DEID . Lateral view shows persistence of an anterior air and fluid collection, which on the frontal view is at the level of the third anterior interspace.</td>\n",
       "      <td>[impression]</td>\n",
       "      <td>{'sentences': ['PA and lateral chest compared to through at 3:59 p.m. Subcutaneous emphysema in the right chest wall has diminished slightly since removal of the right pleural tube .', 'There is still a small pocket of air and fluid , or clot in the right upper chest alongside the surgical rib fracture .', 'Right lung is diffusely edematous , perhaps from hilar lymphatic or venous congestion .', 'Left lung is hyperinflated due to emphysema and clear of any focal abnormality .', 'The heart is normal size .', 'Fullness in the postoperative right hilus has improved since .', 'Lateral view shows persistence of an anterior air and fluid collection , which on the frontal view is at the level of the NUMBER anterior interspace .']}</td>\n",
       "    </tr>\n",
       "    <tr>\n",
       "      <th>225292</th>\n",
       "      <td>s57757467.txt</td>\n",
       "      <td>{'final_report': {'no_section': 'AP CHEST, 12:08 P.M. ON DEID .', 'history': 'Emphysema. After EBUS. Rule out pneumothorax.', 'impression': 'AP chest compared to DEID : There is no pneumothorax, pleural effusion or evidence of hemorrhage in the lung or mediastinum. Emphysema is severe. Heart size is normal. The complex of nodule and large bullae in the axillary region of the right upper lobe is essentially unchanged.'}}</td>\n",
       "      <td>AP chest compared to DEID : There is no pneumothorax, pleural effusion or evidence of hemorrhage in the lung or mediastinum. Emphysema is severe. Heart size is normal. The complex of nodule and large bullae in the axillary region of the right upper lobe is essentially unchanged.</td>\n",
       "      <td>[impression]</td>\n",
       "      <td>{'sentences': ['AP chest compared to : There is no pneumothorax , pleural effusion or evidence of hemorrhage in the lung or mediastinum .', 'Emphysema is severe .', 'Heart size is normal .', 'The complex of nodule and large bullae in the axillary region of the right upper lobe is essentially unchanged .']}</td>\n",
       "    </tr>\n",
       "    <tr>\n",
       "      <th>225293</th>\n",
       "      <td>s58283482.txt</td>\n",
       "      <td>{'final_report': {'history': 'Right VATS converted to thoracotomy and right upper lobectomy.', 'findings': 'In comparison with the study of DEID , one of the right chest tubes appears to have been removed. No definite pneumothorax is appreciated. Post-surgical changes persist in the right hemithorax and there is extensive subcutaneous gas along the right lateral chest wall.'}}</td>\n",
       "      <td>In comparison with the study of DEID , one of the right chest tubes appears to have been removed. No definite pneumothorax is appreciated. Post-surgical changes persist in the right hemithorax and there is extensive subcutaneous gas along the right lateral chest wall.</td>\n",
       "      <td>[finding]</td>\n",
       "      <td>{'sentences': ['In comparison with the study of , NUMBER of the right chest tubes appears to have been removed .', 'No definite pneumothorax is appreciated .', 'Post-surgical changes persist in the right hemithorax and there is extensive subcutaneous gas along the right lateral chest wall .']}</td>\n",
       "    </tr>\n",
       "    <tr>\n",
       "      <th>225294</th>\n",
       "      <td>s59381316.txt</td>\n",
       "      <td>{'final_report': {'type_of_examination': 'CHEST, PA AND LATERAL.', 'indication': 'DEID -year-old female patient with right VATS of right upper lobe, chest tube clamped for six hours, evaluate for interval change.', 'findings': 'PA and lateral chest views were obtained with patient in upright position. Comparison is made with the next preceding similar study obtained four hours earlier during the same day. The previously described right-sided chest tube remains in unchanged position. No pneumothorax has developed and there is no evidence of significantly increased pleural densities during this interval. The right-sided chest wall emphysema described earlier has regressed. No new abnormalities are seen. Left-sided hemithorax is unremarkable.'}}</td>\n",
       "      <td>PA and lateral chest views were obtained with patient in upright position. Comparison is made with the next preceding similar study obtained four hours earlier during the same day. The previously described right-sided chest tube remains in unchanged position. No pneumothorax has developed and there is no evidence of significantly increased pleural densities during this interval. The right-sided chest wall emphysema described earlier has regressed. No new abnormalities are seen. Left-sided hemithorax is unremarkable.</td>\n",
       "      <td>[finding]</td>\n",
       "      <td>{'sentences': ['PA and lateral chest views were obtained with patient in upright position .', 'Comparison is made with the next preceding similar study obtained NUMBER hours earlier during the same day .', 'The previously described right-sided chest tube remains in unchanged position .', 'No pneumothorax has developed and there is no evidence of significantly increased pleural densities during this interval .', 'The right-sided chest wall emphysema described earlier has regressed .', 'No new abnormalities are seen .', 'Left-sided hemithorax is unremarkable .']}</td>\n",
       "    </tr>\n",
       "  </tbody>\n",
       "</table>\n",
       "<p>225294 rows × 5 columns</p>\n",
       "</div>"
      ],
      "text/plain": [
       "             filename  \\\n",
       "0       s50414267.txt   \n",
       "1       s53189527.txt   \n",
       "2       s53911762.txt   \n",
       "3       s56699142.txt   \n",
       "4       s57375967.txt   \n",
       "...               ...   \n",
       "225290  s56918032.txt   \n",
       "225291  s57096024.txt   \n",
       "225292  s57757467.txt   \n",
       "225293  s58283482.txt   \n",
       "225294  s59381316.txt   \n",
       "\n",
       "                                                                                                                                                                                                                                                                                                                                                                                                                                                                                                                                                                                                                                                                                                                                                                                                                                                                                                                                         report  \\\n",
       "0       {'final_report': {'examination': 'CHEST (PA AND LAT)', 'indication': 'DEID F with new onset ascites // eval for infection', 'technique': 'Chest PA and lateral', 'comparison': 'None.', 'findings': 'There is no focal consolidation, pleural effusion or pneumothorax. Bilateral nodular opacities that most likely represent nipple shadows. The cardiomediastinal silhouette is normal. Clips project over the left lung, potentially within the breast. The imaged upper abdomen is unremarkable. Chronic deformity of the posterior left sixth and seventh ribs are noted.', 'impression': 'No acute cardiopulmonary process.'}}                                                                                                                                                                                                                                                                                                     \n",
       "1       {'final_report': {'examination': 'CHEST (PA AND LAT)', 'indication': 'History: DEID F with shortness of breath', 'technique': 'Chest PA and lateral', 'comparison': 'DEID', 'findings': 'The cardiac, mediastinal and hilar contours are normal. Pulmonary vasculature is normal. Lungs are clear. No pleural effusion or pneumothorax is present. Multiple clips are again seen projecting over the left breast. Remote left-sided rib fractures are also re- demonstrated.', 'impression': 'No acute cardiopulmonary abnormality.'}}                                                                                                                                                                                                                                                                                                                                                                                                    \n",
       "2       {'final_report': {'examination': 'CHEST (PORTABLE AP)', 'indication': 'DEID F with cough // acute process?', 'comparison': 'Chest radiograph DEID', 'findings': 'Single frontal view of the chest provided. There is no focal consolidation, effusion, or pneumothorax. The cardiomediastinal silhouette is normal. Again seen are multiple clips projecting over the left breast and remote left-sided rib fractures. No free air below the right hemidiaphragm is seen.', 'impression': 'No acute intrathoracic process.'}}                                                                                                                                                                                                                                                                                                                                                                                                             \n",
       "3       {'final_report': {'indication': 'DEID year old woman with cirrhosis.', 'technique': 'Frontal chest radiographs were obtained with the patient in the upright position.', 'comparison': 'Radiographs from DEID , DEID and DEID .', 'findings': 'The lungs are clear of focal consolidation, pleural effusion or pneumothorax. The heart size is normal. The mediastinal contours are normal. Multiple surgical clips project over the left breast, and old left rib fractures are noted.', 'impression': 'No acute cardiopulmonary process.'}}                                                                                                                                                                                                                                                                                                                                                                                             \n",
       "4       {'final_report': {'examination': 'CHEST (PA AND LAT)', 'indication': 'DEID M with hypoxia // ?pna, aspiration.', 'comparison': 'None', 'findings': 'PA and lateral views of the chest provided. The lungs are adequately aerated. There is a focal consolidation at the left lung base adjacent to the lateral hemidiaphragm. There is mild vascular engorgement. There is bilateral apical pleural thickening. The cardiomediastinal silhouette is remarkable for aortic arch calcifications. The heart is top normal in size.', 'impression': 'Focal consolidation at the left lung base, possibly representing aspiration or pneumonia. Central vascular engorgement.'}}                                                                                                                                                                                                                                                               \n",
       "...                                                                                                                                                                                                                                                                                                                                                                                                                                                                                                                                                                                                                                                                             ...                                                                                                                                                                                                                                                               \n",
       "225290  {'final_report': {'history': 'COPD with dyspnea on exertion.', 'findings': 'In comparison with study of DEID , there is again evidence of severe COPD with apparent bullous changes in the apices. Old healed rib fractures are noted on the right. However, there is no evidence of acute pneumonia or vascular congestion at this time.'}}                                                                                                                                                                                                                                                                                                                                                                                                                                                                                                                                                                                              \n",
       "225291  {'final_report': {'no_section': 'PA AND LATERAL CHEST, DEID .', 'history': 'Right VATS converted to thoracotomy for right upper lobectomy. Rule out pneumothorax. Chest tube removed.', 'impression': 'PA and lateral chest compared to DEID through DEID at 3:59 p.m. Subcutaneous emphysema in the right chest wall has diminished slightly since removal of the right pleural tube. There is still a small pocket of air and fluid, or clot in the right upper chest alongside the surgical rib fracture. Right lung is diffusely edematous, perhaps from hilar lymphatic or venous congestion. Left lung is hyperinflated due to emphysema and clear of any focal abnormality. The heart is normal size. Fullness in the postoperative right hilus has improved since DEID . Lateral view shows persistence of an anterior air and fluid collection, which on the frontal view is at the level of the third anterior interspace.'}}   \n",
       "225292  {'final_report': {'no_section': 'AP CHEST, 12:08 P.M. ON DEID .', 'history': 'Emphysema. After EBUS. Rule out pneumothorax.', 'impression': 'AP chest compared to DEID : There is no pneumothorax, pleural effusion or evidence of hemorrhage in the lung or mediastinum. Emphysema is severe. Heart size is normal. The complex of nodule and large bullae in the axillary region of the right upper lobe is essentially unchanged.'}}                                                                                                                                                                                                                                                                                                                                                                                                                                                                                                   \n",
       "225293  {'final_report': {'history': 'Right VATS converted to thoracotomy and right upper lobectomy.', 'findings': 'In comparison with the study of DEID , one of the right chest tubes appears to have been removed. No definite pneumothorax is appreciated. Post-surgical changes persist in the right hemithorax and there is extensive subcutaneous gas along the right lateral chest wall.'}}                                                                                                                                                                                                                                                                                                                                                                                                                                                                                                                                               \n",
       "225294  {'final_report': {'type_of_examination': 'CHEST, PA AND LATERAL.', 'indication': 'DEID -year-old female patient with right VATS of right upper lobe, chest tube clamped for six hours, evaluate for interval change.', 'findings': 'PA and lateral chest views were obtained with patient in upright position. Comparison is made with the next preceding similar study obtained four hours earlier during the same day. The previously described right-sided chest tube remains in unchanged position. No pneumothorax has developed and there is no evidence of significantly increased pleural densities during this interval. The right-sided chest wall emphysema described earlier has regressed. No new abnormalities are seen. Left-sided hemithorax is unremarkable.'}}                                                                                                                                                          \n",
       "\n",
       "                                                                                                                                                                                                                                                                                                                                                                                                                                                                                                                                                                                                                                                                                                                      original_report  \\\n",
       "0       There is no focal consolidation, pleural effusion or pneumothorax. Bilateral nodular opacities that most likely represent nipple shadows. The cardiomediastinal silhouette is normal. Clips project over the left lung, potentially within the breast. The imaged upper abdomen is unremarkable. Chronic deformity of the posterior left sixth and seventh ribs are noted. No acute cardiopulmonary process.                                                                                                                                                                                                                                                                                                                    \n",
       "1       The cardiac, mediastinal and hilar contours are normal. Pulmonary vasculature is normal. Lungs are clear. No pleural effusion or pneumothorax is present. Multiple clips are again seen projecting over the left breast. Remote left-sided rib fractures are also re- demonstrated. No acute cardiopulmonary abnormality.                                                                                                                                                                                                                                                                                                                                                                                                       \n",
       "2       Single frontal view of the chest provided. There is no focal consolidation, effusion, or pneumothorax. The cardiomediastinal silhouette is normal. Again seen are multiple clips projecting over the left breast and remote left-sided rib fractures. No free air below the right hemidiaphragm is seen. No acute intrathoracic process.                                                                                                                                                                                                                                                                                                                                                                                        \n",
       "3       The lungs are clear of focal consolidation, pleural effusion or pneumothorax. The heart size is normal. The mediastinal contours are normal. Multiple surgical clips project over the left breast, and old left rib fractures are noted. No acute cardiopulmonary process.                                                                                                                                                                                                                                                                                                                                                                                                                                                      \n",
       "4       PA and lateral views of the chest provided. The lungs are adequately aerated. There is a focal consolidation at the left lung base adjacent to the lateral hemidiaphragm. There is mild vascular engorgement. There is bilateral apical pleural thickening. The cardiomediastinal silhouette is remarkable for aortic arch calcifications. The heart is top normal in size. Focal consolidation at the left lung base, possibly representing aspiration or pneumonia. Central vascular engorgement.                                                                                                                                                                                                                             \n",
       "...                                                                                                                                                                                                                                                                                                                                                                                                                                                                                                     ...                                                                                                                                                                                                                             \n",
       "225290  In comparison with study of DEID , there is again evidence of severe COPD with apparent bullous changes in the apices. Old healed rib fractures are noted on the right. However, there is no evidence of acute pneumonia or vascular congestion at this time.                                                                                                                                                                                                                                                                                                                                                                                                                                                                   \n",
       "225291  PA and lateral chest compared to DEID through DEID at 3:59 p.m. Subcutaneous emphysema in the right chest wall has diminished slightly since removal of the right pleural tube. There is still a small pocket of air and fluid, or clot in the right upper chest alongside the surgical rib fracture. Right lung is diffusely edematous, perhaps from hilar lymphatic or venous congestion. Left lung is hyperinflated due to emphysema and clear of any focal abnormality. The heart is normal size. Fullness in the postoperative right hilus has improved since DEID . Lateral view shows persistence of an anterior air and fluid collection, which on the frontal view is at the level of the third anterior interspace.   \n",
       "225292  AP chest compared to DEID : There is no pneumothorax, pleural effusion or evidence of hemorrhage in the lung or mediastinum. Emphysema is severe. Heart size is normal. The complex of nodule and large bullae in the axillary region of the right upper lobe is essentially unchanged.                                                                                                                                                                                                                                                                                                                                                                                                                                         \n",
       "225293  In comparison with the study of DEID , one of the right chest tubes appears to have been removed. No definite pneumothorax is appreciated. Post-surgical changes persist in the right hemithorax and there is extensive subcutaneous gas along the right lateral chest wall.                                                                                                                                                                                                                                                                                                                                                                                                                                                    \n",
       "225294  PA and lateral chest views were obtained with patient in upright position. Comparison is made with the next preceding similar study obtained four hours earlier during the same day. The previously described right-sided chest tube remains in unchanged position. No pneumothorax has developed and there is no evidence of significantly increased pleural densities during this interval. The right-sided chest wall emphysema described earlier has regressed. No new abnormalities are seen. Left-sided hemithorax is unremarkable.                                                                                                                                                                                       \n",
       "\n",
       "               origin_section  \\\n",
       "0       [finding, impression]   \n",
       "1       [finding, impression]   \n",
       "2       [finding, impression]   \n",
       "3       [finding, impression]   \n",
       "4       [finding, impression]   \n",
       "...                       ...   \n",
       "225290  [finding]               \n",
       "225291  [impression]            \n",
       "225292  [impression]            \n",
       "225293  [finding]               \n",
       "225294  [finding]               \n",
       "\n",
       "                                                                                                                                                                                                                                                                                                                                                                                                                                                                                                                                                                                                                                                                                                                                                    normalized_report  \n",
       "0       {'sentences': ['There is no focal consolidation , pleural effusion or pneumothorax .', 'Bilateral nodular opacities that most likely represent nipple shadows .', 'The cardiomediastinal silhouette is normal .', 'Clips project over the left lung , potentially within the breast .', 'The imaged upper abdomen is unremarkable .', 'Chronic deformity of the posterior left NUMBER and NUMBER ribs are noted .', 'No acute cardiopulmonary process .']}                                                                                                                                                                                                                                                                                                     \n",
       "1       {'sentences': ['The cardiac , mediastinal and hilar contours are normal .', 'Pulmonary vasculature is normal .', 'Lungs are clear .', 'No pleural effusion or pneumothorax is present .', 'Multiple clips are again seen projecting over the left breast .', 'Remote left-sided rib fractures are also re- demonstrated .', 'No acute cardiopulmonary abnormality .']}                                                                                                                                                                                                                                                                                                                                                                                         \n",
       "2       {'sentences': ['Single frontal view of the chest provided .', 'There is no focal consolidation , effusion , or pneumothorax .', 'The cardiomediastinal silhouette is normal .', 'Again seen are multiple clips projecting over the left breast and remote left-sided rib fractures .', 'No free air below the right hemidiaphragm is seen .', 'No acute intrathoracic process .']}                                                                                                                                                                                                                                                                                                                                                                             \n",
       "3       {'sentences': ['The lungs are clear of focal consolidation , pleural effusion or pneumothorax .', 'The heart size is normal .', 'The mediastinal contours are normal .', 'Multiple surgical clips project over the left breast , and old left rib fractures are noted .', 'No acute cardiopulmonary process .']}                                                                                                                                                                                                                                                                                                                                                                                                                                               \n",
       "4       {'sentences': ['PA and lateral views of the chest provided .', 'The lungs are adequately aerated .', 'There is a focal consolidation at the left lung base adjacent to the lateral hemidiaphragm .', 'There is mild vascular engorgement .', 'There is bilateral apical pleural thickening .', 'The cardiomediastinal silhouette is remarkable for aortic arch calcifications .', 'The heart is top normal in size .', 'Focal consolidation at the left lung base , possibly representing aspiration or pneumonia .', 'Central vascular engorgement .']}                                                                                                                                                                                                       \n",
       "...                                                                                                                                                                                                                                                                                                                                                                                                                                                                                                                                                          ...                                                                                                                                                                                                       \n",
       "225290  {'sentences': ['In comparison with study of , there is again evidence of severe COPD with apparent bullous changes in the apices .', 'Old healed rib fractures are noted on the right .', 'However , there is no evidence of acute pneumonia or vascular congestion at this time .']}                                                                                                                                                                                                                                                                                                                                                                                                                                                                          \n",
       "225291  {'sentences': ['PA and lateral chest compared to through at 3:59 p.m. Subcutaneous emphysema in the right chest wall has diminished slightly since removal of the right pleural tube .', 'There is still a small pocket of air and fluid , or clot in the right upper chest alongside the surgical rib fracture .', 'Right lung is diffusely edematous , perhaps from hilar lymphatic or venous congestion .', 'Left lung is hyperinflated due to emphysema and clear of any focal abnormality .', 'The heart is normal size .', 'Fullness in the postoperative right hilus has improved since .', 'Lateral view shows persistence of an anterior air and fluid collection , which on the frontal view is at the level of the NUMBER anterior interspace .']}  \n",
       "225292  {'sentences': ['AP chest compared to : There is no pneumothorax , pleural effusion or evidence of hemorrhage in the lung or mediastinum .', 'Emphysema is severe .', 'Heart size is normal .', 'The complex of nodule and large bullae in the axillary region of the right upper lobe is essentially unchanged .']}                                                                                                                                                                                                                                                                                                                                                                                                                                            \n",
       "225293  {'sentences': ['In comparison with the study of , NUMBER of the right chest tubes appears to have been removed .', 'No definite pneumothorax is appreciated .', 'Post-surgical changes persist in the right hemithorax and there is extensive subcutaneous gas along the right lateral chest wall .']}                                                                                                                                                                                                                                                                                                                                                                                                                                                         \n",
       "225294  {'sentences': ['PA and lateral chest views were obtained with patient in upright position .', 'Comparison is made with the next preceding similar study obtained NUMBER hours earlier during the same day .', 'The previously described right-sided chest tube remains in unchanged position .', 'No pneumothorax has developed and there is no evidence of significantly increased pleural densities during this interval .', 'The right-sided chest wall emphysema described earlier has regressed .', 'No new abnormalities are seen .', 'Left-sided hemithorax is unremarkable .']}                                                                                                                                                                        \n",
       "\n",
       "[225294 rows x 5 columns]"
      ]
     },
     "execution_count": 91,
     "metadata": {},
     "output_type": "execute_result"
    }
   ],
   "source": [
    "lm_report_ds"
   ]
  },
  {
   "cell_type": "code",
   "execution_count": 93,
   "metadata": {},
   "outputs": [
    {
     "data": {
      "text/html": [
       "<div>\n",
       "<style scoped>\n",
       "    .dataframe tbody tr th:only-of-type {\n",
       "        vertical-align: middle;\n",
       "    }\n",
       "\n",
       "    .dataframe tbody tr th {\n",
       "        vertical-align: top;\n",
       "    }\n",
       "\n",
       "    .dataframe thead th {\n",
       "        text-align: right;\n",
       "    }\n",
       "</style>\n",
       "<table border=\"1\" class=\"dataframe\">\n",
       "  <thead>\n",
       "    <tr style=\"text-align: right;\">\n",
       "      <th></th>\n",
       "      <th>filename</th>\n",
       "      <th>report</th>\n",
       "      <th>original_report</th>\n",
       "      <th>origin_section</th>\n",
       "      <th>normalized_report</th>\n",
       "    </tr>\n",
       "  </thead>\n",
       "  <tbody>\n",
       "    <tr>\n",
       "      <th>98751</th>\n",
       "      <td>s54168089.txt</td>\n",
       "      <td>{'final_report': ''}</td>\n",
       "      <td>NaN</td>\n",
       "      <td>[]</td>\n",
       "      <td>{'sentences': []}</td>\n",
       "    </tr>\n",
       "  </tbody>\n",
       "</table>\n",
       "</div>"
      ],
      "text/plain": [
       "            filename                report original_report origin_section  \\\n",
       "98751  s54168089.txt  {'final_report': ''}  NaN             []              \n",
       "\n",
       "       normalized_report  \n",
       "98751  {'sentences': []}  "
      ]
     },
     "execution_count": 93,
     "metadata": {},
     "output_type": "execute_result"
    }
   ],
   "source": [
    "## remove empty report rows\n",
    "lm_report_ds[lm_report_ds['original_report'].isin([np.nan])]"
   ]
  },
  {
   "cell_type": "code",
   "execution_count": 94,
   "metadata": {
    "collapsed": true,
    "jupyter": {
     "outputs_hidden": true
    }
   },
   "outputs": [
    {
     "data": {
      "text/html": [
       "<div>\n",
       "<style scoped>\n",
       "    .dataframe tbody tr th:only-of-type {\n",
       "        vertical-align: middle;\n",
       "    }\n",
       "\n",
       "    .dataframe tbody tr th {\n",
       "        vertical-align: top;\n",
       "    }\n",
       "\n",
       "    .dataframe thead th {\n",
       "        text-align: right;\n",
       "    }\n",
       "</style>\n",
       "<table border=\"1\" class=\"dataframe\">\n",
       "  <thead>\n",
       "    <tr style=\"text-align: right;\">\n",
       "      <th></th>\n",
       "      <th>filename</th>\n",
       "      <th>report</th>\n",
       "      <th>original_report</th>\n",
       "      <th>origin_section</th>\n",
       "      <th>normalized_report</th>\n",
       "    </tr>\n",
       "  </thead>\n",
       "  <tbody>\n",
       "    <tr>\n",
       "      <th>0</th>\n",
       "      <td>s50414267.txt</td>\n",
       "      <td>{'final_report': {'examination': 'CHEST (PA AND LAT)', 'indication': 'DEID F with new onset ascites // eval for infection', 'technique': 'Chest PA and lateral', 'comparison': 'None.', 'findings': 'There is no focal consolidation, pleural effusion or pneumothorax. Bilateral nodular opacities that most likely represent nipple shadows. The cardiomediastinal silhouette is normal. Clips project over the left lung, potentially within the breast. The imaged upper abdomen is unremarkable. Chronic deformity of the posterior left sixth and seventh ribs are noted.', 'impression': 'No acute cardiopulmonary process.'}}</td>\n",
       "      <td>There is no focal consolidation, pleural effusion or pneumothorax. Bilateral nodular opacities that most likely represent nipple shadows. The cardiomediastinal silhouette is normal. Clips project over the left lung, potentially within the breast. The imaged upper abdomen is unremarkable. Chronic deformity of the posterior left sixth and seventh ribs are noted. No acute cardiopulmonary process.</td>\n",
       "      <td>[finding, impression]</td>\n",
       "      <td>{'sentences': ['There is no focal consolidation , pleural effusion or pneumothorax .', 'Bilateral nodular opacities that most likely represent nipple shadows .', 'The cardiomediastinal silhouette is normal .', 'Clips project over the left lung , potentially within the breast .', 'The imaged upper abdomen is unremarkable .', 'Chronic deformity of the posterior left NUMBER and NUMBER ribs are noted .', 'No acute cardiopulmonary process .']}</td>\n",
       "    </tr>\n",
       "    <tr>\n",
       "      <th>1</th>\n",
       "      <td>s53189527.txt</td>\n",
       "      <td>{'final_report': {'examination': 'CHEST (PA AND LAT)', 'indication': 'History: DEID F with shortness of breath', 'technique': 'Chest PA and lateral', 'comparison': 'DEID', 'findings': 'The cardiac, mediastinal and hilar contours are normal. Pulmonary vasculature is normal. Lungs are clear. No pleural effusion or pneumothorax is present. Multiple clips are again seen projecting over the left breast. Remote left-sided rib fractures are also re- demonstrated.', 'impression': 'No acute cardiopulmonary abnormality.'}}</td>\n",
       "      <td>The cardiac, mediastinal and hilar contours are normal. Pulmonary vasculature is normal. Lungs are clear. No pleural effusion or pneumothorax is present. Multiple clips are again seen projecting over the left breast. Remote left-sided rib fractures are also re- demonstrated. No acute cardiopulmonary abnormality.</td>\n",
       "      <td>[finding, impression]</td>\n",
       "      <td>{'sentences': ['The cardiac , mediastinal and hilar contours are normal .', 'Pulmonary vasculature is normal .', 'Lungs are clear .', 'No pleural effusion or pneumothorax is present .', 'Multiple clips are again seen projecting over the left breast .', 'Remote left-sided rib fractures are also re- demonstrated .', 'No acute cardiopulmonary abnormality .']}</td>\n",
       "    </tr>\n",
       "    <tr>\n",
       "      <th>2</th>\n",
       "      <td>s53911762.txt</td>\n",
       "      <td>{'final_report': {'examination': 'CHEST (PORTABLE AP)', 'indication': 'DEID F with cough // acute process?', 'comparison': 'Chest radiograph DEID', 'findings': 'Single frontal view of the chest provided. There is no focal consolidation, effusion, or pneumothorax. The cardiomediastinal silhouette is normal. Again seen are multiple clips projecting over the left breast and remote left-sided rib fractures. No free air below the right hemidiaphragm is seen.', 'impression': 'No acute intrathoracic process.'}}</td>\n",
       "      <td>Single frontal view of the chest provided. There is no focal consolidation, effusion, or pneumothorax. The cardiomediastinal silhouette is normal. Again seen are multiple clips projecting over the left breast and remote left-sided rib fractures. No free air below the right hemidiaphragm is seen. No acute intrathoracic process.</td>\n",
       "      <td>[finding, impression]</td>\n",
       "      <td>{'sentences': ['Single frontal view of the chest provided .', 'There is no focal consolidation , effusion , or pneumothorax .', 'The cardiomediastinal silhouette is normal .', 'Again seen are multiple clips projecting over the left breast and remote left-sided rib fractures .', 'No free air below the right hemidiaphragm is seen .', 'No acute intrathoracic process .']}</td>\n",
       "    </tr>\n",
       "    <tr>\n",
       "      <th>3</th>\n",
       "      <td>s56699142.txt</td>\n",
       "      <td>{'final_report': {'indication': 'DEID year old woman with cirrhosis.', 'technique': 'Frontal chest radiographs were obtained with the patient in the upright position.', 'comparison': 'Radiographs from DEID , DEID and DEID .', 'findings': 'The lungs are clear of focal consolidation, pleural effusion or pneumothorax. The heart size is normal. The mediastinal contours are normal. Multiple surgical clips project over the left breast, and old left rib fractures are noted.', 'impression': 'No acute cardiopulmonary process.'}}</td>\n",
       "      <td>The lungs are clear of focal consolidation, pleural effusion or pneumothorax. The heart size is normal. The mediastinal contours are normal. Multiple surgical clips project over the left breast, and old left rib fractures are noted. No acute cardiopulmonary process.</td>\n",
       "      <td>[finding, impression]</td>\n",
       "      <td>{'sentences': ['The lungs are clear of focal consolidation , pleural effusion or pneumothorax .', 'The heart size is normal .', 'The mediastinal contours are normal .', 'Multiple surgical clips project over the left breast , and old left rib fractures are noted .', 'No acute cardiopulmonary process .']}</td>\n",
       "    </tr>\n",
       "    <tr>\n",
       "      <th>4</th>\n",
       "      <td>s57375967.txt</td>\n",
       "      <td>{'final_report': {'examination': 'CHEST (PA AND LAT)', 'indication': 'DEID M with hypoxia // ?pna, aspiration.', 'comparison': 'None', 'findings': 'PA and lateral views of the chest provided. The lungs are adequately aerated. There is a focal consolidation at the left lung base adjacent to the lateral hemidiaphragm. There is mild vascular engorgement. There is bilateral apical pleural thickening. The cardiomediastinal silhouette is remarkable for aortic arch calcifications. The heart is top normal in size.', 'impression': 'Focal consolidation at the left lung base, possibly representing aspiration or pneumonia. Central vascular engorgement.'}}</td>\n",
       "      <td>PA and lateral views of the chest provided. The lungs are adequately aerated. There is a focal consolidation at the left lung base adjacent to the lateral hemidiaphragm. There is mild vascular engorgement. There is bilateral apical pleural thickening. The cardiomediastinal silhouette is remarkable for aortic arch calcifications. The heart is top normal in size. Focal consolidation at the left lung base, possibly representing aspiration or pneumonia. Central vascular engorgement.</td>\n",
       "      <td>[finding, impression]</td>\n",
       "      <td>{'sentences': ['PA and lateral views of the chest provided .', 'The lungs are adequately aerated .', 'There is a focal consolidation at the left lung base adjacent to the lateral hemidiaphragm .', 'There is mild vascular engorgement .', 'There is bilateral apical pleural thickening .', 'The cardiomediastinal silhouette is remarkable for aortic arch calcifications .', 'The heart is top normal in size .', 'Focal consolidation at the left lung base , possibly representing aspiration or pneumonia .', 'Central vascular engorgement .']}</td>\n",
       "    </tr>\n",
       "    <tr>\n",
       "      <th>...</th>\n",
       "      <td>...</td>\n",
       "      <td>...</td>\n",
       "      <td>...</td>\n",
       "      <td>...</td>\n",
       "      <td>...</td>\n",
       "    </tr>\n",
       "    <tr>\n",
       "      <th>225290</th>\n",
       "      <td>s56918032.txt</td>\n",
       "      <td>{'final_report': {'history': 'COPD with dyspnea on exertion.', 'findings': 'In comparison with study of DEID , there is again evidence of severe COPD with apparent bullous changes in the apices. Old healed rib fractures are noted on the right. However, there is no evidence of acute pneumonia or vascular congestion at this time.'}}</td>\n",
       "      <td>In comparison with study of DEID , there is again evidence of severe COPD with apparent bullous changes in the apices. Old healed rib fractures are noted on the right. However, there is no evidence of acute pneumonia or vascular congestion at this time.</td>\n",
       "      <td>[finding]</td>\n",
       "      <td>{'sentences': ['In comparison with study of , there is again evidence of severe COPD with apparent bullous changes in the apices .', 'Old healed rib fractures are noted on the right .', 'However , there is no evidence of acute pneumonia or vascular congestion at this time .']}</td>\n",
       "    </tr>\n",
       "    <tr>\n",
       "      <th>225291</th>\n",
       "      <td>s57096024.txt</td>\n",
       "      <td>{'final_report': {'no_section': 'PA AND LATERAL CHEST, DEID .', 'history': 'Right VATS converted to thoracotomy for right upper lobectomy. Rule out pneumothorax. Chest tube removed.', 'impression': 'PA and lateral chest compared to DEID through DEID at 3:59 p.m. Subcutaneous emphysema in the right chest wall has diminished slightly since removal of the right pleural tube. There is still a small pocket of air and fluid, or clot in the right upper chest alongside the surgical rib fracture. Right lung is diffusely edematous, perhaps from hilar lymphatic or venous congestion. Left lung is hyperinflated due to emphysema and clear of any focal abnormality. The heart is normal size. Fullness in the postoperative right hilus has improved since DEID . Lateral view shows persistence of an anterior air and fluid collection, which on the frontal view is at the level of the third anterior interspace.'}}</td>\n",
       "      <td>PA and lateral chest compared to DEID through DEID at 3:59 p.m. Subcutaneous emphysema in the right chest wall has diminished slightly since removal of the right pleural tube. There is still a small pocket of air and fluid, or clot in the right upper chest alongside the surgical rib fracture. Right lung is diffusely edematous, perhaps from hilar lymphatic or venous congestion. Left lung is hyperinflated due to emphysema and clear of any focal abnormality. The heart is normal size. Fullness in the postoperative right hilus has improved since DEID . Lateral view shows persistence of an anterior air and fluid collection, which on the frontal view is at the level of the third anterior interspace.</td>\n",
       "      <td>[impression]</td>\n",
       "      <td>{'sentences': ['PA and lateral chest compared to through at 3:59 p.m. Subcutaneous emphysema in the right chest wall has diminished slightly since removal of the right pleural tube .', 'There is still a small pocket of air and fluid , or clot in the right upper chest alongside the surgical rib fracture .', 'Right lung is diffusely edematous , perhaps from hilar lymphatic or venous congestion .', 'Left lung is hyperinflated due to emphysema and clear of any focal abnormality .', 'The heart is normal size .', 'Fullness in the postoperative right hilus has improved since .', 'Lateral view shows persistence of an anterior air and fluid collection , which on the frontal view is at the level of the NUMBER anterior interspace .']}</td>\n",
       "    </tr>\n",
       "    <tr>\n",
       "      <th>225292</th>\n",
       "      <td>s57757467.txt</td>\n",
       "      <td>{'final_report': {'no_section': 'AP CHEST, 12:08 P.M. ON DEID .', 'history': 'Emphysema. After EBUS. Rule out pneumothorax.', 'impression': 'AP chest compared to DEID : There is no pneumothorax, pleural effusion or evidence of hemorrhage in the lung or mediastinum. Emphysema is severe. Heart size is normal. The complex of nodule and large bullae in the axillary region of the right upper lobe is essentially unchanged.'}}</td>\n",
       "      <td>AP chest compared to DEID : There is no pneumothorax, pleural effusion or evidence of hemorrhage in the lung or mediastinum. Emphysema is severe. Heart size is normal. The complex of nodule and large bullae in the axillary region of the right upper lobe is essentially unchanged.</td>\n",
       "      <td>[impression]</td>\n",
       "      <td>{'sentences': ['AP chest compared to : There is no pneumothorax , pleural effusion or evidence of hemorrhage in the lung or mediastinum .', 'Emphysema is severe .', 'Heart size is normal .', 'The complex of nodule and large bullae in the axillary region of the right upper lobe is essentially unchanged .']}</td>\n",
       "    </tr>\n",
       "    <tr>\n",
       "      <th>225293</th>\n",
       "      <td>s58283482.txt</td>\n",
       "      <td>{'final_report': {'history': 'Right VATS converted to thoracotomy and right upper lobectomy.', 'findings': 'In comparison with the study of DEID , one of the right chest tubes appears to have been removed. No definite pneumothorax is appreciated. Post-surgical changes persist in the right hemithorax and there is extensive subcutaneous gas along the right lateral chest wall.'}}</td>\n",
       "      <td>In comparison with the study of DEID , one of the right chest tubes appears to have been removed. No definite pneumothorax is appreciated. Post-surgical changes persist in the right hemithorax and there is extensive subcutaneous gas along the right lateral chest wall.</td>\n",
       "      <td>[finding]</td>\n",
       "      <td>{'sentences': ['In comparison with the study of , NUMBER of the right chest tubes appears to have been removed .', 'No definite pneumothorax is appreciated .', 'Post-surgical changes persist in the right hemithorax and there is extensive subcutaneous gas along the right lateral chest wall .']}</td>\n",
       "    </tr>\n",
       "    <tr>\n",
       "      <th>225294</th>\n",
       "      <td>s59381316.txt</td>\n",
       "      <td>{'final_report': {'type_of_examination': 'CHEST, PA AND LATERAL.', 'indication': 'DEID -year-old female patient with right VATS of right upper lobe, chest tube clamped for six hours, evaluate for interval change.', 'findings': 'PA and lateral chest views were obtained with patient in upright position. Comparison is made with the next preceding similar study obtained four hours earlier during the same day. The previously described right-sided chest tube remains in unchanged position. No pneumothorax has developed and there is no evidence of significantly increased pleural densities during this interval. The right-sided chest wall emphysema described earlier has regressed. No new abnormalities are seen. Left-sided hemithorax is unremarkable.'}}</td>\n",
       "      <td>PA and lateral chest views were obtained with patient in upright position. Comparison is made with the next preceding similar study obtained four hours earlier during the same day. The previously described right-sided chest tube remains in unchanged position. No pneumothorax has developed and there is no evidence of significantly increased pleural densities during this interval. The right-sided chest wall emphysema described earlier has regressed. No new abnormalities are seen. Left-sided hemithorax is unremarkable.</td>\n",
       "      <td>[finding]</td>\n",
       "      <td>{'sentences': ['PA and lateral chest views were obtained with patient in upright position .', 'Comparison is made with the next preceding similar study obtained NUMBER hours earlier during the same day .', 'The previously described right-sided chest tube remains in unchanged position .', 'No pneumothorax has developed and there is no evidence of significantly increased pleural densities during this interval .', 'The right-sided chest wall emphysema described earlier has regressed .', 'No new abnormalities are seen .', 'Left-sided hemithorax is unremarkable .']}</td>\n",
       "    </tr>\n",
       "  </tbody>\n",
       "</table>\n",
       "<p>225293 rows × 5 columns</p>\n",
       "</div>"
      ],
      "text/plain": [
       "             filename  \\\n",
       "0       s50414267.txt   \n",
       "1       s53189527.txt   \n",
       "2       s53911762.txt   \n",
       "3       s56699142.txt   \n",
       "4       s57375967.txt   \n",
       "...               ...   \n",
       "225290  s56918032.txt   \n",
       "225291  s57096024.txt   \n",
       "225292  s57757467.txt   \n",
       "225293  s58283482.txt   \n",
       "225294  s59381316.txt   \n",
       "\n",
       "                                                                                                                                                                                                                                                                                                                                                                                                                                                                                                                                                                                                                                                                                                                                                                                                                                                                                                                                         report  \\\n",
       "0       {'final_report': {'examination': 'CHEST (PA AND LAT)', 'indication': 'DEID F with new onset ascites // eval for infection', 'technique': 'Chest PA and lateral', 'comparison': 'None.', 'findings': 'There is no focal consolidation, pleural effusion or pneumothorax. Bilateral nodular opacities that most likely represent nipple shadows. The cardiomediastinal silhouette is normal. Clips project over the left lung, potentially within the breast. The imaged upper abdomen is unremarkable. Chronic deformity of the posterior left sixth and seventh ribs are noted.', 'impression': 'No acute cardiopulmonary process.'}}                                                                                                                                                                                                                                                                                                     \n",
       "1       {'final_report': {'examination': 'CHEST (PA AND LAT)', 'indication': 'History: DEID F with shortness of breath', 'technique': 'Chest PA and lateral', 'comparison': 'DEID', 'findings': 'The cardiac, mediastinal and hilar contours are normal. Pulmonary vasculature is normal. Lungs are clear. No pleural effusion or pneumothorax is present. Multiple clips are again seen projecting over the left breast. Remote left-sided rib fractures are also re- demonstrated.', 'impression': 'No acute cardiopulmonary abnormality.'}}                                                                                                                                                                                                                                                                                                                                                                                                    \n",
       "2       {'final_report': {'examination': 'CHEST (PORTABLE AP)', 'indication': 'DEID F with cough // acute process?', 'comparison': 'Chest radiograph DEID', 'findings': 'Single frontal view of the chest provided. There is no focal consolidation, effusion, or pneumothorax. The cardiomediastinal silhouette is normal. Again seen are multiple clips projecting over the left breast and remote left-sided rib fractures. No free air below the right hemidiaphragm is seen.', 'impression': 'No acute intrathoracic process.'}}                                                                                                                                                                                                                                                                                                                                                                                                             \n",
       "3       {'final_report': {'indication': 'DEID year old woman with cirrhosis.', 'technique': 'Frontal chest radiographs were obtained with the patient in the upright position.', 'comparison': 'Radiographs from DEID , DEID and DEID .', 'findings': 'The lungs are clear of focal consolidation, pleural effusion or pneumothorax. The heart size is normal. The mediastinal contours are normal. Multiple surgical clips project over the left breast, and old left rib fractures are noted.', 'impression': 'No acute cardiopulmonary process.'}}                                                                                                                                                                                                                                                                                                                                                                                             \n",
       "4       {'final_report': {'examination': 'CHEST (PA AND LAT)', 'indication': 'DEID M with hypoxia // ?pna, aspiration.', 'comparison': 'None', 'findings': 'PA and lateral views of the chest provided. The lungs are adequately aerated. There is a focal consolidation at the left lung base adjacent to the lateral hemidiaphragm. There is mild vascular engorgement. There is bilateral apical pleural thickening. The cardiomediastinal silhouette is remarkable for aortic arch calcifications. The heart is top normal in size.', 'impression': 'Focal consolidation at the left lung base, possibly representing aspiration or pneumonia. Central vascular engorgement.'}}                                                                                                                                                                                                                                                               \n",
       "...                                                                                                                                                                                                                                                                                                                                                                                                                                                                                                                                                                                                                                                                             ...                                                                                                                                                                                                                                                               \n",
       "225290  {'final_report': {'history': 'COPD with dyspnea on exertion.', 'findings': 'In comparison with study of DEID , there is again evidence of severe COPD with apparent bullous changes in the apices. Old healed rib fractures are noted on the right. However, there is no evidence of acute pneumonia or vascular congestion at this time.'}}                                                                                                                                                                                                                                                                                                                                                                                                                                                                                                                                                                                              \n",
       "225291  {'final_report': {'no_section': 'PA AND LATERAL CHEST, DEID .', 'history': 'Right VATS converted to thoracotomy for right upper lobectomy. Rule out pneumothorax. Chest tube removed.', 'impression': 'PA and lateral chest compared to DEID through DEID at 3:59 p.m. Subcutaneous emphysema in the right chest wall has diminished slightly since removal of the right pleural tube. There is still a small pocket of air and fluid, or clot in the right upper chest alongside the surgical rib fracture. Right lung is diffusely edematous, perhaps from hilar lymphatic or venous congestion. Left lung is hyperinflated due to emphysema and clear of any focal abnormality. The heart is normal size. Fullness in the postoperative right hilus has improved since DEID . Lateral view shows persistence of an anterior air and fluid collection, which on the frontal view is at the level of the third anterior interspace.'}}   \n",
       "225292  {'final_report': {'no_section': 'AP CHEST, 12:08 P.M. ON DEID .', 'history': 'Emphysema. After EBUS. Rule out pneumothorax.', 'impression': 'AP chest compared to DEID : There is no pneumothorax, pleural effusion or evidence of hemorrhage in the lung or mediastinum. Emphysema is severe. Heart size is normal. The complex of nodule and large bullae in the axillary region of the right upper lobe is essentially unchanged.'}}                                                                                                                                                                                                                                                                                                                                                                                                                                                                                                   \n",
       "225293  {'final_report': {'history': 'Right VATS converted to thoracotomy and right upper lobectomy.', 'findings': 'In comparison with the study of DEID , one of the right chest tubes appears to have been removed. No definite pneumothorax is appreciated. Post-surgical changes persist in the right hemithorax and there is extensive subcutaneous gas along the right lateral chest wall.'}}                                                                                                                                                                                                                                                                                                                                                                                                                                                                                                                                               \n",
       "225294  {'final_report': {'type_of_examination': 'CHEST, PA AND LATERAL.', 'indication': 'DEID -year-old female patient with right VATS of right upper lobe, chest tube clamped for six hours, evaluate for interval change.', 'findings': 'PA and lateral chest views were obtained with patient in upright position. Comparison is made with the next preceding similar study obtained four hours earlier during the same day. The previously described right-sided chest tube remains in unchanged position. No pneumothorax has developed and there is no evidence of significantly increased pleural densities during this interval. The right-sided chest wall emphysema described earlier has regressed. No new abnormalities are seen. Left-sided hemithorax is unremarkable.'}}                                                                                                                                                          \n",
       "\n",
       "                                                                                                                                                                                                                                                                                                                                                                                                                                                                                                                                                                                                                                                                                                                      original_report  \\\n",
       "0       There is no focal consolidation, pleural effusion or pneumothorax. Bilateral nodular opacities that most likely represent nipple shadows. The cardiomediastinal silhouette is normal. Clips project over the left lung, potentially within the breast. The imaged upper abdomen is unremarkable. Chronic deformity of the posterior left sixth and seventh ribs are noted. No acute cardiopulmonary process.                                                                                                                                                                                                                                                                                                                    \n",
       "1       The cardiac, mediastinal and hilar contours are normal. Pulmonary vasculature is normal. Lungs are clear. No pleural effusion or pneumothorax is present. Multiple clips are again seen projecting over the left breast. Remote left-sided rib fractures are also re- demonstrated. No acute cardiopulmonary abnormality.                                                                                                                                                                                                                                                                                                                                                                                                       \n",
       "2       Single frontal view of the chest provided. There is no focal consolidation, effusion, or pneumothorax. The cardiomediastinal silhouette is normal. Again seen are multiple clips projecting over the left breast and remote left-sided rib fractures. No free air below the right hemidiaphragm is seen. No acute intrathoracic process.                                                                                                                                                                                                                                                                                                                                                                                        \n",
       "3       The lungs are clear of focal consolidation, pleural effusion or pneumothorax. The heart size is normal. The mediastinal contours are normal. Multiple surgical clips project over the left breast, and old left rib fractures are noted. No acute cardiopulmonary process.                                                                                                                                                                                                                                                                                                                                                                                                                                                      \n",
       "4       PA and lateral views of the chest provided. The lungs are adequately aerated. There is a focal consolidation at the left lung base adjacent to the lateral hemidiaphragm. There is mild vascular engorgement. There is bilateral apical pleural thickening. The cardiomediastinal silhouette is remarkable for aortic arch calcifications. The heart is top normal in size. Focal consolidation at the left lung base, possibly representing aspiration or pneumonia. Central vascular engorgement.                                                                                                                                                                                                                             \n",
       "...                                                                                                                                                                                                                                                                                                                                                                                                                                                                                                     ...                                                                                                                                                                                                                             \n",
       "225290  In comparison with study of DEID , there is again evidence of severe COPD with apparent bullous changes in the apices. Old healed rib fractures are noted on the right. However, there is no evidence of acute pneumonia or vascular congestion at this time.                                                                                                                                                                                                                                                                                                                                                                                                                                                                   \n",
       "225291  PA and lateral chest compared to DEID through DEID at 3:59 p.m. Subcutaneous emphysema in the right chest wall has diminished slightly since removal of the right pleural tube. There is still a small pocket of air and fluid, or clot in the right upper chest alongside the surgical rib fracture. Right lung is diffusely edematous, perhaps from hilar lymphatic or venous congestion. Left lung is hyperinflated due to emphysema and clear of any focal abnormality. The heart is normal size. Fullness in the postoperative right hilus has improved since DEID . Lateral view shows persistence of an anterior air and fluid collection, which on the frontal view is at the level of the third anterior interspace.   \n",
       "225292  AP chest compared to DEID : There is no pneumothorax, pleural effusion or evidence of hemorrhage in the lung or mediastinum. Emphysema is severe. Heart size is normal. The complex of nodule and large bullae in the axillary region of the right upper lobe is essentially unchanged.                                                                                                                                                                                                                                                                                                                                                                                                                                         \n",
       "225293  In comparison with the study of DEID , one of the right chest tubes appears to have been removed. No definite pneumothorax is appreciated. Post-surgical changes persist in the right hemithorax and there is extensive subcutaneous gas along the right lateral chest wall.                                                                                                                                                                                                                                                                                                                                                                                                                                                    \n",
       "225294  PA and lateral chest views were obtained with patient in upright position. Comparison is made with the next preceding similar study obtained four hours earlier during the same day. The previously described right-sided chest tube remains in unchanged position. No pneumothorax has developed and there is no evidence of significantly increased pleural densities during this interval. The right-sided chest wall emphysema described earlier has regressed. No new abnormalities are seen. Left-sided hemithorax is unremarkable.                                                                                                                                                                                       \n",
       "\n",
       "               origin_section  \\\n",
       "0       [finding, impression]   \n",
       "1       [finding, impression]   \n",
       "2       [finding, impression]   \n",
       "3       [finding, impression]   \n",
       "4       [finding, impression]   \n",
       "...                       ...   \n",
       "225290  [finding]               \n",
       "225291  [impression]            \n",
       "225292  [impression]            \n",
       "225293  [finding]               \n",
       "225294  [finding]               \n",
       "\n",
       "                                                                                                                                                                                                                                                                                                                                                                                                                                                                                                                                                                                                                                                                                                                                                    normalized_report  \n",
       "0       {'sentences': ['There is no focal consolidation , pleural effusion or pneumothorax .', 'Bilateral nodular opacities that most likely represent nipple shadows .', 'The cardiomediastinal silhouette is normal .', 'Clips project over the left lung , potentially within the breast .', 'The imaged upper abdomen is unremarkable .', 'Chronic deformity of the posterior left NUMBER and NUMBER ribs are noted .', 'No acute cardiopulmonary process .']}                                                                                                                                                                                                                                                                                                     \n",
       "1       {'sentences': ['The cardiac , mediastinal and hilar contours are normal .', 'Pulmonary vasculature is normal .', 'Lungs are clear .', 'No pleural effusion or pneumothorax is present .', 'Multiple clips are again seen projecting over the left breast .', 'Remote left-sided rib fractures are also re- demonstrated .', 'No acute cardiopulmonary abnormality .']}                                                                                                                                                                                                                                                                                                                                                                                         \n",
       "2       {'sentences': ['Single frontal view of the chest provided .', 'There is no focal consolidation , effusion , or pneumothorax .', 'The cardiomediastinal silhouette is normal .', 'Again seen are multiple clips projecting over the left breast and remote left-sided rib fractures .', 'No free air below the right hemidiaphragm is seen .', 'No acute intrathoracic process .']}                                                                                                                                                                                                                                                                                                                                                                             \n",
       "3       {'sentences': ['The lungs are clear of focal consolidation , pleural effusion or pneumothorax .', 'The heart size is normal .', 'The mediastinal contours are normal .', 'Multiple surgical clips project over the left breast , and old left rib fractures are noted .', 'No acute cardiopulmonary process .']}                                                                                                                                                                                                                                                                                                                                                                                                                                               \n",
       "4       {'sentences': ['PA and lateral views of the chest provided .', 'The lungs are adequately aerated .', 'There is a focal consolidation at the left lung base adjacent to the lateral hemidiaphragm .', 'There is mild vascular engorgement .', 'There is bilateral apical pleural thickening .', 'The cardiomediastinal silhouette is remarkable for aortic arch calcifications .', 'The heart is top normal in size .', 'Focal consolidation at the left lung base , possibly representing aspiration or pneumonia .', 'Central vascular engorgement .']}                                                                                                                                                                                                       \n",
       "...                                                                                                                                                                                                                                                                                                                                                                                                                                                                                                                                                          ...                                                                                                                                                                                                       \n",
       "225290  {'sentences': ['In comparison with study of , there is again evidence of severe COPD with apparent bullous changes in the apices .', 'Old healed rib fractures are noted on the right .', 'However , there is no evidence of acute pneumonia or vascular congestion at this time .']}                                                                                                                                                                                                                                                                                                                                                                                                                                                                          \n",
       "225291  {'sentences': ['PA and lateral chest compared to through at 3:59 p.m. Subcutaneous emphysema in the right chest wall has diminished slightly since removal of the right pleural tube .', 'There is still a small pocket of air and fluid , or clot in the right upper chest alongside the surgical rib fracture .', 'Right lung is diffusely edematous , perhaps from hilar lymphatic or venous congestion .', 'Left lung is hyperinflated due to emphysema and clear of any focal abnormality .', 'The heart is normal size .', 'Fullness in the postoperative right hilus has improved since .', 'Lateral view shows persistence of an anterior air and fluid collection , which on the frontal view is at the level of the NUMBER anterior interspace .']}  \n",
       "225292  {'sentences': ['AP chest compared to : There is no pneumothorax , pleural effusion or evidence of hemorrhage in the lung or mediastinum .', 'Emphysema is severe .', 'Heart size is normal .', 'The complex of nodule and large bullae in the axillary region of the right upper lobe is essentially unchanged .']}                                                                                                                                                                                                                                                                                                                                                                                                                                            \n",
       "225293  {'sentences': ['In comparison with the study of , NUMBER of the right chest tubes appears to have been removed .', 'No definite pneumothorax is appreciated .', 'Post-surgical changes persist in the right hemithorax and there is extensive subcutaneous gas along the right lateral chest wall .']}                                                                                                                                                                                                                                                                                                                                                                                                                                                         \n",
       "225294  {'sentences': ['PA and lateral chest views were obtained with patient in upright position .', 'Comparison is made with the next preceding similar study obtained NUMBER hours earlier during the same day .', 'The previously described right-sided chest tube remains in unchanged position .', 'No pneumothorax has developed and there is no evidence of significantly increased pleural densities during this interval .', 'The right-sided chest wall emphysema described earlier has regressed .', 'No new abnormalities are seen .', 'Left-sided hemithorax is unremarkable .']}                                                                                                                                                                        \n",
       "\n",
       "[225293 rows x 5 columns]"
      ]
     },
     "execution_count": 94,
     "metadata": {},
     "output_type": "execute_result"
    }
   ],
   "source": [
    "## use df_report for following process\n",
    "df_report = lm_report_ds.copy()\n",
    "df_report.drop(df_report[df_report['filename'] == 's54168089.txt'].index, inplace = True) \n",
    "df_report"
   ]
  },
  {
   "cell_type": "code",
   "execution_count": 103,
   "metadata": {},
   "outputs": [],
   "source": [
    "## also remove the corresponding images with this empty report from frontal_ds\n",
    "frontal_ds.drop(frontal_ds[frontal_ds['study_id']==54168089].index, inplace=True)"
   ]
  },
  {
   "cell_type": "code",
   "execution_count": 105,
   "metadata": {},
   "outputs": [
    {
     "name": "stdout",
     "output_type": "stream",
     "text": [
      "225293 225293\n"
     ]
    },
    {
     "data": {
      "text/plain": [
       "True"
      ]
     },
     "execution_count": 105,
     "metadata": {},
     "output_type": "execute_result"
    }
   ],
   "source": [
    "## sanity check if the text report name (study id) in frontal_ds is the same set as lm_report_ds\n",
    "def extract_txt(row, col_name):\n",
    "    col = row[col_name]\n",
    "    col = os.path.basename(col)\n",
    "    return col\n",
    "study1 = frontal_ds.apply(extract_txt, args=('txt',), axis=1).unique()\n",
    "study2 = df_report['filename'].unique()\n",
    "print(len(study1), len(study2))\n",
    "np.array_equal(study1, study2)"
   ]
  },
  {
   "cell_type": "code",
   "execution_count": 161,
   "metadata": {},
   "outputs": [
    {
     "name": "stdout",
     "output_type": "stream",
     "text": [
      "Train split 241805, official split 245660.\n",
      "Validate split 2255, official split 1761.\n",
      "Test split 3361, official split 3403.\n",
      "Hold split 3403, official split 0.\n"
     ]
    }
   ],
   "source": [
    "## check. the split and official split\n",
    "print('Train split %d, official split %d.' % \n",
    "      (frontal_ds[frontal_ds['split']=='train'].shape[0], frontal_ds[frontal_ds['official_split']=='train'].shape[0])) \n",
    "print('Validate split %d, official split %d.' % \n",
    "      (frontal_ds[frontal_ds['split']=='validate'].shape[0], frontal_ds[frontal_ds['official_split']=='validate'].shape[0])) \n",
    "print('Test split %d, official split %d.' % \n",
    "      (frontal_ds[frontal_ds['split']=='test'].shape[0], frontal_ds[frontal_ds['official_split']=='test'].shape[0])) \n",
    "print('Hold split %d, official split %d.' % \n",
    "      (frontal_ds[frontal_ds['split']=='hold'].shape[0], frontal_ds[frontal_ds['official_split']=='hold'].shape[0])) "
   ]
  },
  {
   "cell_type": "code",
   "execution_count": 162,
   "metadata": {},
   "outputs": [
    {
     "name": "stdout",
     "output_type": "stream",
     "text": [
      "Train split 217252, official split 220696.\n",
      "Validate split 2000, official split 1556.\n",
      "Test split 3000, official split 3041.\n"
     ]
    }
   ],
   "source": [
    "## check. the split and official split on report level\n",
    "print('Train split %d, official split %d.' % \n",
    "      (frontal_ds[frontal_ds['split']=='train']['study_id'].unique().shape[0], \n",
    "       frontal_ds[frontal_ds['official_split']=='train']['study_id'].unique().shape[0])) \n",
    "print('Validate split %d, official split %d.' % \n",
    "      (frontal_ds[frontal_ds['split']=='validate']['study_id'].unique().shape[0], \n",
    "       frontal_ds[frontal_ds['official_split']=='validate']['study_id'].unique().shape[0])) \n",
    "print('Test split %d, official split %d.' % \n",
    "      (frontal_ds[frontal_ds['split']=='test']['study_id'].unique().shape[0], \n",
    "       frontal_ds[frontal_ds['official_split']=='test']['study_id'].unique().shape[0])) "
   ]
  },
  {
   "cell_type": "code",
   "execution_count": 78,
   "metadata": {
    "collapsed": true,
    "jupyter": {
     "outputs_hidden": true
    }
   },
   "outputs": [
    {
     "data": {
      "text/html": [
       "<div>\n",
       "<style scoped>\n",
       "    .dataframe tbody tr th:only-of-type {\n",
       "        vertical-align: middle;\n",
       "    }\n",
       "\n",
       "    .dataframe tbody tr th {\n",
       "        vertical-align: top;\n",
       "    }\n",
       "\n",
       "    .dataframe thead th {\n",
       "        text-align: right;\n",
       "    }\n",
       "</style>\n",
       "<table border=\"1\" class=\"dataframe\">\n",
       "  <thead>\n",
       "    <tr style=\"text-align: right;\">\n",
       "      <th></th>\n",
       "      <th>uid</th>\n",
       "      <th>subject_id</th>\n",
       "      <th>study_id</th>\n",
       "      <th>dicom_id</th>\n",
       "      <th>img</th>\n",
       "      <th>txt</th>\n",
       "      <th>ViewPosition</th>\n",
       "      <th>Rows</th>\n",
       "      <th>Columns</th>\n",
       "      <th>split</th>\n",
       "      <th>official_split</th>\n",
       "    </tr>\n",
       "  </thead>\n",
       "  <tbody>\n",
       "    <tr>\n",
       "      <th>109903</th>\n",
       "      <td>167305</td>\n",
       "      <td>14463099</td>\n",
       "      <td>54168089</td>\n",
       "      <td>c8b18fab-d970277a-7e1f18df-95c19894-7bb3abce</td>\n",
       "      <td>files/p14/p14463099/s54168089/c8b18fab-d970277a-7e1f18df-95c19894-7bb3abce.dcm</td>\n",
       "      <td>files/p14/p14463099/s54168089.txt</td>\n",
       "      <td>PA</td>\n",
       "      <td>3056</td>\n",
       "      <td>2544</td>\n",
       "      <td>train</td>\n",
       "      <td>train</td>\n",
       "    </tr>\n",
       "  </tbody>\n",
       "</table>\n",
       "</div>"
      ],
      "text/plain": [
       "           uid  subject_id  study_id  \\\n",
       "109903  167305  14463099    54168089   \n",
       "\n",
       "                                            dicom_id  \\\n",
       "109903  c8b18fab-d970277a-7e1f18df-95c19894-7bb3abce   \n",
       "\n",
       "                                                                                   img  \\\n",
       "109903  files/p14/p14463099/s54168089/c8b18fab-d970277a-7e1f18df-95c19894-7bb3abce.dcm   \n",
       "\n",
       "                                      txt ViewPosition  Rows  Columns  split  \\\n",
       "109903  files/p14/p14463099/s54168089.txt  PA           3056  2544     train   \n",
       "\n",
       "       official_split  \n",
       "109903  train          "
      ]
     },
     "execution_count": 78,
     "metadata": {},
     "output_type": "execute_result"
    }
   ],
   "source": [
    "# frontal_ds[frontal_ds['study_id']==54168089] # empty report study id"
   ]
  },
  {
   "cell_type": "code",
   "execution_count": 95,
   "metadata": {
    "collapsed": true,
    "jupyter": {
     "outputs_hidden": true,
     "source_hidden": true
    }
   },
   "outputs": [
    {
     "data": {
      "text/html": [
       "<div>\n",
       "<style scoped>\n",
       "    .dataframe tbody tr th:only-of-type {\n",
       "        vertical-align: middle;\n",
       "    }\n",
       "\n",
       "    .dataframe tbody tr th {\n",
       "        vertical-align: top;\n",
       "    }\n",
       "\n",
       "    .dataframe thead th {\n",
       "        text-align: right;\n",
       "    }\n",
       "</style>\n",
       "<table border=\"1\" class=\"dataframe\">\n",
       "  <thead>\n",
       "    <tr style=\"text-align: right;\">\n",
       "      <th></th>\n",
       "      <th>filename</th>\n",
       "      <th>report</th>\n",
       "      <th>original_report</th>\n",
       "      <th>origin_section</th>\n",
       "      <th>normalized_report</th>\n",
       "    </tr>\n",
       "  </thead>\n",
       "  <tbody>\n",
       "  </tbody>\n",
       "</table>\n",
       "</div>"
      ],
      "text/plain": [
       "Empty DataFrame\n",
       "Columns: [filename, report, original_report, origin_section, normalized_report]\n",
       "Index: []"
      ]
     },
     "execution_count": 95,
     "metadata": {},
     "output_type": "execute_result"
    }
   ],
   "source": [
    "## check if empty report rows removed\n",
    "df_report[df_report['original_report'].isin([np.nan])]\n",
    "df_report[df_report['filename'] == 's54168089.txt']"
   ]
  },
  {
   "cell_type": "code",
   "execution_count": 14,
   "metadata": {
    "jupyter": {
     "source_hidden": true
    }
   },
   "outputs": [],
   "source": [
    "## deprecated due to a better version in MIT code\n",
    "## refer to /media/MyDataStor2/zhanghex/torch-master/joint_chestxray/joint_img_txt/data_preprocessing/notebooks\n",
    "## notebook: 'Data_Conversion_Language_Modeling.ipynb', \n",
    "## also more statistic info in 'Data_Conversion_joint_model_semisupervised.ipynb'\n",
    "\n",
    "# text_reports = {}\n",
    "# for i in tqdm(range(lm_report_ds.shape[0])):\n",
    "#     s = []\n",
    "#     try:\n",
    "# #         t=json.loads(lm_report_ds.iloc[i]['report'].replace(\"'\",'\"'))\n",
    "#         t = eval(lm_report_ds.iloc[i]['report'])\n",
    "#         if t['final_report']!='':\n",
    "#             if 'findings' in t['final_report'].keys():\n",
    "#                 f = t['final_report']['findings']\n",
    "#                 s.append(f if not isinstance(f,list) else ' '.join(f))\n",
    "#             if 'impression' in t['final_report'].keys():\n",
    "#                 imp = t['final_report']['impression']\n",
    "#                 s.append(imp if not isinstance(imp,list) else ' '.join(imp))\n",
    "#             if 'conclusion' in t['final_report'].keys():\n",
    "#                 s.append(t['final_report']['conclusion'])\n",
    "#             if 'recommendation' in t['final_report'].keys():\n",
    "#                 s.append(t['final_report']['recommendation'])\n",
    "#             if len(s)==0:\n",
    "#                 for key in t['final_report'].keys():\n",
    "#                     v = t['final_report'][key]\n",
    "#                     s.append(v if not isinstance(v,list) else ' '.join(v))\n",
    "                \n",
    "#             if len(s)!=0:\n",
    "#                 s_str = ' '.join(s)\n",
    "#                 text_reports[lm_report_ds.iloc[i]['filename']] = s_str\n",
    "#             else:\n",
    "#                 print(lm_report_ds.iloc[i]['filename'])\n",
    "#                 continue\n",
    "#     except Exception as ex:\n",
    "#         print('**** Error ****')\n",
    "#         print(ex)\n",
    "#         print(lm_report_ds.iloc[i]['filename'])\n",
    "#         print(lm_report_ds.iloc[i]['report'])\n",
    "#         print(t)\n",
    "#         break"
   ]
  },
  {
   "cell_type": "code",
   "execution_count": 96,
   "metadata": {},
   "outputs": [
    {
     "name": "stderr",
     "output_type": "stream",
     "text": [
      "100%|██████████| 225293/225293 [00:32<00:00, 6932.92it/s]"
     ]
    },
    {
     "name": "stdout",
     "output_type": "stream",
     "text": [
      "225293\n"
     ]
    },
    {
     "name": "stderr",
     "output_type": "stream",
     "text": [
      "\n"
     ]
    }
   ],
   "source": [
    "## generate text_reports dict, ['filename': normalized_report_single_sentence]\n",
    "text_reports = {}\n",
    "for i in tqdm(range(df_report.shape[0])):\n",
    "    text_reports[df_report.iloc[i]['filename']] = extract_report_from_normalized(df_report.iloc[i]['normalized_report'])\n",
    "print(len(text_reports))"
   ]
  },
  {
   "cell_type": "code",
   "execution_count": 97,
   "metadata": {},
   "outputs": [
    {
     "data": {
      "text/plain": [
       "'-year-old male with aortic stenosis , congestive cardiac failure , and fall , evaluate for trauma . . The lungs are low in volume with crowding of bronchovascular markings , but no focal consolidation , or pneumothorax is noted . There is mild cardiomegaly . No definite rib fractures are identified . If there is continued clinical concern for rib fractures , then a dedicated rib series can be obtained . Small left pleural effusion can not be excluded .'"
      ]
     },
     "execution_count": 97,
     "metadata": {},
     "output_type": "execute_result"
    }
   ],
   "source": [
    "text_reports['s56406919.txt'] # check if all impresssions are concatenated in one string"
   ]
  },
  {
   "cell_type": "code",
   "execution_count": 98,
   "metadata": {},
   "outputs": [
    {
     "data": {
      "text/html": [
       "<div>\n",
       "<style scoped>\n",
       "    .dataframe tbody tr th:only-of-type {\n",
       "        vertical-align: middle;\n",
       "    }\n",
       "\n",
       "    .dataframe tbody tr th {\n",
       "        vertical-align: top;\n",
       "    }\n",
       "\n",
       "    .dataframe thead th {\n",
       "        text-align: right;\n",
       "    }\n",
       "</style>\n",
       "<table border=\"1\" class=\"dataframe\">\n",
       "  <thead>\n",
       "    <tr style=\"text-align: right;\">\n",
       "      <th></th>\n",
       "      <th>filename</th>\n",
       "      <th>report</th>\n",
       "      <th>original_report</th>\n",
       "      <th>origin_section</th>\n",
       "      <th>normalized_report</th>\n",
       "    </tr>\n",
       "  </thead>\n",
       "  <tbody>\n",
       "    <tr>\n",
       "      <th>185543</th>\n",
       "      <td>s56406919.txt</td>\n",
       "      <td>{'final_report': {'indication': 'DEID -year-old male with aortic stenosis, congestive cardiac failure, and fall, evaluate for trauma.', 'comparison': 'DEID .', 'pa_and_lateral_chest_radiograph': 'The lungs are low in volume with crowding of bronchovascular markings, but no focal consolidation, or pneumothorax is noted. There is mild cardiomegaly. No definite rib fractures are identified. If there is continued clinical concern for rib fractures, then a dedicated rib series can be obtained. Small left pleural effusion cannot be excluded.'}}</td>\n",
       "      <td>DEID -year-old male with aortic stenosis, congestive cardiac failure, and fall, evaluate for trauma. DEID . The lungs are low in volume with crowding of bronchovascular markings, but no focal consolidation, or pneumothorax is noted. There is mild cardiomegaly. No definite rib fractures are identified. If there is continued clinical concern for rib fractures, then a dedicated rib series can be obtained. Small left pleural effusion cannot be excluded.</td>\n",
       "      <td>[final_report]</td>\n",
       "      <td>{'sentences': ['-year-old male with aortic stenosis , congestive cardiac failure , and fall , evaluate for trauma .', '.', 'The lungs are low in volume with crowding of bronchovascular markings , but no focal consolidation , or pneumothorax is noted .', 'There is mild cardiomegaly .', 'No definite rib fractures are identified .', 'If there is continued clinical concern for rib fractures , then a dedicated rib series can be obtained .', 'Small left pleural effusion can not be excluded .']}</td>\n",
       "    </tr>\n",
       "  </tbody>\n",
       "</table>\n",
       "</div>"
      ],
      "text/plain": [
       "             filename  \\\n",
       "185543  s56406919.txt   \n",
       "\n",
       "                                                                                                                                                                                                                                                                                                                                                                                                                                                                                                                                                                  report  \\\n",
       "185543  {'final_report': {'indication': 'DEID -year-old male with aortic stenosis, congestive cardiac failure, and fall, evaluate for trauma.', 'comparison': 'DEID .', 'pa_and_lateral_chest_radiograph': 'The lungs are low in volume with crowding of bronchovascular markings, but no focal consolidation, or pneumothorax is noted. There is mild cardiomegaly. No definite rib fractures are identified. If there is continued clinical concern for rib fractures, then a dedicated rib series can be obtained. Small left pleural effusion cannot be excluded.'}}   \n",
       "\n",
       "                                                                                                                                                                                                                                                                                                                                                                                                                                                              original_report  \\\n",
       "185543  DEID -year-old male with aortic stenosis, congestive cardiac failure, and fall, evaluate for trauma. DEID . The lungs are low in volume with crowding of bronchovascular markings, but no focal consolidation, or pneumothorax is noted. There is mild cardiomegaly. No definite rib fractures are identified. If there is continued clinical concern for rib fractures, then a dedicated rib series can be obtained. Small left pleural effusion cannot be excluded.   \n",
       "\n",
       "        origin_section  \\\n",
       "185543  [final_report]   \n",
       "\n",
       "                                                                                                                                                                                                                                                                                                                                                                                                                                                                                                    normalized_report  \n",
       "185543  {'sentences': ['-year-old male with aortic stenosis , congestive cardiac failure , and fall , evaluate for trauma .', '.', 'The lungs are low in volume with crowding of bronchovascular markings , but no focal consolidation , or pneumothorax is noted .', 'There is mild cardiomegaly .', 'No definite rib fractures are identified .', 'If there is continued clinical concern for rib fractures , then a dedicated rib series can be obtained .', 'Small left pleural effusion can not be excluded .']}  "
      ]
     },
     "execution_count": 98,
     "metadata": {},
     "output_type": "execute_result"
    }
   ],
   "source": [
    "df_report[df_report['filename']=='s56406919.txt']"
   ]
  },
  {
   "cell_type": "markdown",
   "metadata": {},
   "source": [
    "# Dataloader "
   ]
  },
  {
   "cell_type": "code",
   "execution_count": 19,
   "metadata": {},
   "outputs": [],
   "source": [
    "import torch\n",
    "import torch.utils.data as data\n",
    "import torchvision.transforms as transforms\n",
    "import torchvision.transforms.functional as TF\n",
    "from torch.utils.data import Dataset\n",
    "import torchvision as tv\n",
    "\n",
    "import os,sys\n",
    "import pandas as pd\n",
    "import numpy as np\n",
    "import pickle\n",
    "from PIL import Image\n",
    "import spacy\n",
    "import scispacy\n",
    "from tqdm import tqdm \n",
    "from nltk.tokenize import RegexpTokenizer\n",
    "from transformers import BertTokenizer\n"
   ]
  },
  {
   "cell_type": "code",
   "execution_count": 100,
   "metadata": {},
   "outputs": [],
   "source": [
    "## write the text_reports to pickle file temporately\n",
    "# with open('/media/MyDataStor2/MIMIC-CXR/lm_reports/text_reports_mit_normalized.pkl','wb') as f:\n",
    "#     pickle.dump(text_reports, f)\n",
    "# text_reports = pickle.load(f)"
   ]
  },
  {
   "cell_type": "code",
   "execution_count": 21,
   "metadata": {
    "jupyter": {
     "source_hidden": true
    }
   },
   "outputs": [],
   "source": [
    "# nlp = spacy.load('en_core_sci_md')"
   ]
  },
  {
   "cell_type": "code",
   "execution_count": 22,
   "metadata": {
    "jupyter": {
     "source_hidden": true
    }
   },
   "outputs": [],
   "source": [
    "\n",
    "# vocab='allenai/scibert_scivocab_uncased'\n",
    "# vocab = 'emilyalsentzer/Bio_ClinicalBERT'\n",
    "# tokenizer = BertTokenizer.from_pretrained(vocab, do_lower=True)\n",
    "\n",
    "def remove_whitespace(line):\n",
    "    return str(\" \".join(line.split()).strip())\n",
    "\n",
    "def list_to_string(sentence):\n",
    "    return \" \".join(sentence)\n",
    "\n",
    "def normalize_report(row):\n",
    "    report = row\n",
    "    report_sentences = nlp(report)\n",
    "    new_report_sentences = []\n",
    "    for sentence in report_sentences.sents:\n",
    "        index_to_keep_dict = {} # index: {keep that token or not, replace_with}\n",
    "        for index in range(0, len(sentence)):\n",
    "            token = sentence[index]\n",
    "            if index < len(sentence) - 1:\n",
    "                next_token = sentence[index + 1]\n",
    "                if token.is_punct and next_token.is_punct and token.text.strip() == next_token.text.strip():\n",
    "                    # when it is the same type of punctuation\n",
    "                    index_to_keep_dict[index] = {'keep': False, 'replace_with': None}\n",
    "                    continue\n",
    "            if token.like_num:\n",
    "                index_to_keep_dict[index] = {'keep': True, 'replace_with': 'NUMBER'}\n",
    "            else:\n",
    "                index_to_keep_dict[index] = {'keep': True, 'replace_with': None}\n",
    "        # generate a new sentence based on this replacement\n",
    "        new_sentence = []\n",
    "        for index in range(0, len(sentence)):\n",
    "            token = sentence[index]\n",
    "            if not index_to_keep_dict[index]['keep']:\n",
    "                continue # don't append when there is a double punctuation happening\n",
    "            if index_to_keep_dict[index]['replace_with'] is not None:\n",
    "                new_sentence.append(index_to_keep_dict[index]['replace_with'])\n",
    "                continue\n",
    "            new_sentence.append(token.text)\n",
    "        s = list_to_string(new_sentence).strip()\n",
    "        s = s.replace('DEID', '')\n",
    "        s = remove_whitespace(s)\n",
    "        new_report_sentences.append(s)\n",
    "    return {'sentences': ' '.join(new_report_sentences)}"
   ]
  },
  {
   "cell_type": "code",
   "execution_count": 106,
   "metadata": {},
   "outputs": [
    {
     "data": {
      "text/plain": [
       "225293"
      ]
     },
     "execution_count": 106,
     "metadata": {},
     "output_type": "execute_result"
    }
   ],
   "source": [
    "frontal_ds.study_id.nunique()"
   ]
  },
  {
   "cell_type": "code",
   "execution_count": 107,
   "metadata": {},
   "outputs": [
    {
     "name": "stderr",
     "output_type": "stream",
     "text": [
      "100%|██████████| 225293/225293 [00:10<00:00, 22218.94it/s]\n"
     ]
    }
   ],
   "source": [
    "token_dict = {}\n",
    "counter=0\n",
    "# state the regexp tokenizer instance here\n",
    "tokenizer = RegexpTokenizer(r'\\w+')\n",
    "\n",
    "for filename in tqdm(text_reports.keys()):\n",
    "    text = text_reports[filename]\n",
    "    tokens = tokenizer.tokenize(text.lower())\n",
    "    for token in tokens:\n",
    "        if str(token) not in token_dict:\n",
    "            token_dict[str(token)]=1\n",
    "        else:\n",
    "            token_dict[str(token)]+=1"
   ]
  },
  {
   "cell_type": "code",
   "execution_count": 108,
   "metadata": {},
   "outputs": [],
   "source": [
    "## temporately write token frequency dict to pickle file\n",
    "# with open('/media/MyDataStor2/MIMIC-CXR/lm_reports/token_count_dict_mit_normalized.pkl','wb') as f:\n",
    "#     pickle.dump(token_dict, f)"
   ]
  },
  {
   "cell_type": "code",
   "execution_count": 109,
   "metadata": {
    "collapsed": true,
    "jupyter": {
     "outputs_hidden": true
    }
   },
   "outputs": [
    {
     "data": {
      "text/html": [
       "<div>\n",
       "<style scoped>\n",
       "    .dataframe tbody tr th:only-of-type {\n",
       "        vertical-align: middle;\n",
       "    }\n",
       "\n",
       "    .dataframe tbody tr th {\n",
       "        vertical-align: top;\n",
       "    }\n",
       "\n",
       "    .dataframe thead th {\n",
       "        text-align: right;\n",
       "    }\n",
       "</style>\n",
       "<table border=\"1\" class=\"dataframe\">\n",
       "  <thead>\n",
       "    <tr style=\"text-align: right;\">\n",
       "      <th></th>\n",
       "      <th>words</th>\n",
       "      <th>frequency</th>\n",
       "    </tr>\n",
       "  </thead>\n",
       "  <tbody>\n",
       "    <tr>\n",
       "      <th>0</th>\n",
       "      <td>there</td>\n",
       "      <td>208949</td>\n",
       "    </tr>\n",
       "    <tr>\n",
       "      <th>1</th>\n",
       "      <td>is</td>\n",
       "      <td>531411</td>\n",
       "    </tr>\n",
       "    <tr>\n",
       "      <th>2</th>\n",
       "      <td>no</td>\n",
       "      <td>350379</td>\n",
       "    </tr>\n",
       "    <tr>\n",
       "      <th>3</th>\n",
       "      <td>focal</td>\n",
       "      <td>58965</td>\n",
       "    </tr>\n",
       "    <tr>\n",
       "      <th>4</th>\n",
       "      <td>consolidation</td>\n",
       "      <td>71223</td>\n",
       "    </tr>\n",
       "    <tr>\n",
       "      <th>...</th>\n",
       "      <td>...</td>\n",
       "      <td>...</td>\n",
       "    </tr>\n",
       "    <tr>\n",
       "      <th>13487</th>\n",
       "      <td>vasculatrue</td>\n",
       "      <td>1</td>\n",
       "    </tr>\n",
       "    <tr>\n",
       "      <th>13488</th>\n",
       "      <td>electrophysiology</td>\n",
       "      <td>1</td>\n",
       "    </tr>\n",
       "    <tr>\n",
       "      <th>13489</th>\n",
       "      <td>rounder</td>\n",
       "      <td>1</td>\n",
       "    </tr>\n",
       "    <tr>\n",
       "      <th>13490</th>\n",
       "      <td>oacities</td>\n",
       "      <td>1</td>\n",
       "    </tr>\n",
       "    <tr>\n",
       "      <th>13491</th>\n",
       "      <td>degenrative</td>\n",
       "      <td>1</td>\n",
       "    </tr>\n",
       "  </tbody>\n",
       "</table>\n",
       "<p>13492 rows × 2 columns</p>\n",
       "</div>"
      ],
      "text/plain": [
       "                   words  frequency\n",
       "0      there              208949   \n",
       "1      is                 531411   \n",
       "2      no                 350379   \n",
       "3      focal              58965    \n",
       "4      consolidation      71223    \n",
       "...              ...        ...    \n",
       "13487  vasculatrue        1        \n",
       "13488  electrophysiology  1        \n",
       "13489  rounder            1        \n",
       "13490  oacities           1        \n",
       "13491  degenrative        1        \n",
       "\n",
       "[13492 rows x 2 columns]"
      ]
     },
     "execution_count": 109,
     "metadata": {},
     "output_type": "execute_result"
    }
   ],
   "source": [
    "## just for visualization of word frequency, no use\n",
    "df_token_dict= pd.DataFrame.from_dict(token_dict, orient='index').reset_index()\n",
    "df_token_dict.columns = ['words', 'frequency']\n",
    "df_token_dict"
   ]
  },
  {
   "cell_type": "code",
   "execution_count": 110,
   "metadata": {
    "collapsed": true,
    "jupyter": {
     "outputs_hidden": true
    }
   },
   "outputs": [
    {
     "data": {
      "text/html": [
       "<div>\n",
       "<style scoped>\n",
       "    .dataframe tbody tr th:only-of-type {\n",
       "        vertical-align: middle;\n",
       "    }\n",
       "\n",
       "    .dataframe tbody tr th {\n",
       "        vertical-align: top;\n",
       "    }\n",
       "\n",
       "    .dataframe thead th {\n",
       "        text-align: right;\n",
       "    }\n",
       "</style>\n",
       "<table border=\"1\" class=\"dataframe\">\n",
       "  <thead>\n",
       "    <tr style=\"text-align: right;\">\n",
       "      <th></th>\n",
       "      <th>words</th>\n",
       "      <th>frequency</th>\n",
       "    </tr>\n",
       "  </thead>\n",
       "  <tbody>\n",
       "    <tr>\n",
       "      <th>0</th>\n",
       "      <td>there</td>\n",
       "      <td>208949</td>\n",
       "    </tr>\n",
       "    <tr>\n",
       "      <th>1</th>\n",
       "      <td>is</td>\n",
       "      <td>531411</td>\n",
       "    </tr>\n",
       "    <tr>\n",
       "      <th>2</th>\n",
       "      <td>no</td>\n",
       "      <td>350379</td>\n",
       "    </tr>\n",
       "    <tr>\n",
       "      <th>3</th>\n",
       "      <td>focal</td>\n",
       "      <td>58965</td>\n",
       "    </tr>\n",
       "    <tr>\n",
       "      <th>4</th>\n",
       "      <td>consolidation</td>\n",
       "      <td>71223</td>\n",
       "    </tr>\n",
       "    <tr>\n",
       "      <th>...</th>\n",
       "      <td>...</td>\n",
       "      <td>...</td>\n",
       "    </tr>\n",
       "    <tr>\n",
       "      <th>13352</th>\n",
       "      <td>evid</td>\n",
       "      <td>2</td>\n",
       "    </tr>\n",
       "    <tr>\n",
       "      <th>13353</th>\n",
       "      <td>pls</td>\n",
       "      <td>2</td>\n",
       "    </tr>\n",
       "    <tr>\n",
       "      <th>13391</th>\n",
       "      <td>lymphangiomyomatosis</td>\n",
       "      <td>3</td>\n",
       "    </tr>\n",
       "    <tr>\n",
       "      <th>13392</th>\n",
       "      <td>lymphangioleiomyomatosis</td>\n",
       "      <td>2</td>\n",
       "    </tr>\n",
       "    <tr>\n",
       "      <th>13485</th>\n",
       "      <td>wholly</td>\n",
       "      <td>2</td>\n",
       "    </tr>\n",
       "  </tbody>\n",
       "</table>\n",
       "<p>8406 rows × 2 columns</p>\n",
       "</div>"
      ],
      "text/plain": [
       "                          words  frequency\n",
       "0      there                     208949   \n",
       "1      is                        531411   \n",
       "2      no                        350379   \n",
       "3      focal                     58965    \n",
       "4      consolidation             71223    \n",
       "...              ...               ...    \n",
       "13352  evid                      2        \n",
       "13353  pls                       2        \n",
       "13391  lymphangiomyomatosis      3        \n",
       "13392  lymphangioleiomyomatosis  2        \n",
       "13485  wholly                    2        \n",
       "\n",
       "[8406 rows x 2 columns]"
      ]
     },
     "execution_count": 110,
     "metadata": {},
     "output_type": "execute_result"
    }
   ],
   "source": [
    "## check the words appear more than twice\n",
    "df_token_dict[df_token_dict['frequency']>1]"
   ]
  },
  {
   "cell_type": "code",
   "execution_count": 111,
   "metadata": {},
   "outputs": [
    {
     "data": {
      "text/plain": [
       "array(['there', 'is', 'no', ..., 'lymphangiomyomatosis',\n",
       "       'lymphangioleiomyomatosis', 'wholly'], dtype=object)"
      ]
     },
     "execution_count": 111,
     "metadata": {},
     "output_type": "execute_result"
    }
   ],
   "source": [
    "pd.options.display.max_rows = 600\n",
    "df_vocab = pd.DataFrame.from_dict(token_dict, orient='index').reset_index()\n",
    "df_vocab.columns = ['word', 'frequency']\n",
    "df_useful_vocab = df_vocab[df_vocab['frequency']>1]['word'].values\n",
    "df_useful_vocab"
   ]
  },
  {
   "cell_type": "code",
   "execution_count": 112,
   "metadata": {
    "collapsed": true,
    "jupyter": {
     "outputs_hidden": true
    }
   },
   "outputs": [
    {
     "data": {
      "text/html": [
       "<div>\n",
       "<style scoped>\n",
       "    .dataframe tbody tr th:only-of-type {\n",
       "        vertical-align: middle;\n",
       "    }\n",
       "\n",
       "    .dataframe tbody tr th {\n",
       "        vertical-align: top;\n",
       "    }\n",
       "\n",
       "    .dataframe thead th {\n",
       "        text-align: right;\n",
       "    }\n",
       "</style>\n",
       "<table border=\"1\" class=\"dataframe\">\n",
       "  <thead>\n",
       "    <tr style=\"text-align: right;\">\n",
       "      <th></th>\n",
       "      <th>words</th>\n",
       "      <th>word_ids</th>\n",
       "    </tr>\n",
       "  </thead>\n",
       "  <tbody>\n",
       "    <tr>\n",
       "      <th>0</th>\n",
       "      <td>[PAD]</td>\n",
       "      <td>0</td>\n",
       "    </tr>\n",
       "    <tr>\n",
       "      <th>1</th>\n",
       "      <td>[CLS]</td>\n",
       "      <td>1</td>\n",
       "    </tr>\n",
       "    <tr>\n",
       "      <th>2</th>\n",
       "      <td>[SEP]</td>\n",
       "      <td>2</td>\n",
       "    </tr>\n",
       "    <tr>\n",
       "      <th>3</th>\n",
       "      <td>[UNK]</td>\n",
       "      <td>3</td>\n",
       "    </tr>\n",
       "    <tr>\n",
       "      <th>4</th>\n",
       "      <td>there</td>\n",
       "      <td>4</td>\n",
       "    </tr>\n",
       "    <tr>\n",
       "      <th>...</th>\n",
       "      <td>...</td>\n",
       "      <td>...</td>\n",
       "    </tr>\n",
       "    <tr>\n",
       "      <th>8405</th>\n",
       "      <td>evid</td>\n",
       "      <td>8405</td>\n",
       "    </tr>\n",
       "    <tr>\n",
       "      <th>8406</th>\n",
       "      <td>pls</td>\n",
       "      <td>8406</td>\n",
       "    </tr>\n",
       "    <tr>\n",
       "      <th>8407</th>\n",
       "      <td>lymphangiomyomatosis</td>\n",
       "      <td>8407</td>\n",
       "    </tr>\n",
       "    <tr>\n",
       "      <th>8408</th>\n",
       "      <td>lymphangioleiomyomatosis</td>\n",
       "      <td>8408</td>\n",
       "    </tr>\n",
       "    <tr>\n",
       "      <th>8409</th>\n",
       "      <td>wholly</td>\n",
       "      <td>8409</td>\n",
       "    </tr>\n",
       "  </tbody>\n",
       "</table>\n",
       "<p>8410 rows × 2 columns</p>\n",
       "</div>"
      ],
      "text/plain": [
       "                         words  word_ids\n",
       "0     [PAD]                     0       \n",
       "1     [CLS]                     1       \n",
       "2     [SEP]                     2       \n",
       "3     [UNK]                     3       \n",
       "4     there                     4       \n",
       "...     ...                    ..       \n",
       "8405  evid                      8405    \n",
       "8406  pls                       8406    \n",
       "8407  lymphangiomyomatosis      8407    \n",
       "8408  lymphangioleiomyomatosis  8408    \n",
       "8409  wholly                    8409    \n",
       "\n",
       "[8410 rows x 2 columns]"
      ]
     },
     "execution_count": 112,
     "metadata": {},
     "output_type": "execute_result"
    }
   ],
   "source": [
    "df_mimic_vocab = pd.DataFrame()\n",
    "df_mimic_vocab['words'] = ['[PAD]', '[CLS]', '[SEP]','[UNK]'] + list(df_useful_vocab)\n",
    "df_mimic_vocab['word_ids'] = list(range(len(['[PAD]', '[CLS]', '[SEP]','[UNK]'] + list(df_useful_vocab))))\n",
    "df_mimic_vocab"
   ]
  },
  {
   "cell_type": "code",
   "execution_count": 113,
   "metadata": {},
   "outputs": [],
   "source": [
    "## make lookup tables: words -> ids and ids -> words\n",
    "idx2word = df_mimic_vocab.to_dict()['words']\n",
    "word2idx = {}\n",
    "for k,v in idx2word.items():\n",
    "    word2idx[v] = k"
   ]
  },
  {
   "cell_type": "code",
   "execution_count": 114,
   "metadata": {},
   "outputs": [
    {
     "data": {
      "text/plain": [
       "(8410, 8410)"
      ]
     },
     "execution_count": 114,
     "metadata": {},
     "output_type": "execute_result"
    }
   ],
   "source": [
    "len(idx2word), len(word2idx)"
   ]
  },
  {
   "cell_type": "markdown",
   "metadata": {},
   "source": [
    "# Create Dataset pickle"
   ]
  },
  {
   "cell_type": "code",
   "execution_count": 115,
   "metadata": {},
   "outputs": [],
   "source": [
    "split_id = {\n",
    "    'train':0\n",
    "    ,'validate':1\n",
    "    ,'test':2\n",
    "    , 'hold':3\n",
    "}"
   ]
  },
  {
   "cell_type": "code",
   "execution_count": 116,
   "metadata": {},
   "outputs": [
    {
     "name": "stderr",
     "output_type": "stream",
     "text": [
      "100%|██████████| 225293/225293 [07:34<00:00, 495.27it/s]\n"
     ]
    }
   ],
   "source": [
    "dataset = {}\n",
    "dataset['data_dict'] = {}\n",
    "for filename in tqdm(text_reports.keys()):\n",
    "    uid = int(filename[1:-4])\n",
    "    dataset['data_dict'][uid] = {}\n",
    "    split = split_id[frontal_ds[frontal_ds['study_id']==uid]['split'].values[0]]\n",
    "    official_split = split_id[frontal_ds[frontal_ds['study_id']==uid]['official_split'].values[0]]\n",
    "    imgs = list(frontal_ds[frontal_ds['study_id']==uid].img.values)\n",
    "    text = text_reports[filename]\n",
    "    tokens = tokenizer.tokenize(text.lower())\n",
    "    token_ids = [word2idx['[CLS]']] + [word2idx[x] if x in word2idx else word2idx['[UNK]'] for x in tokens] + [word2idx['[SEP]']]\n",
    "    dataset['data_dict'][uid]['filenames'] = imgs\n",
    "    dataset['data_dict'][uid]['text'] = text\n",
    "    dataset['data_dict'][uid]['split'] = split\n",
    "    dataset['data_dict'][uid]['official_split'] = official_split\n",
    "    dataset['data_dict'][uid]['token_ids'] = token_ids"
   ]
  },
  {
   "cell_type": "code",
   "execution_count": 117,
   "metadata": {},
   "outputs": [
    {
     "name": "stdout",
     "output_type": "stream",
     "text": [
      "-year-old male with aortic stenosis , congestive cardiac failure , and fall , evaluate for trauma . . The lungs are low in volume with crowding of bronchovascular markings , but no focal consolidation , or pneumothorax is noted . There is mild cardiomegaly . No definite rib fractures are identified . If there is continued clinical concern for rib fractures , then a dedicated rib series can be obtained . Small left pleural effusion can not be excluded .\n",
      "[CLS] year old male with aortic stenosis congestive cardiac failure and fall evaluate for trauma the lungs are low in volume with crowding of bronchovascular markings but no focal consolidation or pneumothorax is noted there is mild cardiomegaly no definite rib fractures are identified if there is continued clinical concern for rib fractures then a dedicated rib series can be obtained small left pleural effusion can not be excluded [SEP]\n"
     ]
    }
   ],
   "source": [
    "print(dataset['data_dict'][56406919]['text'])\n",
    "tks = dataset['data_dict'][56406919]['token_ids']\n",
    "print(' '.join([idx2word[x] for x in tks]))"
   ]
  },
  {
   "cell_type": "code",
   "execution_count": 118,
   "metadata": {},
   "outputs": [],
   "source": [
    "df_data_dict = pd.DataFrame.from_dict(dataset['data_dict']).T"
   ]
  },
  {
   "cell_type": "code",
   "execution_count": 119,
   "metadata": {
    "collapsed": true,
    "jupyter": {
     "outputs_hidden": true
    }
   },
   "outputs": [
    {
     "data": {
      "text/html": [
       "<div>\n",
       "<style scoped>\n",
       "    .dataframe tbody tr th:only-of-type {\n",
       "        vertical-align: middle;\n",
       "    }\n",
       "\n",
       "    .dataframe tbody tr th {\n",
       "        vertical-align: top;\n",
       "    }\n",
       "\n",
       "    .dataframe thead th {\n",
       "        text-align: right;\n",
       "    }\n",
       "</style>\n",
       "<table border=\"1\" class=\"dataframe\">\n",
       "  <thead>\n",
       "    <tr style=\"text-align: right;\">\n",
       "      <th></th>\n",
       "      <th>filenames</th>\n",
       "      <th>text</th>\n",
       "      <th>split</th>\n",
       "      <th>official_split</th>\n",
       "      <th>token_ids</th>\n",
       "    </tr>\n",
       "  </thead>\n",
       "  <tbody>\n",
       "    <tr>\n",
       "      <th>50414267</th>\n",
       "      <td>[files/p10/p10000032/s50414267/02aa804e-bde0afdd-112c0b34-7bc16630-4e384014.dcm]</td>\n",
       "      <td>There is no focal consolidation , pleural effusion or pneumothorax . Bilateral nodular opacities that most likely represent nipple shadows . The cardiomediastinal silhouette is normal . Clips project over the left lung , potentially within the breast . The imaged upper abdomen is unremarkable . Chronic deformity of the posterior left NUMBER and NUMBER ribs are noted . No acute cardiopulmonary process .</td>\n",
       "      <td>0</td>\n",
       "      <td>0</td>\n",
       "      <td>[1, 4, 5, 6, 7, 8, 9, 10, 11, 12, 13, 14, 15, 16, 17, 18, 19, 20, 21, 22, 23, 24, 5, 25, 26, 27, 28, 22, 29, 30, 31, 32, 22, 33, 22, 34, 35, 36, 5, 37, 38, 39, 40, 22, 41, 29, 42, 43, 42, 44, 45, 46, 6, 47, 48, 49, 2]</td>\n",
       "    </tr>\n",
       "    <tr>\n",
       "      <th>53189527</th>\n",
       "      <td>[files/p10/p10000032/s53189527/2a2277a9-b0ded155-c0de8eb9-c124d10e-82c5caab.dcm]</td>\n",
       "      <td>The cardiac , mediastinal and hilar contours are normal . Pulmonary vasculature is normal . Lungs are clear . No pleural effusion or pneumothorax is present . Multiple clips are again seen projecting over the left breast . Remote left-sided rib fractures are also re- demonstrated . No acute cardiopulmonary abnormality .</td>\n",
       "      <td>0</td>\n",
       "      <td>0</td>\n",
       "      <td>[1, 22, 50, 51, 43, 52, 53, 45, 25, 54, 55, 5, 25, 56, 45, 57, 6, 9, 10, 11, 12, 5, 58, 59, 26, 45, 60, 61, 62, 28, 22, 29, 33, 63, 29, 64, 65, 66, 45, 67, 68, 69, 6, 47, 48, 70, 2]</td>\n",
       "    </tr>\n",
       "    <tr>\n",
       "      <th>53911762</th>\n",
       "      <td>[files/p10/p10000032/s53911762/68b5c4b1-227d0485-9cc38c3f-7b84ab51-4b472714.dcm, files/p10/p10000032/s53911762/fffabebf-74fd3a1f-673b6b41-96ec0ac9-2ab69818.dcm]</td>\n",
       "      <td>Single frontal view of the chest provided . There is no focal consolidation , effusion , or pneumothorax . The cardiomediastinal silhouette is normal . Again seen are multiple clips projecting over the left breast and remote left-sided rib fractures . No free air below the right hemidiaphragm is seen . No acute intrathoracic process .</td>\n",
       "      <td>0</td>\n",
       "      <td>0</td>\n",
       "      <td>[1, 71, 72, 73, 40, 22, 74, 75, 4, 5, 6, 7, 8, 10, 11, 12, 22, 23, 24, 5, 25, 60, 61, 45, 59, 26, 62, 28, 22, 29, 33, 43, 63, 29, 64, 65, 66, 6, 76, 77, 78, 22, 79, 80, 5, 61, 6, 47, 81, 49, 2]</td>\n",
       "    </tr>\n",
       "    <tr>\n",
       "      <th>56699142</th>\n",
       "      <td>[files/p10/p10000032/s56699142/ea030e7a-2e3b1346-bc518786-7a8fd698-f673b44c.dcm]</td>\n",
       "      <td>The lungs are clear of focal consolidation , pleural effusion or pneumothorax . The heart size is normal . The mediastinal contours are normal . Multiple surgical clips project over the left breast , and old left rib fractures are noted . No acute cardiopulmonary process .</td>\n",
       "      <td>0</td>\n",
       "      <td>0</td>\n",
       "      <td>[1, 22, 56, 45, 57, 40, 7, 8, 9, 10, 11, 12, 22, 82, 83, 5, 25, 22, 51, 53, 45, 25, 59, 84, 26, 27, 28, 22, 29, 33, 43, 85, 29, 65, 66, 45, 46, 6, 47, 48, 49, 2]</td>\n",
       "    </tr>\n",
       "    <tr>\n",
       "      <th>57375967</th>\n",
       "      <td>[files/p10/p10000764/s57375967/096052b7-d256dc40-453a102b-fa7d01c6-1b22c6b4.dcm]</td>\n",
       "      <td>PA and lateral views of the chest provided . The lungs are adequately aerated . There is a focal consolidation at the left lung base adjacent to the lateral hemidiaphragm . There is mild vascular engorgement . There is bilateral apical pleural thickening . The cardiomediastinal silhouette is remarkable for aortic arch calcifications . The heart is top normal in size . Focal consolidation at the left lung base , possibly representing aspiration or pneumonia . Central vascular engorgement .</td>\n",
       "      <td>0</td>\n",
       "      <td>0</td>\n",
       "      <td>[1, 86, 43, 87, 88, 40, 22, 74, 75, 22, 56, 45, 89, 90, 4, 5, 91, 7, 8, 92, 22, 29, 30, 93, 94, 95, 22, 87, 80, 4, 5, 96, 97, 98, 4, 5, 13, 99, 9, 100, 22, 23, 24, 5, 101, 102, 103, 104, 105, 22, 82, 5, 106, 25, 107, 83, 7, 8, 92, 22, 29, 30, 93, 108, 109, 110, 11, 111, 112, 97, 98, 2]</td>\n",
       "    </tr>\n",
       "    <tr>\n",
       "      <th>...</th>\n",
       "      <td>...</td>\n",
       "      <td>...</td>\n",
       "      <td>...</td>\n",
       "      <td>...</td>\n",
       "      <td>...</td>\n",
       "    </tr>\n",
       "    <tr>\n",
       "      <th>56918032</th>\n",
       "      <td>[files/p19/p19991135/s56918032/52e964a2-7fa373f2-9b88b009-123e8817-48889d6b.dcm, files/p19/p19991135/s56918032/ebe1c050-b5cd68d5-7eb2b544-8906f022-e95300a4.dcm]</td>\n",
       "      <td>In comparison with study of , there is again evidence of severe COPD with apparent bullous changes in the apices . Old healed rib fractures are noted on the right . However , there is no evidence of acute pneumonia or vascular congestion at this time .</td>\n",
       "      <td>3</td>\n",
       "      <td>2</td>\n",
       "      <td>[1, 107, 258, 136, 174, 40, 4, 5, 60, 129, 40, 351, 508, 136, 374, 1445, 189, 107, 22, 474, 85, 1160, 65, 66, 45, 46, 148, 22, 79, 175, 4, 5, 6, 129, 40, 47, 111, 11, 97, 151, 92, 186, 756, 2]</td>\n",
       "    </tr>\n",
       "    <tr>\n",
       "      <th>57096024</th>\n",
       "      <td>[files/p19/p19991135/s57096024/4998e40c-698af874-8c293856-85757f55-1a4817e4.dcm]</td>\n",
       "      <td>PA and lateral chest compared to through at 3:59 p.m. Subcutaneous emphysema in the right chest wall has diminished slightly since removal of the right pleural tube . There is still a small pocket of air and fluid , or clot in the right upper chest alongside the surgical rib fracture . Right lung is diffusely edematous , perhaps from hilar lymphatic or venous congestion . Left lung is hyperinflated due to emphysema and clear of any focal abnormality . The heart is normal size . Fullness in the postoperative right hilus has improved since . Lateral view shows persistence of an anterior air and fluid collection , which on the frontal view is at the level of the NUMBER anterior interspace .</td>\n",
       "      <td>3</td>\n",
       "      <td>2</td>\n",
       "      <td>[1, 86, 43, 87, 74, 120, 95, 436, 92, 1330, 2004, 742, 710, 1074, 523, 107, 22, 79, 74, 191, 124, 1350, 354, 277, 783, 40, 22, 79, 9, 412, 4, 5, 288, 91, 144, 4834, 40, 77, 43, 435, 11, 5738, 107, 22, 79, 35, 74, 2464, 22, 84, 65, 222, 79, 30, 5, 320, 4396, 289, 386, 52, 2265, 11, 476, 151, 29, 30, 5, 460, 290, 95, 523, 43, 57, 40, 477, 7, 70, 22, 82, 5, 25, 83, 300, 107, 22, 885, 79, 844, 124, 283, 277, 87, 73, 293, 1328, 40, 397, 366, 77, 43, ...]</td>\n",
       "    </tr>\n",
       "    <tr>\n",
       "      <th>57757467</th>\n",
       "      <td>[files/p19/p19991135/s57757467/727e2aa5-ddfdd2ff-b5723867-520a758e-c81ca8e2.dcm]</td>\n",
       "      <td>AP chest compared to : There is no pneumothorax , pleural effusion or evidence of hemorrhage in the lung or mediastinum . Emphysema is severe . Heart size is normal . The complex of nodule and large bullae in the axillary region of the right upper lobe is essentially unchanged .</td>\n",
       "      <td>3</td>\n",
       "      <td>2</td>\n",
       "      <td>[1, 450, 74, 120, 95, 4, 5, 6, 12, 9, 10, 11, 129, 40, 1182, 107, 22, 30, 11, 259, 523, 5, 351, 82, 83, 5, 25, 22, 3866, 40, 872, 43, 434, 2984, 107, 22, 1487, 331, 40, 22, 79, 35, 172, 5, 340, 153, 2]</td>\n",
       "    </tr>\n",
       "    <tr>\n",
       "      <th>58283482</th>\n",
       "      <td>[files/p19/p19991135/s58283482/313f1d75-23648c34-dd36ecad-5d0f94e8-93a40356.dcm, files/p19/p19991135/s58283482/4d0251eb-cc875c55-fde85f43-3a9d7888-c62772b8.dcm, files/p19/p19991135/s58283482/f6a7a470-9e057a45-d244e0e5-3efe1422-bb946478.dcm]</td>\n",
       "      <td>In comparison with the study of , NUMBER of the right chest tubes appears to have been removed . No definite pneumothorax is appreciated . Post-surgical changes persist in the right hemithorax and there is extensive subcutaneous gas along the right lateral chest wall .</td>\n",
       "      <td>3</td>\n",
       "      <td>2</td>\n",
       "      <td>[1, 107, 258, 136, 22, 174, 40, 42, 40, 22, 79, 74, 677, 403, 95, 285, 125, 634, 6, 392, 12, 5, 648, 187, 84, 189, 357, 107, 22, 79, 214, 43, 4, 5, 1035, 1074, 787, 190, 22, 79, 87, 74, 191, 2]</td>\n",
       "    </tr>\n",
       "    <tr>\n",
       "      <th>59381316</th>\n",
       "      <td>[files/p19/p19991135/s59381316/d122eb74-bc404dd2-45a05cd3-18505b72-5058fbdd.dcm]</td>\n",
       "      <td>PA and lateral chest views were obtained with patient in upright position . Comparison is made with the next preceding similar study obtained NUMBER hours earlier during the same day . The previously described right-sided chest tube remains in unchanged position . No pneumothorax has developed and there is no evidence of significantly increased pleural densities during this interval . The right-sided chest wall emphysema described earlier has regressed . No new abnormalities are seen . Left-sided hemithorax is unremarkable .</td>\n",
       "      <td>3</td>\n",
       "      <td>2</td>\n",
       "      <td>[1, 86, 43, 87, 74, 88, 256, 453, 136, 248, 107, 254, 446, 258, 5, 694, 136, 22, 600, 601, 173, 174, 453, 42, 700, 448, 1432, 22, 245, 246, 22, 349, 530, 79, 64, 74, 412, 338, 107, 153, 446, 6, 12, 124, 567, 43, 4, 5, 6, 129, 40, 1251, 556, 9, 165, 1432, 186, 127, 22, 79, 64, 74, 191, 523, 530, 448, 124, 3569, 6, 156, 260, 45, 61, 29, 64, 214, 5, 37, 2]</td>\n",
       "    </tr>\n",
       "  </tbody>\n",
       "</table>\n",
       "<p>225293 rows × 5 columns</p>\n",
       "</div>"
      ],
      "text/plain": [
       "                                                                                                                                                                                                                                                 filenames  \\\n",
       "50414267  [files/p10/p10000032/s50414267/02aa804e-bde0afdd-112c0b34-7bc16630-4e384014.dcm]                                                                                                                                                                   \n",
       "53189527  [files/p10/p10000032/s53189527/2a2277a9-b0ded155-c0de8eb9-c124d10e-82c5caab.dcm]                                                                                                                                                                   \n",
       "53911762  [files/p10/p10000032/s53911762/68b5c4b1-227d0485-9cc38c3f-7b84ab51-4b472714.dcm, files/p10/p10000032/s53911762/fffabebf-74fd3a1f-673b6b41-96ec0ac9-2ab69818.dcm]                                                                                   \n",
       "56699142  [files/p10/p10000032/s56699142/ea030e7a-2e3b1346-bc518786-7a8fd698-f673b44c.dcm]                                                                                                                                                                   \n",
       "57375967  [files/p10/p10000764/s57375967/096052b7-d256dc40-453a102b-fa7d01c6-1b22c6b4.dcm]                                                                                                                                                                   \n",
       "...                                                                                    ...                                                                                                                                                                   \n",
       "56918032  [files/p19/p19991135/s56918032/52e964a2-7fa373f2-9b88b009-123e8817-48889d6b.dcm, files/p19/p19991135/s56918032/ebe1c050-b5cd68d5-7eb2b544-8906f022-e95300a4.dcm]                                                                                   \n",
       "57096024  [files/p19/p19991135/s57096024/4998e40c-698af874-8c293856-85757f55-1a4817e4.dcm]                                                                                                                                                                   \n",
       "57757467  [files/p19/p19991135/s57757467/727e2aa5-ddfdd2ff-b5723867-520a758e-c81ca8e2.dcm]                                                                                                                                                                   \n",
       "58283482  [files/p19/p19991135/s58283482/313f1d75-23648c34-dd36ecad-5d0f94e8-93a40356.dcm, files/p19/p19991135/s58283482/4d0251eb-cc875c55-fde85f43-3a9d7888-c62772b8.dcm, files/p19/p19991135/s58283482/f6a7a470-9e057a45-d244e0e5-3efe1422-bb946478.dcm]   \n",
       "59381316  [files/p19/p19991135/s59381316/d122eb74-bc404dd2-45a05cd3-18505b72-5058fbdd.dcm]                                                                                                                                                                   \n",
       "\n",
       "                                                                                                                                                                                                                                                                                                                                                                                                                                                                                                                                                                                                                                                                                                                              text  \\\n",
       "50414267  There is no focal consolidation , pleural effusion or pneumothorax . Bilateral nodular opacities that most likely represent nipple shadows . The cardiomediastinal silhouette is normal . Clips project over the left lung , potentially within the breast . The imaged upper abdomen is unremarkable . Chronic deformity of the posterior left NUMBER and NUMBER ribs are noted . No acute cardiopulmonary process .                                                                                                                                                                                                                                                                                                      \n",
       "53189527  The cardiac , mediastinal and hilar contours are normal . Pulmonary vasculature is normal . Lungs are clear . No pleural effusion or pneumothorax is present . Multiple clips are again seen projecting over the left breast . Remote left-sided rib fractures are also re- demonstrated . No acute cardiopulmonary abnormality .                                                                                                                                                                                                                                                                                                                                                                                          \n",
       "53911762  Single frontal view of the chest provided . There is no focal consolidation , effusion , or pneumothorax . The cardiomediastinal silhouette is normal . Again seen are multiple clips projecting over the left breast and remote left-sided rib fractures . No free air below the right hemidiaphragm is seen . No acute intrathoracic process .                                                                                                                                                                                                                                                                                                                                                                           \n",
       "56699142  The lungs are clear of focal consolidation , pleural effusion or pneumothorax . The heart size is normal . The mediastinal contours are normal . Multiple surgical clips project over the left breast , and old left rib fractures are noted . No acute cardiopulmonary process .                                                                                                                                                                                                                                                                                                                                                                                                                                          \n",
       "57375967  PA and lateral views of the chest provided . The lungs are adequately aerated . There is a focal consolidation at the left lung base adjacent to the lateral hemidiaphragm . There is mild vascular engorgement . There is bilateral apical pleural thickening . The cardiomediastinal silhouette is remarkable for aortic arch calcifications . The heart is top normal in size . Focal consolidation at the left lung base , possibly representing aspiration or pneumonia . Central vascular engorgement .                                                                                                                                                                                                              \n",
       "...                                                                                                                                                                                                                                                                                                                                                                                                                                                                                                                 ...                                                                                                                                                                                                              \n",
       "56918032  In comparison with study of , there is again evidence of severe COPD with apparent bullous changes in the apices . Old healed rib fractures are noted on the right . However , there is no evidence of acute pneumonia or vascular congestion at this time .                                                                                                                                                                                                                                                                                                                                                                                                                                                               \n",
       "57096024  PA and lateral chest compared to through at 3:59 p.m. Subcutaneous emphysema in the right chest wall has diminished slightly since removal of the right pleural tube . There is still a small pocket of air and fluid , or clot in the right upper chest alongside the surgical rib fracture . Right lung is diffusely edematous , perhaps from hilar lymphatic or venous congestion . Left lung is hyperinflated due to emphysema and clear of any focal abnormality . The heart is normal size . Fullness in the postoperative right hilus has improved since . Lateral view shows persistence of an anterior air and fluid collection , which on the frontal view is at the level of the NUMBER anterior interspace .   \n",
       "57757467  AP chest compared to : There is no pneumothorax , pleural effusion or evidence of hemorrhage in the lung or mediastinum . Emphysema is severe . Heart size is normal . The complex of nodule and large bullae in the axillary region of the right upper lobe is essentially unchanged .                                                                                                                                                                                                                                                                                                                                                                                                                                    \n",
       "58283482  In comparison with the study of , NUMBER of the right chest tubes appears to have been removed . No definite pneumothorax is appreciated . Post-surgical changes persist in the right hemithorax and there is extensive subcutaneous gas along the right lateral chest wall .                                                                                                                                                                                                                                                                                                                                                                                                                                              \n",
       "59381316  PA and lateral chest views were obtained with patient in upright position . Comparison is made with the next preceding similar study obtained NUMBER hours earlier during the same day . The previously described right-sided chest tube remains in unchanged position . No pneumothorax has developed and there is no evidence of significantly increased pleural densities during this interval . The right-sided chest wall emphysema described earlier has regressed . No new abnormalities are seen . Left-sided hemithorax is unremarkable .                                                                                                                                                                         \n",
       "\n",
       "         split official_split  \\\n",
       "50414267  0     0               \n",
       "53189527  0     0               \n",
       "53911762  0     0               \n",
       "56699142  0     0               \n",
       "57375967  0     0               \n",
       "...      ..    ..               \n",
       "56918032  3     2               \n",
       "57096024  3     2               \n",
       "57757467  3     2               \n",
       "58283482  3     2               \n",
       "59381316  3     2               \n",
       "\n",
       "                                                                                                                                                                                                                                                                                                                                                                                                                                                                      token_ids  \n",
       "50414267  [1, 4, 5, 6, 7, 8, 9, 10, 11, 12, 13, 14, 15, 16, 17, 18, 19, 20, 21, 22, 23, 24, 5, 25, 26, 27, 28, 22, 29, 30, 31, 32, 22, 33, 22, 34, 35, 36, 5, 37, 38, 39, 40, 22, 41, 29, 42, 43, 42, 44, 45, 46, 6, 47, 48, 49, 2]                                                                                                                                                                                                                                              \n",
       "53189527  [1, 22, 50, 51, 43, 52, 53, 45, 25, 54, 55, 5, 25, 56, 45, 57, 6, 9, 10, 11, 12, 5, 58, 59, 26, 45, 60, 61, 62, 28, 22, 29, 33, 63, 29, 64, 65, 66, 45, 67, 68, 69, 6, 47, 48, 70, 2]                                                                                                                                                                                                                                                                                  \n",
       "53911762  [1, 71, 72, 73, 40, 22, 74, 75, 4, 5, 6, 7, 8, 10, 11, 12, 22, 23, 24, 5, 25, 60, 61, 45, 59, 26, 62, 28, 22, 29, 33, 43, 63, 29, 64, 65, 66, 6, 76, 77, 78, 22, 79, 80, 5, 61, 6, 47, 81, 49, 2]                                                                                                                                                                                                                                                                      \n",
       "56699142  [1, 22, 56, 45, 57, 40, 7, 8, 9, 10, 11, 12, 22, 82, 83, 5, 25, 22, 51, 53, 45, 25, 59, 84, 26, 27, 28, 22, 29, 33, 43, 85, 29, 65, 66, 45, 46, 6, 47, 48, 49, 2]                                                                                                                                                                                                                                                                                                      \n",
       "57375967  [1, 86, 43, 87, 88, 40, 22, 74, 75, 22, 56, 45, 89, 90, 4, 5, 91, 7, 8, 92, 22, 29, 30, 93, 94, 95, 22, 87, 80, 4, 5, 96, 97, 98, 4, 5, 13, 99, 9, 100, 22, 23, 24, 5, 101, 102, 103, 104, 105, 22, 82, 5, 106, 25, 107, 83, 7, 8, 92, 22, 29, 30, 93, 108, 109, 110, 11, 111, 112, 97, 98, 2]                                                                                                                                                                         \n",
       "...                                                                                                                                                                                                                                                                                                  ...                                                                                                                                                                         \n",
       "56918032  [1, 107, 258, 136, 174, 40, 4, 5, 60, 129, 40, 351, 508, 136, 374, 1445, 189, 107, 22, 474, 85, 1160, 65, 66, 45, 46, 148, 22, 79, 175, 4, 5, 6, 129, 40, 47, 111, 11, 97, 151, 92, 186, 756, 2]                                                                                                                                                                                                                                                                       \n",
       "57096024  [1, 86, 43, 87, 74, 120, 95, 436, 92, 1330, 2004, 742, 710, 1074, 523, 107, 22, 79, 74, 191, 124, 1350, 354, 277, 783, 40, 22, 79, 9, 412, 4, 5, 288, 91, 144, 4834, 40, 77, 43, 435, 11, 5738, 107, 22, 79, 35, 74, 2464, 22, 84, 65, 222, 79, 30, 5, 320, 4396, 289, 386, 52, 2265, 11, 476, 151, 29, 30, 5, 460, 290, 95, 523, 43, 57, 40, 477, 7, 70, 22, 82, 5, 25, 83, 300, 107, 22, 885, 79, 844, 124, 283, 277, 87, 73, 293, 1328, 40, 397, 366, 77, 43, ...]  \n",
       "57757467  [1, 450, 74, 120, 95, 4, 5, 6, 12, 9, 10, 11, 129, 40, 1182, 107, 22, 30, 11, 259, 523, 5, 351, 82, 83, 5, 25, 22, 3866, 40, 872, 43, 434, 2984, 107, 22, 1487, 331, 40, 22, 79, 35, 172, 5, 340, 153, 2]                                                                                                                                                                                                                                                              \n",
       "58283482  [1, 107, 258, 136, 22, 174, 40, 42, 40, 22, 79, 74, 677, 403, 95, 285, 125, 634, 6, 392, 12, 5, 648, 187, 84, 189, 357, 107, 22, 79, 214, 43, 4, 5, 1035, 1074, 787, 190, 22, 79, 87, 74, 191, 2]                                                                                                                                                                                                                                                                      \n",
       "59381316  [1, 86, 43, 87, 74, 88, 256, 453, 136, 248, 107, 254, 446, 258, 5, 694, 136, 22, 600, 601, 173, 174, 453, 42, 700, 448, 1432, 22, 245, 246, 22, 349, 530, 79, 64, 74, 412, 338, 107, 153, 446, 6, 12, 124, 567, 43, 4, 5, 6, 129, 40, 1251, 556, 9, 165, 1432, 186, 127, 22, 79, 64, 74, 191, 523, 530, 448, 124, 3569, 6, 156, 260, 45, 61, 29, 64, 214, 5, 37, 2]                                                                                                    \n",
       "\n",
       "[225293 rows x 5 columns]"
      ]
     },
     "execution_count": 119,
     "metadata": {},
     "output_type": "execute_result"
    }
   ],
   "source": [
    "df_data_dict"
   ]
  },
  {
   "cell_type": "code",
   "execution_count": 120,
   "metadata": {},
   "outputs": [],
   "source": [
    "dataset['data_split'] = {}\n",
    "dataset['data_split']['train_uids'] = list(df_data_dict[df_data_dict['split']==0].reset_index()['index'].values)\n",
    "dataset['data_split']['val_uids'] = list(df_data_dict[df_data_dict['split']==1].reset_index()['index'].values)\n",
    "dataset['data_split']['test_uids'] = list(df_data_dict[df_data_dict['split']==2].reset_index()['index'].values)\n",
    "dataset['data_split']['hold_uids'] = list(df_data_dict[df_data_dict['split']==3].reset_index()['index'].values)\n",
    "\n",
    "dataset['data_split']['official_train_uids'] = list(df_data_dict[df_data_dict['official_split']==0].reset_index()['index'].values)\n",
    "dataset['data_split']['official_val_uids'] = list(df_data_dict[df_data_dict['official_split']==1].reset_index()['index'].values)\n",
    "dataset['data_split']['official_test_uids'] = list(df_data_dict[df_data_dict['official_split']==2].reset_index()['index'].values)"
   ]
  },
  {
   "cell_type": "code",
   "execution_count": 121,
   "metadata": {},
   "outputs": [],
   "source": [
    "dataset['word2idx'] = word2idx\n",
    "dataset['idx2word'] = idx2word"
   ]
  },
  {
   "cell_type": "code",
   "execution_count": 122,
   "metadata": {},
   "outputs": [
    {
     "data": {
      "text/plain": [
       "dict_keys(['data_dict', 'data_split', 'word2idx', 'idx2word'])"
      ]
     },
     "execution_count": 122,
     "metadata": {},
     "output_type": "execute_result"
    }
   ],
   "source": [
    "dataset.keys()"
   ]
  },
  {
   "cell_type": "code",
   "execution_count": 123,
   "metadata": {},
   "outputs": [
    {
     "name": "stdout",
     "output_type": "stream",
     "text": [
      "217252 2000 3000 3041\n",
      "220696 1556 3041\n"
     ]
    }
   ],
   "source": [
    "print(len(dataset['data_split']['train_uids']), len(dataset['data_split']['val_uids']), \n",
    "      len(dataset['data_split']['test_uids']), len(dataset['data_split']['hold_uids']))\n",
    "print(len(dataset['data_split']['official_train_uids']), len(dataset['data_split']['official_val_uids']), \n",
    "      len(dataset['data_split']['official_test_uids']))"
   ]
  },
  {
   "cell_type": "code",
   "execution_count": 124,
   "metadata": {
    "collapsed": true,
    "jupyter": {
     "outputs_hidden": true,
     "source_hidden": true
    }
   },
   "outputs": [
    {
     "data": {
      "text/plain": [
       "True"
      ]
     },
     "execution_count": 124,
     "metadata": {},
     "output_type": "execute_result"
    }
   ],
   "source": [
    "hold_list = dataset['data_split']['hold_uids']\n",
    "off_list = dataset['data_split']['official_test_uids']\n",
    "np.array_equal(np.array(hold_list), np.array(off_list))"
   ]
  },
  {
   "cell_type": "code",
   "execution_count": 171,
   "metadata": {},
   "outputs": [
    {
     "name": "stderr",
     "output_type": "stream",
     "text": [
      "100%|██████████| 220696/220696 [00:00<00:00, 967296.63it/s]"
     ]
    },
    {
     "name": "stdout",
     "output_type": "stream",
     "text": [
      "245660\n"
     ]
    },
    {
     "name": "stderr",
     "output_type": "stream",
     "text": [
      "\n"
     ]
    }
   ],
   "source": [
    "## check for the total number of images\n",
    "nimg = 0\n",
    "for k in tqdm(final_pkl['data_split']['official_train_uids']):\n",
    "    img_l = final_pkl['data_dict'][k]['filenames']\n",
    "    nimg += len(img_l)\n",
    "print(nimg)"
   ]
  },
  {
   "cell_type": "code",
   "execution_count": 125,
   "metadata": {},
   "outputs": [],
   "source": [
    "## write final dataset pickle file to disk, with img path, token_ids, splits, vocab_dicts\n",
    "# with open('/media/MyDataStor2/MIMIC-CXR/lm_reports/mimic_dataset_mit_normalized.pkl','wb') as f:\n",
    "#     pickle.dump(dataset, f)"
   ]
  },
  {
   "cell_type": "code",
   "execution_count": 126,
   "metadata": {},
   "outputs": [],
   "source": [
    "with open('/media/MyDataStor2/MIMIC-CXR/lm_reports/mimic_dataset_mit_normalized.pkl','rb') as f:\n",
    "    final_pkl = pickle.load(f)"
   ]
  },
  {
   "cell_type": "code",
   "execution_count": 147,
   "metadata": {
    "collapsed": true,
    "jupyter": {
     "outputs_hidden": true
    },
    "scrolled": true
   },
   "outputs": [
    {
     "data": {
      "text/plain": [
       "[52420354,\n",
       " 52492334,\n",
       " 53594394,\n",
       " 53671981,\n",
       " 53675063,\n",
       " 53699596,\n",
       " 53721111,\n",
       " 53731428,\n",
       " 54676653,\n",
       " 54897888,\n",
       " 57243660,\n",
       " 57407980,\n",
       " 57591044,\n",
       " 58376483,\n",
       " 58565615,\n",
       " 58947467,\n",
       " 59291493,\n",
       " 58774423,\n",
       " 55660029,\n",
       " 51761406,\n",
       " 56461316,\n",
       " 56874940,\n",
       " 57798724,\n",
       " 58793821,\n",
       " 59559079,\n",
       " 51524239,\n",
       " 50582222,\n",
       " 54336605,\n",
       " 53941474,\n",
       " 52856319,\n",
       " 51708526,\n",
       " 53480981,\n",
       " 53118743,\n",
       " 54897161,\n",
       " 50940511,\n",
       " 56265430,\n",
       " 57513869,\n",
       " 58650508,\n",
       " 54849524,\n",
       " 58489475,\n",
       " 50301247,\n",
       " 54120088,\n",
       " 52748850,\n",
       " 50379033,\n",
       " 52870307,\n",
       " 59055102,\n",
       " 51978525,\n",
       " 52077136,\n",
       " 55039117,\n",
       " 58507360]"
      ]
     },
     "execution_count": 147,
     "metadata": {},
     "output_type": "execute_result"
    }
   ],
   "source": [
    "list(final_pkl['data_dict'].keys())[1000:1050]"
   ]
  },
  {
   "cell_type": "code",
   "execution_count": 172,
   "metadata": {},
   "outputs": [
    {
     "name": "stdout",
     "output_type": "stream",
     "text": [
      "[{'final_report': {'examination': 'CHEST (PORTABLE AP)', 'indication': 'DEID year old woman with possible aspiration event, malnutrition, coagulopathy, DEID , volume overload. // interval change interval change', 'comparison': 'DEID', 'impression': 'ET tube tip is 4 cm above the carinal. After passes below the diaphragm terminating in the stomach. Right PICC line is at the level of right atrium. Right internal jugular line tip is at the level of cavoatrial junction. Heart size and mediastinum are stable. Interval improvement in perihilar opacities is seen but there is still present left basal atelectasis.'}}]\n",
      "\n",
      "ET tube tip is NUMBER cm above the carinal . After passes below the diaphragm terminating in the stomach . Right PICC line is at the level of right atrium . Right internal jugular line tip is at the level of cavoatrial junction . Heart size and mediastinum are stable . Interval improvement in perihilar opacities is seen but there is still present left basal atelectasis .\n",
      "\n",
      "[CLS] et tube tip is number cm above the carinal after passes below the diaphragm terminating in the stomach right picc line is at the level of right atrium right internal jugular line tip is at the level of cavoatrial junction heart size and mediastinum are stable interval improvement in perihilar opacities is seen but there is still present left basal atelectasis [SEP]\n"
     ]
    }
   ],
   "source": [
    "## random check\n",
    "sid = 59291493\n",
    "print(df_report[df_report['filename']=='s%d.txt' % sid]['report'].values)\n",
    "print()\n",
    "print(dataset['data_dict'][sid]['text'] + '\\n')\n",
    "\n",
    "tks = dataset['data_dict'][sid]['token_ids']\n",
    "print(' '.join([idx2word[x] for x in tks]))"
   ]
  },
  {
   "cell_type": "code",
   "execution_count": 138,
   "metadata": {},
   "outputs": [
    {
     "name": "stderr",
     "output_type": "stream",
     "text": [
      "100%|██████████| 225293/225293 [00:00<00:00, 1248050.00it/s]\n"
     ]
    }
   ],
   "source": [
    "## check for the distribution of sentence length\n",
    "slen = []\n",
    "for k in tqdm(final_pkl['data_dict'].keys()):\n",
    "    tkn_id = final_pkl['data_dict'][k]['token_ids']\n",
    "    slen.append(len(tkn_id))"
   ]
  },
  {
   "cell_type": "code",
   "execution_count": 146,
   "metadata": {},
   "outputs": [
    {
     "name": "stdout",
     "output_type": "stream",
     "text": [
      "434\n",
      "[254, 254, 256, 256, 257, 258, 258, 258, 259, 259, 259, 260, 261, 261, 261, 262, 263, 263, 263, 263, 264, 264, 265, 265, 265, 266, 266, 266, 266, 267, 267, 268, 268, 268, 269, 269, 269, 270, 271, 272, 272, 272, 272, 273, 274, 275, 275, 275, 275, 275, 276, 276, 277, 277, 278, 278, 279, 279, 279, 279, 280, 280, 280, 282, 283, 283, 283, 285, 286, 286, 287, 291, 293, 294, 295, 296, 299, 300, 300, 301, 302, 303, 304, 305, 305, 309, 310, 315, 321, 321, 330, 331, 349, 353, 359, 371, 375, 384, 420, 434]\n"
     ]
    }
   ],
   "source": [
    "print(np.max(slen))\n",
    "slen.sort()\n",
    "print(slen[-100:])"
   ]
  },
  {
   "cell_type": "code",
   "execution_count": 142,
   "metadata": {
    "collapsed": true,
    "jupyter": {
     "outputs_hidden": true
    }
   },
   "outputs": [
    {
     "data": {
      "image/png": "[encoded data removed]",
      "text/plain": [
       "<Figure size 1200x800 with 1 Axes>"
      ]
     },
     "metadata": {},
     "output_type": "display_data"
    }
   ],
   "source": [
    "# np.histogram(np.array(slen), bins=100)\n",
    "import matplotlib.pyplot as plt\n",
    "fig = plt.figure(figsize=(12,8), dpi= 100, facecolor='w', edgecolor='k')\n",
    "plt.hist(np.array(slen), bins='auto')\n",
    "plt.show()"
   ]
  },
  {
   "cell_type": "markdown",
   "metadata": {},
   "source": [
    "## Dataloader test"
   ]
  },
  {
   "cell_type": "code",
   "execution_count": 116,
   "metadata": {},
   "outputs": [],
   "source": [
    "import dataset_mimic\n",
    "import importlib\n",
    "import misc.config\n",
    "\n",
    "importlib.reload(dataset_mimic)\n",
    "importlib.reload(misc.config)\n",
    "\n",
    "cfg = misc.config.Config()"
   ]
  },
  {
   "cell_type": "code",
   "execution_count": 117,
   "metadata": {},
   "outputs": [
    {
     "name": "stdout",
     "output_type": "stream",
     "text": [
      "320\n"
     ]
    }
   ],
   "source": [
    "print(cfg.max_length)\n",
    "data_set = dataset_mimic.build_dataset('train',cfg)\n",
    "train_loader = torch.utils.data.DataLoader(\n",
    "                    data_set, batch_size=8, drop_last=True,\n",
    "                    shuffle=True, num_workers=0)"
   ]
  },
  {
   "cell_type": "code",
   "execution_count": 118,
   "metadata": {},
   "outputs": [],
   "source": [
    "it = iter(train_loader)"
   ]
  },
  {
   "cell_type": "code",
   "execution_count": 120,
   "metadata": {
    "collapsed": true,
    "jupyter": {
     "outputs_hidden": true
    }
   },
   "outputs": [
    {
     "name": "stderr",
     "output_type": "stream",
     "text": [
      "  0%|          | 0/10 [00:01<?, ?it/s]\n"
     ]
    },
    {
     "ename": "ValueError",
     "evalue": "too many values to unpack (expected 5)",
     "output_type": "error",
     "traceback": [
      "\u001b[0;31m---------------------------------------------------------------------------\u001b[0m",
      "\u001b[0;31mValueError\u001b[0m                                Traceback (most recent call last)",
      "\u001b[0;32m<ipython-input-120-3e95d256162f>\u001b[0m in \u001b[0;36m<module>\u001b[0;34m\u001b[0m\n\u001b[1;32m      1\u001b[0m \u001b[0;32mfor\u001b[0m \u001b[0mi\u001b[0m \u001b[0;32min\u001b[0m \u001b[0mtqdm\u001b[0m\u001b[0;34m(\u001b[0m\u001b[0mrange\u001b[0m\u001b[0;34m(\u001b[0m\u001b[0;36m10\u001b[0m\u001b[0;34m)\u001b[0m\u001b[0;34m)\u001b[0m\u001b[0;34m:\u001b[0m\u001b[0;34m\u001b[0m\u001b[0;34m\u001b[0m\u001b[0m\n\u001b[0;32m----> 2\u001b[0;31m     \u001b[0mimgs\u001b[0m\u001b[0;34m,\u001b[0m \u001b[0mtxts\u001b[0m\u001b[0;34m,\u001b[0m \u001b[0mmasks\u001b[0m\u001b[0;34m,\u001b[0m \u001b[0muids\u001b[0m\u001b[0;34m,\u001b[0m \u001b[0mcap_lens\u001b[0m \u001b[0;34m=\u001b[0m \u001b[0mit\u001b[0m\u001b[0;34m.\u001b[0m\u001b[0mnext\u001b[0m\u001b[0;34m(\u001b[0m\u001b[0;34m)\u001b[0m\u001b[0;34m\u001b[0m\u001b[0;34m\u001b[0m\u001b[0m\n\u001b[0m",
      "\u001b[0;31mValueError\u001b[0m: too many values to unpack (expected 5)"
     ]
    }
   ],
   "source": [
    "for i in tqdm(range(10)):\n",
    "    imgs, txts, masks, uids, cap_lens = it.next()"
   ]
  },
  {
   "cell_type": "code",
   "execution_count": 119,
   "metadata": {},
   "outputs": [
    {
     "ename": "AttributeError",
     "evalue": "'list' object has no attribute 'shape'",
     "output_type": "error",
     "traceback": [
      "\u001b[0;31m---------------------------------------------------------------------------\u001b[0m",
      "\u001b[0;31mAttributeError\u001b[0m                            Traceback (most recent call last)",
      "\u001b[0;32m<ipython-input-119-283362621b92>\u001b[0m in \u001b[0;36m<module>\u001b[0;34m\u001b[0m\n\u001b[0;32m----> 1\u001b[0;31m \u001b[0mprint\u001b[0m\u001b[0;34m(\u001b[0m\u001b[0mimgs\u001b[0m\u001b[0;34m.\u001b[0m\u001b[0mshape\u001b[0m\u001b[0;34m,\u001b[0m \u001b[0mtxts\u001b[0m\u001b[0;34m.\u001b[0m\u001b[0mshape\u001b[0m\u001b[0;34m,\u001b[0m \u001b[0mmasks\u001b[0m\u001b[0;34m.\u001b[0m\u001b[0mshape\u001b[0m\u001b[0;34m)\u001b[0m\u001b[0;34m\u001b[0m\u001b[0;34m\u001b[0m\u001b[0m\n\u001b[0m",
      "\u001b[0;31mAttributeError\u001b[0m: 'list' object has no attribute 'shape'"
     ]
    }
   ],
   "source": [
    "print(imgs.shape, txts.shape, masks.shape)"
   ]
  },
  {
   "cell_type": "code",
   "execution_count": 117,
   "metadata": {},
   "outputs": [
    {
     "name": "stdout",
     "output_type": "stream",
     "text": [
      "(2048, 2048)\n",
      "[CLS] spinal hardware tracheostomy tube and right sided central line are unchanged in position there has been improved aeration at the left base there remains mild prominence of the pulmonary interstitial markings there are no pneumothoraces [SEP]\n"
     ]
    },
    {
     "data": {
      "image/png": "[encoded data removed]",
      "text/plain": [
       "<Figure size 432x288 with 1 Axes>"
      ]
     },
     "metadata": {
      "needs_background": "light"
     },
     "output_type": "display_data"
    }
   ],
   "source": [
    "from matplotlib import pyplot as plt\n",
    "i = 0\n",
    "im = np.squeeze(imgs[i].numpy(),0)\n",
    "print(im.shape)\n",
    "plt.imshow(im, cmap='gray')\n",
    "# masked_texts=txts\n",
    "print(' '.join([idx2word[x] for x in txts.numpy()[i][:masks[i].numpy().sum()]]))\n",
    "# print(masks[i].numpy())\n"
   ]
  },
  {
   "cell_type": "code",
   "execution_count": 122,
   "metadata": {},
   "outputs": [
    {
     "data": {
      "text/plain": [
       "1"
      ]
     },
     "execution_count": 122,
     "metadata": {},
     "output_type": "execute_result"
    }
   ],
   "source": [
    "np.random.choice([0,1,2,3,4])"
   ]
  },
  {
   "cell_type": "code",
   "execution_count": 123,
   "metadata": {},
   "outputs": [],
   "source": [
    "im = Image.open('../data/ChestXRay/dataset/images/images_normalized/10_IM-0002-1001.dcm.png')"
   ]
  },
  {
   "cell_type": "code",
   "execution_count": 124,
   "metadata": {},
   "outputs": [
    {
     "data": {
      "text/plain": [
       "(2048, 2496)"
      ]
     },
     "execution_count": 124,
     "metadata": {},
     "output_type": "execute_result"
    }
   ],
   "source": [
    "im.size"
   ]
  },
  {
   "cell_type": "code",
   "execution_count": 156,
   "metadata": {},
   "outputs": [
    {
     "data": {
      "text/plain": [
       "tensor([45, 58, 35, 35, 39, 23, 67, 26])"
      ]
     },
     "execution_count": 156,
     "metadata": {},
     "output_type": "execute_result"
    }
   ],
   "source": [
    "mask.sum(-1)"
   ]
  },
  {
   "cell_type": "code",
   "execution_count": 333,
   "metadata": {},
   "outputs": [],
   "source": [
    "%load_ext autoreload"
   ]
  },
  {
   "cell_type": "code",
   "execution_count": 614,
   "metadata": {},
   "outputs": [
    {
     "data": {
      "text/plain": [
       "<module 'dataset' from '/home/ipmi/code/dataset.py'>"
      ]
     },
     "execution_count": 614,
     "metadata": {},
     "output_type": "execute_result"
    }
   ],
   "source": [
    "\n",
    "import dataset\n",
    "import importlib\n",
    "importlib.reload(dataset)"
   ]
  },
  {
   "cell_type": "code",
   "execution_count": 530,
   "metadata": {},
   "outputs": [],
   "source": [
    "from misc.config import Config\n",
    "cfg = Config()"
   ]
  },
  {
   "cell_type": "code",
   "execution_count": 531,
   "metadata": {},
   "outputs": [],
   "source": [
    "data_set = dataset.build_dataset('train',cfg=cfg)\n",
    "train_loader = torch.utils.data.DataLoader(\n",
    "                    data_set, batch_size=8, drop_last=True,\n",
    "                    shuffle=False, num_workers=0)\n",
    "it = iter(train_loader)"
   ]
  },
  {
   "cell_type": "code",
   "execution_count": 532,
   "metadata": {},
   "outputs": [],
   "source": [
    "imgs,caps,masks,uids,cap_lens=it.next()"
   ]
  },
  {
   "cell_type": "code",
   "execution_count": 533,
   "metadata": {},
   "outputs": [
    {
     "name": "stdout",
     "output_type": "stream",
     "text": [
      "-1.0 1.0\n"
     ]
    },
    {
     "data": {
      "text/plain": [
       "<matplotlib.image.AxesImage at 0x7fa24b9a5b10>"
      ]
     },
     "execution_count": 533,
     "metadata": {},
     "output_type": "execute_result"
    },
    {
     "data": {
      "image/png": "[encoded data removed]",
      "text/plain": [
       "<Figure size 432x288 with 1 Axes>"
      ]
     },
     "metadata": {
      "needs_background": "light"
     },
     "output_type": "display_data"
    }
   ],
   "source": [
    "i = 3\n",
    "im = np.squeeze(imgs[i].numpy(),0)\n",
    "print(im.min(),im.max())\n",
    "plt.imshow((im + 1)/(2), cmap='gray')\n",
    "# print(' '.join([idx2word[x] for x in caps[i].numpy()]))\n",
    "# print(masks[i].numpy())\n",
    "# print(uids[i])\n",
    "# print(dataset['data_dict'][uids[i].tolist()])"
   ]
  },
  {
   "cell_type": "code",
   "execution_count": 528,
   "metadata": {},
   "outputs": [
    {
     "name": "stdout",
     "output_type": "stream",
     "text": [
      "-0.12156862 0.45098042\n"
     ]
    },
    {
     "data": {
      "text/plain": [
       "<matplotlib.image.AxesImage at 0x7fa308192810>"
      ]
     },
     "execution_count": 528,
     "metadata": {},
     "output_type": "execute_result"
    },
    {
     "data": {
      "image/png": "[encoded data removed]",
      "text/plain": [
       "<Figure size 432x288 with 1 Axes>"
      ]
     },
     "metadata": {
      "needs_background": "light"
     },
     "output_type": "display_data"
    }
   ],
   "source": [
    "i = 3\n",
    "im = np.squeeze(imgs[i].numpy(),0)\n",
    "print(im.min(),im.max())\n",
    "plt.imshow((im + 1)/(2), cmap='gray')\n",
    "# print(' '.join([idx2word[x] for x in caps[i].numpy()]))\n",
    "# print(masks[i].numpy())\n",
    "# print(uids[i])\n",
    "# print(dataset['data_dict'][uids[i].tolist()])"
   ]
  },
  {
   "cell_type": "code",
   "execution_count": 514,
   "metadata": {},
   "outputs": [
    {
     "data": {
      "text/plain": [
       "<matplotlib.image.AxesImage at 0x7fa30054a7d0>"
      ]
     },
     "execution_count": 514,
     "metadata": {},
     "output_type": "execute_result"
    },
    {
     "data": {
      "image/png": "[encoded data removed]",
      "text/plain": [
       "<Figure size 432x288 with 1 Axes>"
      ]
     },
     "metadata": {
      "needs_background": "light"
     },
     "output_type": "display_data"
    }
   ],
   "source": [
    "i = 3\n",
    "im = np.squeeze(imgs[i].numpy(),0)\n",
    "# print(im.shape)\n",
    "plt.imshow((im + 1)/(2), cmap='gray')\n",
    "# print(' '.join([idx2word[x] for x in caps[i].numpy()]))\n",
    "# print(masks[i].numpy())\n",
    "# print(uids[i])\n",
    "# print(dataset['data_dict'][uids[i].tolist()])"
   ]
  },
  {
   "cell_type": "code",
   "execution_count": 519,
   "metadata": {},
   "outputs": [
    {
     "data": {
      "text/plain": [
       "<matplotlib.image.AxesImage at 0x7fa274266d10>"
      ]
     },
     "execution_count": 519,
     "metadata": {},
     "output_type": "execute_result"
    },
    {
     "data": {
      "image/png": "[encoded data removed]",
      "text/plain": [
       "<Figure size 432x288 with 1 Axes>"
      ]
     },
     "metadata": {
      "needs_background": "light"
     },
     "output_type": "display_data"
    }
   ],
   "source": [
    "from matplotlib import pyplot as plt\n",
    "i = 3\n",
    "im = np.squeeze(imgs[i].numpy(),0)\n",
    "# print(im.shape)\n",
    "plt.imshow((im + 1)/(2), cmap='gray')\n",
    "# print(' '.join([idx2word[x] for x in caps[i].numpy()]))\n",
    "# print(masks[i].numpy())\n",
    "# print(uids[i])\n",
    "# print(dataset['data_dict'][uids[i].tolist()])"
   ]
  },
  {
   "cell_type": "code",
   "execution_count": 299,
   "metadata": {},
   "outputs": [
    {
     "data": {
      "text/plain": [
       "{'filenames': ['19_IM-0583-1001.dcm.png'],\n",
       " 'text': 'heart size is normal. there is tortuosity of the thoracic aorta, stable compared with prior. no focal airspace disease or effusion. no pleural effusions or pneumothoraces. degenerative changes in the thoracic spine.',\n",
       " 'split': 0}"
      ]
     },
     "execution_count": 299,
     "metadata": {},
     "output_type": "execute_result"
    }
   ],
   "source": [
    "dataset['data_dict'][uids[i].tolist()]"
   ]
  },
  {
   "cell_type": "code",
   "execution_count": 364,
   "metadata": {},
   "outputs": [],
   "source": [
    "import torch.nn as nn\n",
    "import math\n",
    "# Temporarily leave PositionalEncoding module here. Will be moved somewhere else.\n",
    "class PositionalEncoding(nn.Module):\n",
    "    r\"\"\"Inject some information about the relative or absolute position of the tokens\n",
    "        in the sequence. The positional encodings have the same dimension as\n",
    "        the embeddings, so that the two can be summed. Here, we use sine and cosine\n",
    "        functions of different frequencies.\n",
    "    .. math::\n",
    "        \\text{PosEncoder}(pos, 2i) = sin(pos/10000^(2i/d_model))\n",
    "        \\text{PosEncoder}(pos, 2i+1) = cos(pos/10000^(2i/d_model))\n",
    "        \\text{where pos is the word position and i is the embed idx)\n",
    "    Args:\n",
    "        d_model: the embed dim (required).\n",
    "        dropout: the dropout value (default=0.1).\n",
    "        max_len: the max. length of the incoming sequence (default=5000).\n",
    "    Examples:\n",
    "        >>> pos_encoder = PositionalEncoding(d_model)\n",
    "    \"\"\"\n",
    "\n",
    "    def __init__(self, d_model, dropout=0.1, max_len=5000):\n",
    "        super(PositionalEncoding, self).__init__()\n",
    "        self.dropout = nn.Dropout(p=dropout)\n",
    "\n",
    "        pe = torch.zeros(max_len, d_model)\n",
    "        position = torch.arange(0, max_len, dtype=torch.float).unsqueeze(1)\n",
    "        div_term = torch.exp(torch.arange(0, d_model, 2).float() * (-math.log(10000.0) / d_model))\n",
    "        pe[:, 0::2] = torch.sin(position * div_term)\n",
    "        pe[:, 1::2] = torch.cos(position * div_term)\n",
    "        pe = pe.unsqueeze(0).transpose(0, 1)\n",
    "        self.register_buffer('pe', pe)\n",
    "\n",
    "    def forward(self, x):\n",
    "        r\"\"\"Inputs of forward function\n",
    "        Args:\n",
    "            x: the sequence fed to the positional encoder model (required).\n",
    "        Shape:\n",
    "            x: [sequence length, batch size, embed dim]\n",
    "            output: [sequence length, batch size, embed dim]\n",
    "        Examples:\n",
    "            >>> output = pos_encoder(x)\n",
    "        \"\"\"\n",
    "\n",
    "        x = x + self.pe[:x.size(0), :]\n",
    "        return self.dropout(x)\n",
    "\n",
    "class TransformerModel(nn.Module):\n",
    "    \"\"\"Container module with an encoder, a recurrent or transformer module, and a decoder.\"\"\"\n",
    "\n",
    "    def __init__(self, ntoken, ninp, nhead, nhid, nlayers, dropout=0.5):\n",
    "        super(TransformerModel, self).__init__()\n",
    "        try:\n",
    "            from torch.nn import TransformerEncoder, TransformerEncoderLayer\n",
    "        except:\n",
    "            raise ImportError('TransformerEncoder module does not exist in PyTorch 1.1 or lower.')\n",
    "        self.model_type = 'Transformer'\n",
    "        # self.src_mask = None\n",
    "        self.pos_encoder = PositionalEncoding(ninp, dropout)\n",
    "        encoder_layers = TransformerEncoderLayer(ninp, nhead, nhid, dropout)\n",
    "        self.transformer_encoder = TransformerEncoder(encoder_layers, nlayers)\n",
    "        self.encoder = nn.Embedding(ntoken, ninp)\n",
    "        self.ninp = ninp\n",
    "        self.decoder = nn.Linear(ninp, ntoken)\n",
    "        self.globalavg = nn.AdaptiveAvgPool1d(1)\n",
    "        self.init_weights()\n",
    "\n",
    "    def _generate_square_subsequent_mask(self, sz):\n",
    "        mask = (torch.triu(torch.ones(sz, sz)) == 1).transpose(0, 1)\n",
    "        mask = mask.float().masked_fill(mask == 0, float('-inf')).masked_fill(mask == 1, float(0.0))\n",
    "        return mask\n",
    "\n",
    "    def init_weights(self):\n",
    "        initrange = 0.1\n",
    "        nn.init.uniform_(self.encoder.weight, -initrange, initrange)\n",
    "        nn.init.zeros_(self.decoder.weight)\n",
    "        nn.init.uniform_(self.decoder.weight, -initrange, initrange)\n",
    "\n",
    "    def forward(self, src, mask):\n",
    "\n",
    "        src = self.encoder(src) * math.sqrt(self.ninp)\n",
    "        print(src.shape)\n",
    "        src = self.pos_encoder(src)\n",
    "        word_feats = self.transformer_encoder(src, mask)  # max_len, batchsize, feats_size\n",
    "        print('word_feats.shape:',word_feats.shape)\n",
    "        word_feats = torch.transpose(word_feats, 1, 2)  # max_len, feats_size, batchsize\n",
    "        print('word_feats.shape:',word_feats.shape)\n",
    "        sent_feats = self.globalavg(word_feats[:, mask.sum(-1),:])\n",
    "        print('sent_feats.shape:',sent_feats.shape)\n",
    "        sent_feats = self.fc(sent_feats)\n",
    "        return F.log_softmax(output, dim=-1)"
   ]
  },
  {
   "cell_type": "code",
   "execution_count": 368,
   "metadata": {},
   "outputs": [],
   "source": [
    "imgs,caps,masks,uids=it.next()"
   ]
  },
  {
   "cell_type": "code",
   "execution_count": 369,
   "metadata": {},
   "outputs": [
    {
     "data": {
      "text/plain": [
       "torch.Size([8, 129])"
      ]
     },
     "execution_count": 369,
     "metadata": {},
     "output_type": "execute_result"
    }
   ],
   "source": [
    "# masks = mask\n",
    "# masks.shape\n",
    "caps.shape"
   ]
  },
  {
   "cell_type": "code",
   "execution_count": null,
   "metadata": {},
   "outputs": [],
   "source": []
  },
  {
   "cell_type": "code",
   "execution_count": 382,
   "metadata": {},
   "outputs": [],
   "source": [
    "def mask_(matrices, maskval=0.0, mask_diagonal=True):\n",
    "    \"\"\"\n",
    "    Masks out all values in the given batch of matrices where i <= j holds,\n",
    "    i < j if mask_diagonal is false\n",
    "    In place operation\n",
    "    :param tns:\n",
    "    :return:\n",
    "    \"\"\"\n",
    "\n",
    "    b, h, w = matrices.size()\n",
    "\n",
    "    indices = torch.triu_indices(h, w, offset=0 if mask_diagonal else 1)\n",
    "    matrices[:, indices[0], indices[1]] = maskval\n",
    "################ Transformer: Text Encoder ############\n",
    "class SelfAttention(nn.Module):\n",
    "    def __init__(self, k, heads=8, mask=False):\n",
    "        super().__init__()\n",
    "        self.k, self.heads = k, heads\n",
    "        # These compute the queries, keys and values for all \n",
    "        # heads (as a single concatenated vector)\n",
    "        self.tokeys    = nn.Linear(k, k * heads, bias=False)\n",
    "        self.toqueries = nn.Linear(k, k * heads, bias=False)\n",
    "        self.tovalues  = nn.Linear(k, k * heads, bias=False)\n",
    "\n",
    "        # This unifies the outputs of the different heads into \n",
    "        # a single k-vector\n",
    "        self.unifyheads = nn.Linear(heads * k, k)\n",
    "    def forward(self, x, mask):\n",
    "        b, t, k = x.size()\n",
    "        h = self.heads\n",
    "\n",
    "        queries = self.toqueries(x).view(b, t, h, k)\n",
    "        keys    = self.tokeys(x)   .view(b, t, h, k)\n",
    "        values  = self.tovalues(x) .view(b, t, h, k)\n",
    "        \n",
    "        keys = keys.transpose(1, 2).contiguous().view(b * h, t, k)\n",
    "        queries = queries.transpose(1, 2).contiguous().view(b * h, t, k)\n",
    "        values = values.transpose(1, 2).contiguous().view(b * h, t, k)\n",
    "        \n",
    "        queries = queries / (k ** (1/4))\n",
    "        keys    = keys / (k ** (1/4))\n",
    "\n",
    "        # - get dot product of queries and keys, and scale\n",
    "        dot = torch.bmm(queries, keys.transpose(1, 2))\n",
    "        # - dot has size (b*h, t, t) containing raw weights\n",
    "\n",
    "        \n",
    "        if self.mask: # mask out the upper half of the dot matrix, excluding the diagonal\n",
    "            mask_(dot, maskval=float('-inf'), mask_diagonal=False)\n",
    "        \n",
    "        dot = F.softmax(dot, dim=2) \n",
    "        # - dot now contains row-wise normalized weights\n",
    "        \n",
    "        # apply the self attention to the values\n",
    "        out = torch.bmm(dot, values).view(b, h, t, k)\n",
    "        \n",
    "        out = out.transpose(1, 2).contiguous().view(b, t, h * k)\n",
    "        return self.unifyheads(out)\n",
    "\n",
    "class TransformerBlock(nn.Module):\n",
    "    def __init__(self, emb, heads, mask, seq_length, ff_hidden_mult=4, dropout=0.0, wide=True):\n",
    "        super().__init__()\n",
    "        self.attention = SelfAttention(k=emb, heads=heads)        \n",
    "        self.mask = mask\n",
    "\n",
    "        self.norm1 = nn.LayerNorm(emb)\n",
    "        self.norm2 = nn.LayerNorm(emb)\n",
    "\n",
    "        self.ff = nn.Sequential(\n",
    "            nn.Linear(emb, ff_hidden_mult * emb),\n",
    "            nn.ReLU(),\n",
    "            nn.Linear(ff_hidden_mult * emb, emb)\n",
    "        )\n",
    "        self.do = nn.Dropout(dropout)\n",
    "\n",
    "    def forward(self, x):\n",
    "\n",
    "        attended = self.attention(x)\n",
    "\n",
    "        x = self.norm1(attended + x)\n",
    "\n",
    "        x = self.do(x)\n",
    "\n",
    "        fedforward = self.ff(x)\n",
    "\n",
    "        x = self.norm2(fedforward + x)\n",
    "\n",
    "        x = self.do(x)\n",
    "\n",
    "        return x\n",
    "    \n",
    "    \n",
    "class TEXT_TRANSFORMER_ENCODER(nn.Module):\n",
    "    def __init__(self, emb, heads, depth, seq_length, num_tokens, dropout=0.2, wide=False):\n",
    "        super().__init__()\n",
    "\n",
    "        self.num_tokens = num_tokens\n",
    "        self.wemb_linear  = nn.Linear(768, emb, bias=False)\n",
    "        self.token_embedding = nn.Embedding(embedding_dim=768, num_embeddings=num_tokens)\n",
    "        self.pos_embedding = nn.Embedding(embedding_dim=emb, num_embeddings=seq_length)\n",
    "\n",
    "        tblocks = []\n",
    "        for i in range(depth):\n",
    "            tblocks.append(\n",
    "                TransformerBlock(emb=emb\n",
    "                                 , heads=heads\n",
    "                                 , seq_length=seq_length\n",
    "                                 , mask=True\n",
    "                                 , dropout=dropout\n",
    "                                 , wide=wide))\n",
    "\n",
    "        self.tblocks = nn.Sequential(*tblocks)\n",
    "\n",
    "        self.do = nn.Dropout(dropout)\n",
    "\n",
    "    def init_embeddings(self, word_embedding, positional_embedding, IsTrainable):\n",
    "        self.token_embedding.weight.data = word_embedding\n",
    "        self.token_embedding.weight.requires_grad = IsTrainable\n",
    "        \n",
    "        self.pos_embedding.weight.data = positional_embedding\n",
    "        self.pos_embedding.weight.requires_grad = False\n",
    "        \n",
    "        \n",
    "    def forward(self, x,masks):\n",
    "        \"\"\"\n",
    "        :param x: A batch by sequence length integer tensor of token indices.\n",
    "        :return: predicted log-probability vectors for each token based on the preceding tokens.\n",
    "        \"\"\"\n",
    "        tokens = self.token_embedding(x)\n",
    "        tokens = self.wemb_linear(tokens)\n",
    "        \n",
    "        b, t, e = tokens.size()\n",
    "#         print('b:{0}, t:{1}, e:{2}'.format(b, t, e))\n",
    "        positions = torch.arange(t)        \n",
    "        positions = self.pos_embedding(positions)[None, :, :].expand(b, t, e)\n",
    "        \n",
    "#         print('positions:',positions.size())\n",
    "        x = tokens + positions\n",
    "        x = self.do(x)\n",
    "\n",
    "#         print('x:',x.size())\n",
    "        words_emb = self.tblocks(x)\n",
    "        sent_emb = words_emb.mean(dim=1) # pool over the time dimension\n",
    "        words_emb = torch.transpose(words_emb,1,2)\n",
    "        \n",
    "#         print('words_emb:',words_emb.shape,'sent_emb:',sent_emb.shape)\n",
    "\n",
    "        return words_emb,sent_emb"
   ]
  },
  {
   "cell_type": "code",
   "execution_count": 383,
   "metadata": {},
   "outputs": [],
   "source": [
    "transformer_model = TEXT_TRANSFORMER_ENCODER(emb=512,heads=8,depth=4,seq_length=150,num_tokens=data_set.vocab_size)"
   ]
  },
  {
   "cell_type": "code",
   "execution_count": 384,
   "metadata": {
    "collapsed": true,
    "jupyter": {
     "outputs_hidden": true
    }
   },
   "outputs": [
    {
     "ename": "TypeError",
     "evalue": "forward() missing 1 required positional argument: 'mask'",
     "output_type": "error",
     "traceback": [
      "\u001b[0;31m---------------------------------------------------------------------------\u001b[0m",
      "\u001b[0;31mTypeError\u001b[0m                                 Traceback (most recent call last)",
      "\u001b[0;32m<ipython-input-384-cb01528834c5>\u001b[0m in \u001b[0;36m<module>\u001b[0;34m\u001b[0m\n\u001b[0;32m----> 1\u001b[0;31m \u001b[0mtransformer_model\u001b[0m\u001b[0;34m(\u001b[0m\u001b[0mcaps\u001b[0m\u001b[0;34m,\u001b[0m\u001b[0mmasks\u001b[0m\u001b[0;34m)\u001b[0m\u001b[0;34m\u001b[0m\u001b[0;34m\u001b[0m\u001b[0m\n\u001b[0m",
      "\u001b[0;32m/home/zhang/ENTER/envs/cvpr/lib/python3.7/site-packages/torch/nn/modules/module.py\u001b[0m in \u001b[0;36m_call_impl\u001b[0;34m(self, *input, **kwargs)\u001b[0m\n\u001b[1;32m    720\u001b[0m             \u001b[0mresult\u001b[0m \u001b[0;34m=\u001b[0m \u001b[0mself\u001b[0m\u001b[0;34m.\u001b[0m\u001b[0m_slow_forward\u001b[0m\u001b[0;34m(\u001b[0m\u001b[0;34m*\u001b[0m\u001b[0minput\u001b[0m\u001b[0;34m,\u001b[0m \u001b[0;34m**\u001b[0m\u001b[0mkwargs\u001b[0m\u001b[0;34m)\u001b[0m\u001b[0;34m\u001b[0m\u001b[0;34m\u001b[0m\u001b[0m\n\u001b[1;32m    721\u001b[0m         \u001b[0;32melse\u001b[0m\u001b[0;34m:\u001b[0m\u001b[0;34m\u001b[0m\u001b[0;34m\u001b[0m\u001b[0m\n\u001b[0;32m--> 722\u001b[0;31m             \u001b[0mresult\u001b[0m \u001b[0;34m=\u001b[0m \u001b[0mself\u001b[0m\u001b[0;34m.\u001b[0m\u001b[0mforward\u001b[0m\u001b[0;34m(\u001b[0m\u001b[0;34m*\u001b[0m\u001b[0minput\u001b[0m\u001b[0;34m,\u001b[0m \u001b[0;34m**\u001b[0m\u001b[0mkwargs\u001b[0m\u001b[0;34m)\u001b[0m\u001b[0;34m\u001b[0m\u001b[0;34m\u001b[0m\u001b[0m\n\u001b[0m\u001b[1;32m    723\u001b[0m         for hook in itertools.chain(\n\u001b[1;32m    724\u001b[0m                 \u001b[0m_global_forward_hooks\u001b[0m\u001b[0;34m.\u001b[0m\u001b[0mvalues\u001b[0m\u001b[0;34m(\u001b[0m\u001b[0;34m)\u001b[0m\u001b[0;34m,\u001b[0m\u001b[0;34m\u001b[0m\u001b[0;34m\u001b[0m\u001b[0m\n",
      "\u001b[0;32m<ipython-input-382-5840e1403883>\u001b[0m in \u001b[0;36mforward\u001b[0;34m(self, x, masks)\u001b[0m\n\u001b[1;32m    140\u001b[0m \u001b[0;34m\u001b[0m\u001b[0m\n\u001b[1;32m    141\u001b[0m \u001b[0;31m#         print('x:',x.size())\u001b[0m\u001b[0;34m\u001b[0m\u001b[0;34m\u001b[0m\u001b[0;34m\u001b[0m\u001b[0m\n\u001b[0;32m--> 142\u001b[0;31m         \u001b[0mwords_emb\u001b[0m \u001b[0;34m=\u001b[0m \u001b[0mself\u001b[0m\u001b[0;34m.\u001b[0m\u001b[0mtblocks\u001b[0m\u001b[0;34m(\u001b[0m\u001b[0mx\u001b[0m\u001b[0;34m)\u001b[0m\u001b[0;34m\u001b[0m\u001b[0;34m\u001b[0m\u001b[0m\n\u001b[0m\u001b[1;32m    143\u001b[0m         \u001b[0msent_emb\u001b[0m \u001b[0;34m=\u001b[0m \u001b[0mwords_emb\u001b[0m\u001b[0;34m.\u001b[0m\u001b[0mmean\u001b[0m\u001b[0;34m(\u001b[0m\u001b[0mdim\u001b[0m\u001b[0;34m=\u001b[0m\u001b[0;36m1\u001b[0m\u001b[0;34m)\u001b[0m \u001b[0;31m# pool over the time dimension\u001b[0m\u001b[0;34m\u001b[0m\u001b[0;34m\u001b[0m\u001b[0m\n\u001b[1;32m    144\u001b[0m         \u001b[0mwords_emb\u001b[0m \u001b[0;34m=\u001b[0m \u001b[0mtorch\u001b[0m\u001b[0;34m.\u001b[0m\u001b[0mtranspose\u001b[0m\u001b[0;34m(\u001b[0m\u001b[0mwords_emb\u001b[0m\u001b[0;34m,\u001b[0m\u001b[0;36m1\u001b[0m\u001b[0;34m,\u001b[0m\u001b[0;36m2\u001b[0m\u001b[0;34m)\u001b[0m\u001b[0;34m\u001b[0m\u001b[0;34m\u001b[0m\u001b[0m\n",
      "\u001b[0;32m/home/zhang/ENTER/envs/cvpr/lib/python3.7/site-packages/torch/nn/modules/module.py\u001b[0m in \u001b[0;36m_call_impl\u001b[0;34m(self, *input, **kwargs)\u001b[0m\n\u001b[1;32m    720\u001b[0m             \u001b[0mresult\u001b[0m \u001b[0;34m=\u001b[0m \u001b[0mself\u001b[0m\u001b[0;34m.\u001b[0m\u001b[0m_slow_forward\u001b[0m\u001b[0;34m(\u001b[0m\u001b[0;34m*\u001b[0m\u001b[0minput\u001b[0m\u001b[0;34m,\u001b[0m \u001b[0;34m**\u001b[0m\u001b[0mkwargs\u001b[0m\u001b[0;34m)\u001b[0m\u001b[0;34m\u001b[0m\u001b[0;34m\u001b[0m\u001b[0m\n\u001b[1;32m    721\u001b[0m         \u001b[0;32melse\u001b[0m\u001b[0;34m:\u001b[0m\u001b[0;34m\u001b[0m\u001b[0;34m\u001b[0m\u001b[0m\n\u001b[0;32m--> 722\u001b[0;31m             \u001b[0mresult\u001b[0m \u001b[0;34m=\u001b[0m \u001b[0mself\u001b[0m\u001b[0;34m.\u001b[0m\u001b[0mforward\u001b[0m\u001b[0;34m(\u001b[0m\u001b[0;34m*\u001b[0m\u001b[0minput\u001b[0m\u001b[0;34m,\u001b[0m \u001b[0;34m**\u001b[0m\u001b[0mkwargs\u001b[0m\u001b[0;34m)\u001b[0m\u001b[0;34m\u001b[0m\u001b[0;34m\u001b[0m\u001b[0m\n\u001b[0m\u001b[1;32m    723\u001b[0m         for hook in itertools.chain(\n\u001b[1;32m    724\u001b[0m                 \u001b[0m_global_forward_hooks\u001b[0m\u001b[0;34m.\u001b[0m\u001b[0mvalues\u001b[0m\u001b[0;34m(\u001b[0m\u001b[0;34m)\u001b[0m\u001b[0;34m,\u001b[0m\u001b[0;34m\u001b[0m\u001b[0;34m\u001b[0m\u001b[0m\n",
      "\u001b[0;32m/home/zhang/ENTER/envs/cvpr/lib/python3.7/site-packages/torch/nn/modules/container.py\u001b[0m in \u001b[0;36mforward\u001b[0;34m(self, input)\u001b[0m\n\u001b[1;32m    115\u001b[0m     \u001b[0;32mdef\u001b[0m \u001b[0mforward\u001b[0m\u001b[0;34m(\u001b[0m\u001b[0mself\u001b[0m\u001b[0;34m,\u001b[0m \u001b[0minput\u001b[0m\u001b[0;34m)\u001b[0m\u001b[0;34m:\u001b[0m\u001b[0;34m\u001b[0m\u001b[0;34m\u001b[0m\u001b[0m\n\u001b[1;32m    116\u001b[0m         \u001b[0;32mfor\u001b[0m \u001b[0mmodule\u001b[0m \u001b[0;32min\u001b[0m \u001b[0mself\u001b[0m\u001b[0;34m:\u001b[0m\u001b[0;34m\u001b[0m\u001b[0;34m\u001b[0m\u001b[0m\n\u001b[0;32m--> 117\u001b[0;31m             \u001b[0minput\u001b[0m \u001b[0;34m=\u001b[0m \u001b[0mmodule\u001b[0m\u001b[0;34m(\u001b[0m\u001b[0minput\u001b[0m\u001b[0;34m)\u001b[0m\u001b[0;34m\u001b[0m\u001b[0;34m\u001b[0m\u001b[0m\n\u001b[0m\u001b[1;32m    118\u001b[0m         \u001b[0;32mreturn\u001b[0m \u001b[0minput\u001b[0m\u001b[0;34m\u001b[0m\u001b[0;34m\u001b[0m\u001b[0m\n\u001b[1;32m    119\u001b[0m \u001b[0;34m\u001b[0m\u001b[0m\n",
      "\u001b[0;32m/home/zhang/ENTER/envs/cvpr/lib/python3.7/site-packages/torch/nn/modules/module.py\u001b[0m in \u001b[0;36m_call_impl\u001b[0;34m(self, *input, **kwargs)\u001b[0m\n\u001b[1;32m    720\u001b[0m             \u001b[0mresult\u001b[0m \u001b[0;34m=\u001b[0m \u001b[0mself\u001b[0m\u001b[0;34m.\u001b[0m\u001b[0m_slow_forward\u001b[0m\u001b[0;34m(\u001b[0m\u001b[0;34m*\u001b[0m\u001b[0minput\u001b[0m\u001b[0;34m,\u001b[0m \u001b[0;34m**\u001b[0m\u001b[0mkwargs\u001b[0m\u001b[0;34m)\u001b[0m\u001b[0;34m\u001b[0m\u001b[0;34m\u001b[0m\u001b[0m\n\u001b[1;32m    721\u001b[0m         \u001b[0;32melse\u001b[0m\u001b[0;34m:\u001b[0m\u001b[0;34m\u001b[0m\u001b[0;34m\u001b[0m\u001b[0m\n\u001b[0;32m--> 722\u001b[0;31m             \u001b[0mresult\u001b[0m \u001b[0;34m=\u001b[0m \u001b[0mself\u001b[0m\u001b[0;34m.\u001b[0m\u001b[0mforward\u001b[0m\u001b[0;34m(\u001b[0m\u001b[0;34m*\u001b[0m\u001b[0minput\u001b[0m\u001b[0;34m,\u001b[0m \u001b[0;34m**\u001b[0m\u001b[0mkwargs\u001b[0m\u001b[0;34m)\u001b[0m\u001b[0;34m\u001b[0m\u001b[0;34m\u001b[0m\u001b[0m\n\u001b[0m\u001b[1;32m    723\u001b[0m         for hook in itertools.chain(\n\u001b[1;32m    724\u001b[0m                 \u001b[0m_global_forward_hooks\u001b[0m\u001b[0;34m.\u001b[0m\u001b[0mvalues\u001b[0m\u001b[0;34m(\u001b[0m\u001b[0;34m)\u001b[0m\u001b[0;34m,\u001b[0m\u001b[0;34m\u001b[0m\u001b[0;34m\u001b[0m\u001b[0m\n",
      "\u001b[0;32m<ipython-input-382-5840e1403883>\u001b[0m in \u001b[0;36mforward\u001b[0;34m(self, x)\u001b[0m\n\u001b[1;32m     76\u001b[0m     \u001b[0;32mdef\u001b[0m \u001b[0mforward\u001b[0m\u001b[0;34m(\u001b[0m\u001b[0mself\u001b[0m\u001b[0;34m,\u001b[0m \u001b[0mx\u001b[0m\u001b[0;34m)\u001b[0m\u001b[0;34m:\u001b[0m\u001b[0;34m\u001b[0m\u001b[0;34m\u001b[0m\u001b[0m\n\u001b[1;32m     77\u001b[0m \u001b[0;34m\u001b[0m\u001b[0m\n\u001b[0;32m---> 78\u001b[0;31m         \u001b[0mattended\u001b[0m \u001b[0;34m=\u001b[0m \u001b[0mself\u001b[0m\u001b[0;34m.\u001b[0m\u001b[0mattention\u001b[0m\u001b[0;34m(\u001b[0m\u001b[0mx\u001b[0m\u001b[0;34m)\u001b[0m\u001b[0;34m\u001b[0m\u001b[0;34m\u001b[0m\u001b[0m\n\u001b[0m\u001b[1;32m     79\u001b[0m \u001b[0;34m\u001b[0m\u001b[0m\n\u001b[1;32m     80\u001b[0m         \u001b[0mx\u001b[0m \u001b[0;34m=\u001b[0m \u001b[0mself\u001b[0m\u001b[0;34m.\u001b[0m\u001b[0mnorm1\u001b[0m\u001b[0;34m(\u001b[0m\u001b[0mattended\u001b[0m \u001b[0;34m+\u001b[0m \u001b[0mx\u001b[0m\u001b[0;34m)\u001b[0m\u001b[0;34m\u001b[0m\u001b[0;34m\u001b[0m\u001b[0m\n",
      "\u001b[0;32m/home/zhang/ENTER/envs/cvpr/lib/python3.7/site-packages/torch/nn/modules/module.py\u001b[0m in \u001b[0;36m_call_impl\u001b[0;34m(self, *input, **kwargs)\u001b[0m\n\u001b[1;32m    720\u001b[0m             \u001b[0mresult\u001b[0m \u001b[0;34m=\u001b[0m \u001b[0mself\u001b[0m\u001b[0;34m.\u001b[0m\u001b[0m_slow_forward\u001b[0m\u001b[0;34m(\u001b[0m\u001b[0;34m*\u001b[0m\u001b[0minput\u001b[0m\u001b[0;34m,\u001b[0m \u001b[0;34m**\u001b[0m\u001b[0mkwargs\u001b[0m\u001b[0;34m)\u001b[0m\u001b[0;34m\u001b[0m\u001b[0;34m\u001b[0m\u001b[0m\n\u001b[1;32m    721\u001b[0m         \u001b[0;32melse\u001b[0m\u001b[0;34m:\u001b[0m\u001b[0;34m\u001b[0m\u001b[0;34m\u001b[0m\u001b[0m\n\u001b[0;32m--> 722\u001b[0;31m             \u001b[0mresult\u001b[0m \u001b[0;34m=\u001b[0m \u001b[0mself\u001b[0m\u001b[0;34m.\u001b[0m\u001b[0mforward\u001b[0m\u001b[0;34m(\u001b[0m\u001b[0;34m*\u001b[0m\u001b[0minput\u001b[0m\u001b[0;34m,\u001b[0m \u001b[0;34m**\u001b[0m\u001b[0mkwargs\u001b[0m\u001b[0;34m)\u001b[0m\u001b[0;34m\u001b[0m\u001b[0;34m\u001b[0m\u001b[0m\n\u001b[0m\u001b[1;32m    723\u001b[0m         for hook in itertools.chain(\n\u001b[1;32m    724\u001b[0m                 \u001b[0m_global_forward_hooks\u001b[0m\u001b[0;34m.\u001b[0m\u001b[0mvalues\u001b[0m\u001b[0;34m(\u001b[0m\u001b[0;34m)\u001b[0m\u001b[0;34m,\u001b[0m\u001b[0;34m\u001b[0m\u001b[0;34m\u001b[0m\u001b[0m\n",
      "\u001b[0;31mTypeError\u001b[0m: forward() missing 1 required positional argument: 'mask'"
     ]
    }
   ],
   "source": [
    "transformer_model(caps,masks)"
   ]
  },
  {
   "cell_type": "code",
   "execution_count": 386,
   "metadata": {},
   "outputs": [],
   "source": [
    "from transformers import BertConfig, BertModel"
   ]
  },
  {
   "cell_type": "code",
   "execution_count": 388,
   "metadata": {},
   "outputs": [],
   "source": [
    "config = BertConfig(vocab_size=1196, hidden_size=512, num_hidden_layers=3,\n",
    "                    num_attention_heads=8, intermediate_size=2048, hidden_act='gelu',\n",
    "                    hidden_dropout_prob=0.1, attention_probs_dropout_prob=0.1,\n",
    "                    max_position_embeddings=512, layer_norm_eps=1e-12,\n",
    "                    initializer_range=0.02, type_vocab_size=2, pad_token_id=0)"
   ]
  },
  {
   "cell_type": "code",
   "execution_count": 391,
   "metadata": {},
   "outputs": [],
   "source": [
    "model = BertModel(config,add_pooling_layer=False )"
   ]
  },
  {
   "cell_type": "code",
   "execution_count": 392,
   "metadata": {
    "collapsed": true,
    "jupyter": {
     "outputs_hidden": true
    }
   },
   "outputs": [
    {
     "data": {
      "text/plain": [
       "BertModel(\n",
       "  (embeddings): BertEmbeddings(\n",
       "    (word_embeddings): Embedding(1196, 512, padding_idx=0)\n",
       "    (position_embeddings): Embedding(512, 512)\n",
       "    (token_type_embeddings): Embedding(2, 512)\n",
       "    (LayerNorm): LayerNorm((512,), eps=1e-12, elementwise_affine=True)\n",
       "    (dropout): Dropout(p=0.1, inplace=False)\n",
       "  )\n",
       "  (encoder): BertEncoder(\n",
       "    (layer): ModuleList(\n",
       "      (0): BertLayer(\n",
       "        (attention): BertAttention(\n",
       "          (self): BertSelfAttention(\n",
       "            (query): Linear(in_features=512, out_features=512, bias=True)\n",
       "            (key): Linear(in_features=512, out_features=512, bias=True)\n",
       "            (value): Linear(in_features=512, out_features=512, bias=True)\n",
       "            (dropout): Dropout(p=0.1, inplace=False)\n",
       "          )\n",
       "          (output): BertSelfOutput(\n",
       "            (dense): Linear(in_features=512, out_features=512, bias=True)\n",
       "            (LayerNorm): LayerNorm((512,), eps=1e-12, elementwise_affine=True)\n",
       "            (dropout): Dropout(p=0.1, inplace=False)\n",
       "          )\n",
       "        )\n",
       "        (intermediate): BertIntermediate(\n",
       "          (dense): Linear(in_features=512, out_features=2048, bias=True)\n",
       "        )\n",
       "        (output): BertOutput(\n",
       "          (dense): Linear(in_features=2048, out_features=512, bias=True)\n",
       "          (LayerNorm): LayerNorm((512,), eps=1e-12, elementwise_affine=True)\n",
       "          (dropout): Dropout(p=0.1, inplace=False)\n",
       "        )\n",
       "      )\n",
       "      (1): BertLayer(\n",
       "        (attention): BertAttention(\n",
       "          (self): BertSelfAttention(\n",
       "            (query): Linear(in_features=512, out_features=512, bias=True)\n",
       "            (key): Linear(in_features=512, out_features=512, bias=True)\n",
       "            (value): Linear(in_features=512, out_features=512, bias=True)\n",
       "            (dropout): Dropout(p=0.1, inplace=False)\n",
       "          )\n",
       "          (output): BertSelfOutput(\n",
       "            (dense): Linear(in_features=512, out_features=512, bias=True)\n",
       "            (LayerNorm): LayerNorm((512,), eps=1e-12, elementwise_affine=True)\n",
       "            (dropout): Dropout(p=0.1, inplace=False)\n",
       "          )\n",
       "        )\n",
       "        (intermediate): BertIntermediate(\n",
       "          (dense): Linear(in_features=512, out_features=2048, bias=True)\n",
       "        )\n",
       "        (output): BertOutput(\n",
       "          (dense): Linear(in_features=2048, out_features=512, bias=True)\n",
       "          (LayerNorm): LayerNorm((512,), eps=1e-12, elementwise_affine=True)\n",
       "          (dropout): Dropout(p=0.1, inplace=False)\n",
       "        )\n",
       "      )\n",
       "      (2): BertLayer(\n",
       "        (attention): BertAttention(\n",
       "          (self): BertSelfAttention(\n",
       "            (query): Linear(in_features=512, out_features=512, bias=True)\n",
       "            (key): Linear(in_features=512, out_features=512, bias=True)\n",
       "            (value): Linear(in_features=512, out_features=512, bias=True)\n",
       "            (dropout): Dropout(p=0.1, inplace=False)\n",
       "          )\n",
       "          (output): BertSelfOutput(\n",
       "            (dense): Linear(in_features=512, out_features=512, bias=True)\n",
       "            (LayerNorm): LayerNorm((512,), eps=1e-12, elementwise_affine=True)\n",
       "            (dropout): Dropout(p=0.1, inplace=False)\n",
       "          )\n",
       "        )\n",
       "        (intermediate): BertIntermediate(\n",
       "          (dense): Linear(in_features=512, out_features=2048, bias=True)\n",
       "        )\n",
       "        (output): BertOutput(\n",
       "          (dense): Linear(in_features=2048, out_features=512, bias=True)\n",
       "          (LayerNorm): LayerNorm((512,), eps=1e-12, elementwise_affine=True)\n",
       "          (dropout): Dropout(p=0.1, inplace=False)\n",
       "        )\n",
       "      )\n",
       "    )\n",
       "  )\n",
       ")"
      ]
     },
     "execution_count": 392,
     "metadata": {},
     "output_type": "execute_result"
    }
   ],
   "source": [
    "model"
   ]
  },
  {
   "cell_type": "code",
   "execution_count": 393,
   "metadata": {},
   "outputs": [],
   "source": [
    "output = model(input_ids=caps, attention_mask=masks)"
   ]
  },
  {
   "cell_type": "code",
   "execution_count": 425,
   "metadata": {},
   "outputs": [
    {
     "data": {
      "text/plain": [
       "torch.Size([1, 64, 1])"
      ]
     },
     "execution_count": 425,
     "metadata": {},
     "output_type": "execute_result"
    }
   ],
   "source": [
    "m = nn.AdaptiveAvgPool1d(1)\n",
    "_input = torch.randn(1, 64, 8)\n",
    "output = m(_input)\n",
    "output.shape"
   ]
  },
  {
   "cell_type": "code",
   "execution_count": 455,
   "metadata": {},
   "outputs": [],
   "source": [
    "from transformers import BertPreTrainedModel\n",
    "\n",
    "class TextEncoder(nn.Module):\n",
    "    def __init__(self, config):\n",
    "        super(TextEncoder, self).__init__()\n",
    "        \n",
    "        bert = BertModel(config, add_pooling_layer=False)\n",
    "\n",
    "        self.bert = bert\n",
    "        self.sent = nn.Linear(512, 512)\n",
    "        \n",
    "    def forward(self, x, mask):\n",
    "        word_feat = self.bert(input_ids=x, attention_mask=mask)[0]\n",
    "        print(word_feat.shape)\n",
    "        sent_feat = word_feat[:,0,:]\n",
    "        sent_feat = self.sent(sent_feat)       \n",
    "        return sent_feat, word_feat"
   ]
  },
  {
   "cell_type": "code",
   "execution_count": null,
   "metadata": {},
   "outputs": [],
   "source": [
    "word_feat = [129] ['CLS'] ['SEP'] ['PAD'] -> w_loss\n",
    "word_feat[:,1:,:] -> [8,128,512] "
   ]
  },
  {
   "cell_type": "code",
   "execution_count": 465,
   "metadata": {},
   "outputs": [],
   "source": [
    "model = TextEncoder(config)"
   ]
  },
  {
   "cell_type": "code",
   "execution_count": 457,
   "metadata": {},
   "outputs": [
    {
     "name": "stdout",
     "output_type": "stream",
     "text": [
      "torch.Size([8, 129, 512])\n"
     ]
    }
   ],
   "source": [
    "sent_feats, word_feats = model(caps,masks)"
   ]
  },
  {
   "cell_type": "code",
   "execution_count": 466,
   "metadata": {},
   "outputs": [],
   "source": [
    "std = model.state_dict()"
   ]
  },
  {
   "cell_type": "code",
   "execution_count": 467,
   "metadata": {},
   "outputs": [
    {
     "data": {
      "text/plain": [
       "odict_keys(['bert.embeddings.position_ids', 'bert.embeddings.word_embeddings.weight', 'bert.embeddings.position_embeddings.weight', 'bert.embeddings.token_type_embeddings.weight', 'bert.embeddings.LayerNorm.weight', 'bert.embeddings.LayerNorm.bias', 'bert.encoder.layer.0.attention.self.query.weight', 'bert.encoder.layer.0.attention.self.query.bias', 'bert.encoder.layer.0.attention.self.key.weight', 'bert.encoder.layer.0.attention.self.key.bias', 'bert.encoder.layer.0.attention.self.value.weight', 'bert.encoder.layer.0.attention.self.value.bias', 'bert.encoder.layer.0.attention.output.dense.weight', 'bert.encoder.layer.0.attention.output.dense.bias', 'bert.encoder.layer.0.attention.output.LayerNorm.weight', 'bert.encoder.layer.0.attention.output.LayerNorm.bias', 'bert.encoder.layer.0.intermediate.dense.weight', 'bert.encoder.layer.0.intermediate.dense.bias', 'bert.encoder.layer.0.output.dense.weight', 'bert.encoder.layer.0.output.dense.bias', 'bert.encoder.layer.0.output.LayerNorm.weight', 'bert.encoder.layer.0.output.LayerNorm.bias', 'bert.encoder.layer.1.attention.self.query.weight', 'bert.encoder.layer.1.attention.self.query.bias', 'bert.encoder.layer.1.attention.self.key.weight', 'bert.encoder.layer.1.attention.self.key.bias', 'bert.encoder.layer.1.attention.self.value.weight', 'bert.encoder.layer.1.attention.self.value.bias', 'bert.encoder.layer.1.attention.output.dense.weight', 'bert.encoder.layer.1.attention.output.dense.bias', 'bert.encoder.layer.1.attention.output.LayerNorm.weight', 'bert.encoder.layer.1.attention.output.LayerNorm.bias', 'bert.encoder.layer.1.intermediate.dense.weight', 'bert.encoder.layer.1.intermediate.dense.bias', 'bert.encoder.layer.1.output.dense.weight', 'bert.encoder.layer.1.output.dense.bias', 'bert.encoder.layer.1.output.LayerNorm.weight', 'bert.encoder.layer.1.output.LayerNorm.bias', 'bert.encoder.layer.2.attention.self.query.weight', 'bert.encoder.layer.2.attention.self.query.bias', 'bert.encoder.layer.2.attention.self.key.weight', 'bert.encoder.layer.2.attention.self.key.bias', 'bert.encoder.layer.2.attention.self.value.weight', 'bert.encoder.layer.2.attention.self.value.bias', 'bert.encoder.layer.2.attention.output.dense.weight', 'bert.encoder.layer.2.attention.output.dense.bias', 'bert.encoder.layer.2.attention.output.LayerNorm.weight', 'bert.encoder.layer.2.attention.output.LayerNorm.bias', 'bert.encoder.layer.2.intermediate.dense.weight', 'bert.encoder.layer.2.intermediate.dense.bias', 'bert.encoder.layer.2.output.dense.weight', 'bert.encoder.layer.2.output.dense.bias', 'bert.encoder.layer.2.output.LayerNorm.weight', 'bert.encoder.layer.2.output.LayerNorm.bias', 'sent.weight', 'sent.bias'])"
      ]
     },
     "execution_count": 467,
     "metadata": {},
     "output_type": "execute_result"
    }
   ],
   "source": [
    "std.keys()"
   ]
  },
  {
   "cell_type": "code",
   "execution_count": 469,
   "metadata": {},
   "outputs": [
    {
     "data": {
      "text/plain": [
       "tensor([[ 5.0000e-01,  5.0000e-01,  5.0000e-01,  ...,  5.0000e-01,\n",
       "          5.0000e-01,  5.0000e-01],\n",
       "        [-4.2670e-03, -2.2661e-02,  1.3596e-04,  ...,  5.9003e-03,\n",
       "          4.3368e-02,  9.3442e-03],\n",
       "        [ 2.3720e-02, -3.3314e-02, -5.4340e-03,  ...,  2.6354e-02,\n",
       "          2.7614e-02, -7.6545e-03],\n",
       "        ...,\n",
       "        [-1.0447e-02, -4.0221e-02,  1.9034e-02,  ...,  5.2405e-03,\n",
       "          1.2785e-02, -1.9273e-03],\n",
       "        [ 4.7300e-02, -1.9325e-02, -1.7531e-02,  ...,  1.9294e-02,\n",
       "         -1.9019e-03, -2.4678e-02],\n",
       "        [-2.0812e-02, -2.3854e-02,  2.0967e-02,  ..., -5.1604e-03,\n",
       "          3.7881e-02, -9.3478e-03]])"
      ]
     },
     "execution_count": 469,
     "metadata": {},
     "output_type": "execute_result"
    }
   ],
   "source": [
    "std['bert.embeddings.word_embeddings.weight'][0,:] = 0.5\n",
    "std['bert.embeddings.word_embeddings.weight']"
   ]
  },
  {
   "cell_type": "code",
   "execution_count": 470,
   "metadata": {},
   "outputs": [],
   "source": [
    "torch.save(std, 'save/temp.pth')"
   ]
  },
  {
   "cell_type": "code",
   "execution_count": 471,
   "metadata": {},
   "outputs": [],
   "source": [
    "model2 = TextEncoder(config)"
   ]
  },
  {
   "cell_type": "code",
   "execution_count": 472,
   "metadata": {
    "collapsed": true,
    "jupyter": {
     "outputs_hidden": true
    }
   },
   "outputs": [
    {
     "data": {
      "text/plain": [
       "tensor([ 7.8821e-03, -3.5045e-02,  1.4121e-02,  9.7070e-03, -3.3117e-03,\n",
       "         9.6901e-03, -9.9555e-03, -1.8174e-02, -3.8385e-03, -1.5379e-02,\n",
       "        -7.4687e-03,  1.5972e-03,  1.9328e-03,  1.9457e-02, -2.0138e-02,\n",
       "         4.2976e-03, -9.5875e-03, -3.6648e-02, -1.6565e-02, -3.1241e-02,\n",
       "        -5.4579e-03, -2.5698e-02,  6.6400e-03,  5.8831e-03,  1.5531e-02,\n",
       "        -4.2414e-02,  1.3612e-02, -2.0310e-02, -8.0668e-03, -1.7462e-02,\n",
       "         8.1628e-03, -1.9570e-02, -2.6664e-02,  6.3397e-03, -1.2849e-02,\n",
       "        -3.0738e-02, -1.0288e-02,  1.9230e-02, -2.8008e-02,  2.0703e-02,\n",
       "        -2.4501e-02,  3.3865e-02,  1.8946e-02, -2.1086e-03, -7.6355e-03,\n",
       "        -1.2183e-02, -2.0348e-02, -2.1568e-02, -8.3113e-04,  2.7576e-02,\n",
       "        -9.1024e-03, -7.6377e-03,  1.9110e-02,  4.4322e-03,  2.2333e-02,\n",
       "        -3.4987e-02, -2.8900e-02,  1.5573e-02, -1.0295e-02, -8.2119e-03,\n",
       "         2.0436e-02,  1.8305e-02,  1.1611e-02,  5.6134e-02,  8.8095e-03,\n",
       "        -3.2502e-02,  6.2666e-03,  8.0496e-03, -1.4559e-03,  4.8817e-03,\n",
       "        -8.7349e-03, -9.9836e-03,  3.5433e-03, -1.8766e-02, -3.7374e-02,\n",
       "        -3.3357e-02,  2.2001e-02,  1.6559e-02,  1.8101e-02, -6.3295e-03,\n",
       "        -8.9170e-03, -2.2353e-02,  5.0485e-03,  2.5383e-02, -1.3030e-03,\n",
       "         1.9195e-02,  3.5521e-02, -1.7291e-02, -2.6170e-03, -3.0233e-03,\n",
       "         3.5762e-03,  3.0258e-03,  7.6499e-03, -1.8036e-02, -1.9568e-02,\n",
       "        -2.1219e-02,  1.7200e-02,  4.0033e-03,  1.2706e-02,  2.2978e-02,\n",
       "         1.0632e-02, -1.9753e-02, -4.8776e-02, -3.4501e-02, -2.0550e-02,\n",
       "        -2.0294e-02, -7.6035e-03,  1.3027e-02,  1.7492e-02,  7.0368e-03,\n",
       "         9.2093e-03,  2.2611e-02, -2.1760e-02,  3.7690e-02, -5.9104e-03,\n",
       "         1.2302e-02, -1.1629e-02, -2.3976e-02, -2.3169e-02, -1.7248e-02,\n",
       "        -1.5813e-02,  1.8674e-02, -1.2571e-02,  1.2620e-03,  1.1871e-02,\n",
       "        -5.2854e-03,  8.5943e-03,  6.5657e-04,  3.5015e-02, -1.8003e-02,\n",
       "        -4.4401e-03,  2.8424e-02,  3.6296e-02,  1.5304e-03,  3.8856e-03,\n",
       "        -6.9415e-03,  1.8191e-02,  8.3282e-03, -2.9212e-02,  1.6171e-02,\n",
       "        -1.3763e-03, -3.2509e-02, -4.6833e-02, -9.2920e-03, -1.9799e-02,\n",
       "         1.2012e-02,  1.8192e-02,  1.8846e-02, -5.7122e-03, -2.3725e-03,\n",
       "        -3.0072e-02,  2.6689e-02, -1.9143e-02,  1.3339e-02,  1.6246e-02,\n",
       "         4.3245e-02,  1.0422e-02,  9.5758e-03,  2.2796e-02,  9.5114e-04,\n",
       "        -4.5127e-03, -1.7023e-02, -1.6787e-02, -9.7790e-03,  1.3118e-02,\n",
       "        -5.0698e-02,  2.2431e-02, -1.1486e-02,  1.1866e-03,  6.6579e-03,\n",
       "        -1.9781e-02,  1.7970e-02, -1.6907e-02,  1.2396e-02,  8.2722e-03,\n",
       "        -2.2644e-02, -2.4370e-02, -2.0076e-02, -9.4429e-03, -2.0052e-02,\n",
       "        -1.2850e-02,  3.6345e-03, -3.1811e-02,  2.8265e-02,  3.2259e-02,\n",
       "         2.3133e-02, -3.0089e-02, -1.4828e-02,  1.6730e-02, -8.9613e-03,\n",
       "        -2.5629e-02, -4.6079e-02,  1.0948e-02,  3.0788e-02, -8.8775e-03,\n",
       "         1.6577e-02,  1.2176e-02, -8.3636e-03,  8.9139e-04,  1.1894e-02,\n",
       "         2.9181e-02, -5.6849e-03, -7.2344e-03, -2.7295e-02, -2.2792e-02,\n",
       "         2.1539e-02, -1.4762e-02, -4.5119e-02, -7.3586e-03, -6.4264e-04,\n",
       "         7.2473e-03, -1.0223e-02,  2.8939e-03, -2.0571e-02, -2.7023e-02,\n",
       "         3.7495e-03, -2.5540e-02, -9.1307e-03, -2.5861e-02,  8.4365e-03,\n",
       "         2.9530e-03, -2.3472e-02, -1.1641e-02,  2.4509e-02, -1.1783e-02,\n",
       "        -3.1784e-02, -2.7141e-02,  1.3212e-02,  4.0415e-02, -1.4172e-02,\n",
       "         7.7175e-03,  5.7509e-02,  3.0637e-02, -2.0957e-02, -2.5396e-02,\n",
       "         9.8408e-03, -4.9842e-03,  9.7397e-03,  1.5816e-02, -6.2842e-03,\n",
       "        -1.4042e-02, -3.6722e-03,  1.4389e-03,  2.9909e-02,  2.5029e-02,\n",
       "         3.4979e-02, -1.6132e-02,  4.4096e-03, -1.3548e-02, -1.4055e-02,\n",
       "         2.5894e-04, -3.3948e-03, -6.8767e-03,  1.0277e-02, -3.0123e-02,\n",
       "        -2.0801e-02,  5.0039e-02, -1.2390e-03,  2.3306e-03, -1.2698e-02,\n",
       "        -8.8786e-03,  9.5249e-04, -1.1148e-02,  5.9980e-03,  1.9268e-02,\n",
       "         4.2684e-03,  4.1678e-03,  2.5839e-02, -1.8300e-02,  1.9385e-02,\n",
       "        -5.4924e-03, -1.3337e-02,  1.3461e-02,  4.7647e-03, -1.1905e-02,\n",
       "         6.8261e-03, -1.5440e-02, -3.2601e-03,  3.5447e-02, -1.1551e-02,\n",
       "        -3.7105e-02, -1.1468e-03, -1.2178e-03,  1.8053e-02,  1.5584e-03,\n",
       "         1.1322e-03,  2.5647e-02, -6.6107e-03, -5.6292e-03, -4.3815e-03,\n",
       "         2.9306e-02, -1.8966e-02,  1.9189e-02,  2.7447e-02,  1.5835e-02,\n",
       "         8.6755e-03, -7.4223e-03, -3.3596e-03, -7.3001e-03,  1.5641e-02,\n",
       "         1.2496e-02,  3.9161e-02, -1.5657e-03, -1.1785e-02, -1.0996e-02,\n",
       "        -1.8091e-02,  2.5885e-02, -1.3949e-02,  1.2717e-02, -6.3049e-03,\n",
       "         1.0142e-02, -3.1666e-02, -2.7908e-02,  2.5301e-02, -4.0771e-02,\n",
       "         7.1964e-03,  1.0492e-02, -1.4578e-02, -2.9640e-02, -6.1578e-02,\n",
       "        -1.8953e-02,  3.2665e-02,  4.1125e-04,  2.1927e-02,  1.8877e-02,\n",
       "         2.4940e-05,  8.2326e-03,  7.6515e-03, -3.3188e-02, -3.9687e-03,\n",
       "        -3.7184e-02, -3.0649e-02,  1.7549e-02,  9.7048e-03, -1.6559e-02,\n",
       "        -9.3387e-03, -2.1718e-02, -8.0892e-03,  2.9089e-02,  5.2670e-03,\n",
       "         2.6937e-02, -3.8836e-02,  2.8304e-02, -2.5255e-02, -2.2856e-04,\n",
       "         4.2996e-03,  3.8326e-02, -3.0184e-03, -9.2313e-03, -2.9698e-03,\n",
       "         1.4579e-02, -2.7130e-02,  4.3501e-03,  2.5101e-02,  1.7057e-02,\n",
       "        -2.2499e-02,  1.8833e-02, -4.3119e-03,  1.8864e-02, -7.2193e-03,\n",
       "         1.3832e-02, -2.6408e-02,  8.6102e-03,  4.1385e-03, -1.7393e-02,\n",
       "         1.3930e-02,  2.9789e-02,  7.7070e-03,  4.2145e-03, -4.1364e-02,\n",
       "         2.4133e-02,  2.8014e-02, -1.1499e-02, -1.7414e-02,  1.2493e-02,\n",
       "        -8.3570e-04, -1.5797e-02, -1.0757e-02,  2.3566e-02, -1.2654e-02,\n",
       "        -3.1991e-02,  3.0208e-03, -6.2243e-03,  6.5331e-03,  1.3449e-02,\n",
       "        -2.4572e-02, -2.1288e-02, -2.6623e-02, -1.5936e-02,  1.1198e-02,\n",
       "         2.2406e-03,  1.7933e-02,  6.8802e-03, -1.8178e-03,  2.1448e-02,\n",
       "        -1.4187e-02, -1.7103e-02,  6.8895e-03, -1.9387e-03,  2.6795e-02,\n",
       "         8.2185e-03, -8.0654e-04, -8.6616e-03,  2.8803e-02,  4.0453e-02,\n",
       "        -1.5258e-02, -9.7588e-03, -1.8359e-02, -1.1295e-02, -2.1781e-02,\n",
       "         1.9147e-02,  4.1638e-03, -3.9039e-04,  1.4444e-02, -9.0840e-03,\n",
       "         1.1710e-02,  9.7326e-03, -8.1922e-03,  2.7343e-03,  8.0746e-03,\n",
       "         1.2741e-02,  6.6118e-03,  5.0628e-03,  3.6697e-02, -2.0759e-02,\n",
       "         6.0511e-03, -2.2152e-04,  3.6203e-02,  1.6252e-02,  3.5504e-03,\n",
       "         2.3171e-02, -1.4697e-02, -1.9060e-02, -2.2342e-02,  1.6799e-02,\n",
       "         3.1959e-02, -2.2007e-02, -7.0113e-03,  4.0696e-02,  1.6512e-02,\n",
       "         4.5475e-02, -1.5134e-02, -8.8262e-03, -1.1337e-02, -1.9878e-02,\n",
       "        -1.4061e-02,  2.8187e-02, -5.9453e-03,  7.2822e-03,  1.2109e-02,\n",
       "         2.6054e-02,  1.8908e-03,  3.4645e-02, -2.2766e-02,  1.4107e-02,\n",
       "        -6.3337e-03,  1.7640e-02, -6.3440e-03,  8.7073e-03, -3.2698e-02,\n",
       "        -1.7114e-02,  2.2707e-02, -3.2398e-02, -1.7984e-02,  2.0631e-02,\n",
       "        -3.4735e-02,  8.6295e-04,  7.9063e-04,  3.8047e-03,  1.0894e-02,\n",
       "         1.4102e-02,  2.2735e-02, -1.2081e-02,  2.6301e-02, -5.2685e-03,\n",
       "        -5.0037e-03,  3.4835e-02,  8.9087e-03, -1.3647e-02,  2.8646e-02,\n",
       "        -1.2450e-02, -4.3853e-02, -8.7927e-03, -1.0032e-03,  1.4633e-02,\n",
       "        -1.4477e-02, -8.7603e-04,  9.3462e-03, -8.0105e-03,  1.3571e-02,\n",
       "        -2.0275e-02,  3.4675e-04,  3.1661e-02, -3.4020e-02,  1.1432e-02,\n",
       "         1.1747e-02,  3.5345e-02,  4.4791e-03, -1.0901e-02, -2.1063e-05,\n",
       "         1.6773e-02,  4.3430e-03, -5.3889e-03,  1.6975e-03, -2.9383e-02,\n",
       "        -2.7715e-02, -1.0696e-02, -2.2935e-02, -1.6161e-02, -6.3934e-03,\n",
       "         3.6063e-02,  1.0032e-02])"
      ]
     },
     "execution_count": 472,
     "metadata": {},
     "output_type": "execute_result"
    }
   ],
   "source": [
    "model2.state_dict()['bert.embeddings.word_embeddings.weight'][0]"
   ]
  },
  {
   "cell_type": "code",
   "execution_count": 473,
   "metadata": {},
   "outputs": [
    {
     "data": {
      "text/plain": [
       "<All keys matched successfully>"
      ]
     },
     "execution_count": 473,
     "metadata": {},
     "output_type": "execute_result"
    }
   ],
   "source": [
    "tds = torch.load('save/temp.pth', map_location='cpu')\n",
    "model2.load_state_dict(tds)"
   ]
  },
  {
   "cell_type": "code",
   "execution_count": 474,
   "metadata": {
    "collapsed": true,
    "jupyter": {
     "outputs_hidden": true
    }
   },
   "outputs": [
    {
     "data": {
      "text/plain": [
       "tensor([0.5000, 0.5000, 0.5000, 0.5000, 0.5000, 0.5000, 0.5000, 0.5000, 0.5000,\n",
       "        0.5000, 0.5000, 0.5000, 0.5000, 0.5000, 0.5000, 0.5000, 0.5000, 0.5000,\n",
       "        0.5000, 0.5000, 0.5000, 0.5000, 0.5000, 0.5000, 0.5000, 0.5000, 0.5000,\n",
       "        0.5000, 0.5000, 0.5000, 0.5000, 0.5000, 0.5000, 0.5000, 0.5000, 0.5000,\n",
       "        0.5000, 0.5000, 0.5000, 0.5000, 0.5000, 0.5000, 0.5000, 0.5000, 0.5000,\n",
       "        0.5000, 0.5000, 0.5000, 0.5000, 0.5000, 0.5000, 0.5000, 0.5000, 0.5000,\n",
       "        0.5000, 0.5000, 0.5000, 0.5000, 0.5000, 0.5000, 0.5000, 0.5000, 0.5000,\n",
       "        0.5000, 0.5000, 0.5000, 0.5000, 0.5000, 0.5000, 0.5000, 0.5000, 0.5000,\n",
       "        0.5000, 0.5000, 0.5000, 0.5000, 0.5000, 0.5000, 0.5000, 0.5000, 0.5000,\n",
       "        0.5000, 0.5000, 0.5000, 0.5000, 0.5000, 0.5000, 0.5000, 0.5000, 0.5000,\n",
       "        0.5000, 0.5000, 0.5000, 0.5000, 0.5000, 0.5000, 0.5000, 0.5000, 0.5000,\n",
       "        0.5000, 0.5000, 0.5000, 0.5000, 0.5000, 0.5000, 0.5000, 0.5000, 0.5000,\n",
       "        0.5000, 0.5000, 0.5000, 0.5000, 0.5000, 0.5000, 0.5000, 0.5000, 0.5000,\n",
       "        0.5000, 0.5000, 0.5000, 0.5000, 0.5000, 0.5000, 0.5000, 0.5000, 0.5000,\n",
       "        0.5000, 0.5000, 0.5000, 0.5000, 0.5000, 0.5000, 0.5000, 0.5000, 0.5000,\n",
       "        0.5000, 0.5000, 0.5000, 0.5000, 0.5000, 0.5000, 0.5000, 0.5000, 0.5000,\n",
       "        0.5000, 0.5000, 0.5000, 0.5000, 0.5000, 0.5000, 0.5000, 0.5000, 0.5000,\n",
       "        0.5000, 0.5000, 0.5000, 0.5000, 0.5000, 0.5000, 0.5000, 0.5000, 0.5000,\n",
       "        0.5000, 0.5000, 0.5000, 0.5000, 0.5000, 0.5000, 0.5000, 0.5000, 0.5000,\n",
       "        0.5000, 0.5000, 0.5000, 0.5000, 0.5000, 0.5000, 0.5000, 0.5000, 0.5000,\n",
       "        0.5000, 0.5000, 0.5000, 0.5000, 0.5000, 0.5000, 0.5000, 0.5000, 0.5000,\n",
       "        0.5000, 0.5000, 0.5000, 0.5000, 0.5000, 0.5000, 0.5000, 0.5000, 0.5000,\n",
       "        0.5000, 0.5000, 0.5000, 0.5000, 0.5000, 0.5000, 0.5000, 0.5000, 0.5000,\n",
       "        0.5000, 0.5000, 0.5000, 0.5000, 0.5000, 0.5000, 0.5000, 0.5000, 0.5000,\n",
       "        0.5000, 0.5000, 0.5000, 0.5000, 0.5000, 0.5000, 0.5000, 0.5000, 0.5000,\n",
       "        0.5000, 0.5000, 0.5000, 0.5000, 0.5000, 0.5000, 0.5000, 0.5000, 0.5000,\n",
       "        0.5000, 0.5000, 0.5000, 0.5000, 0.5000, 0.5000, 0.5000, 0.5000, 0.5000,\n",
       "        0.5000, 0.5000, 0.5000, 0.5000, 0.5000, 0.5000, 0.5000, 0.5000, 0.5000,\n",
       "        0.5000, 0.5000, 0.5000, 0.5000, 0.5000, 0.5000, 0.5000, 0.5000, 0.5000,\n",
       "        0.5000, 0.5000, 0.5000, 0.5000, 0.5000, 0.5000, 0.5000, 0.5000, 0.5000,\n",
       "        0.5000, 0.5000, 0.5000, 0.5000, 0.5000, 0.5000, 0.5000, 0.5000, 0.5000,\n",
       "        0.5000, 0.5000, 0.5000, 0.5000, 0.5000, 0.5000, 0.5000, 0.5000, 0.5000,\n",
       "        0.5000, 0.5000, 0.5000, 0.5000, 0.5000, 0.5000, 0.5000, 0.5000, 0.5000,\n",
       "        0.5000, 0.5000, 0.5000, 0.5000, 0.5000, 0.5000, 0.5000, 0.5000, 0.5000,\n",
       "        0.5000, 0.5000, 0.5000, 0.5000, 0.5000, 0.5000, 0.5000, 0.5000, 0.5000,\n",
       "        0.5000, 0.5000, 0.5000, 0.5000, 0.5000, 0.5000, 0.5000, 0.5000, 0.5000,\n",
       "        0.5000, 0.5000, 0.5000, 0.5000, 0.5000, 0.5000, 0.5000, 0.5000, 0.5000,\n",
       "        0.5000, 0.5000, 0.5000, 0.5000, 0.5000, 0.5000, 0.5000, 0.5000, 0.5000,\n",
       "        0.5000, 0.5000, 0.5000, 0.5000, 0.5000, 0.5000, 0.5000, 0.5000, 0.5000,\n",
       "        0.5000, 0.5000, 0.5000, 0.5000, 0.5000, 0.5000, 0.5000, 0.5000, 0.5000,\n",
       "        0.5000, 0.5000, 0.5000, 0.5000, 0.5000, 0.5000, 0.5000, 0.5000, 0.5000,\n",
       "        0.5000, 0.5000, 0.5000, 0.5000, 0.5000, 0.5000, 0.5000, 0.5000, 0.5000,\n",
       "        0.5000, 0.5000, 0.5000, 0.5000, 0.5000, 0.5000, 0.5000, 0.5000, 0.5000,\n",
       "        0.5000, 0.5000, 0.5000, 0.5000, 0.5000, 0.5000, 0.5000, 0.5000, 0.5000,\n",
       "        0.5000, 0.5000, 0.5000, 0.5000, 0.5000, 0.5000, 0.5000, 0.5000, 0.5000,\n",
       "        0.5000, 0.5000, 0.5000, 0.5000, 0.5000, 0.5000, 0.5000, 0.5000, 0.5000,\n",
       "        0.5000, 0.5000, 0.5000, 0.5000, 0.5000, 0.5000, 0.5000, 0.5000, 0.5000,\n",
       "        0.5000, 0.5000, 0.5000, 0.5000, 0.5000, 0.5000, 0.5000, 0.5000, 0.5000,\n",
       "        0.5000, 0.5000, 0.5000, 0.5000, 0.5000, 0.5000, 0.5000, 0.5000, 0.5000,\n",
       "        0.5000, 0.5000, 0.5000, 0.5000, 0.5000, 0.5000, 0.5000, 0.5000, 0.5000,\n",
       "        0.5000, 0.5000, 0.5000, 0.5000, 0.5000, 0.5000, 0.5000, 0.5000, 0.5000,\n",
       "        0.5000, 0.5000, 0.5000, 0.5000, 0.5000, 0.5000, 0.5000, 0.5000, 0.5000,\n",
       "        0.5000, 0.5000, 0.5000, 0.5000, 0.5000, 0.5000, 0.5000, 0.5000, 0.5000,\n",
       "        0.5000, 0.5000, 0.5000, 0.5000, 0.5000, 0.5000, 0.5000, 0.5000, 0.5000,\n",
       "        0.5000, 0.5000, 0.5000, 0.5000, 0.5000, 0.5000, 0.5000, 0.5000, 0.5000,\n",
       "        0.5000, 0.5000, 0.5000, 0.5000, 0.5000, 0.5000, 0.5000, 0.5000, 0.5000,\n",
       "        0.5000, 0.5000, 0.5000, 0.5000, 0.5000, 0.5000, 0.5000, 0.5000])"
      ]
     },
     "execution_count": 474,
     "metadata": {},
     "output_type": "execute_result"
    }
   ],
   "source": [
    "model2.state_dict()['bert.embeddings.word_embeddings.weight'][0]"
   ]
  },
  {
   "cell_type": "code",
   "execution_count": 551,
   "metadata": {},
   "outputs": [
    {
     "data": {
      "text/plain": [
       "<module 'model' from '/home/ipmi/code/model.py'>"
      ]
     },
     "execution_count": 551,
     "metadata": {},
     "output_type": "execute_result"
    }
   ],
   "source": [
    "import model\n",
    "importlib.reload(model)"
   ]
  },
  {
   "cell_type": "code",
   "execution_count": 552,
   "metadata": {},
   "outputs": [],
   "source": [
    "md = model.ImageEncoder()"
   ]
  },
  {
   "cell_type": "code",
   "execution_count": 553,
   "metadata": {},
   "outputs": [
    {
     "name": "stdout",
     "output_type": "stream",
     "text": [
      "torch.Size([8, 2048])\n"
     ]
    }
   ],
   "source": [
    "wf, sf = md(imgs)"
   ]
  },
  {
   "cell_type": "code",
   "execution_count": 554,
   "metadata": {},
   "outputs": [
    {
     "name": "stdout",
     "output_type": "stream",
     "text": [
      "torch.Size([8, 512, 16, 16]) torch.Size([8, 512])\n"
     ]
    }
   ],
   "source": [
    "print(wf.shape, sf.shape)"
   ]
  },
  {
   "cell_type": "code",
   "execution_count": 626,
   "metadata": {},
   "outputs": [],
   "source": [
    "im = Image.open('../data/ChestXRay/dataset/images/images_normalized/907_IM-2412-82526002.dcm.png')"
   ]
  },
  {
   "cell_type": "code",
   "execution_count": 630,
   "metadata": {},
   "outputs": [],
   "source": [
    "im = im.resize((2048,2048))"
   ]
  },
  {
   "cell_type": "code",
   "execution_count": 632,
   "metadata": {},
   "outputs": [],
   "source": [
    "im.save('../data/ChestXRay/dataset/images/images_normalized/907_IM-2412-82526002.dcm.png')"
   ]
  },
  {
   "cell_type": "code",
   "execution_count": 592,
   "metadata": {},
   "outputs": [
    {
     "data": {
      "text/plain": [
       "1.003921568627451"
      ]
     },
     "execution_count": 592,
     "metadata": {},
     "output_type": "execute_result"
    }
   ],
   "source": [
    "2048/im.size[0]"
   ]
  },
  {
   "cell_type": "code",
   "execution_count": 593,
   "metadata": {},
   "outputs": [
    {
     "data": {
      "text/plain": [
       "2248.7843137254904"
      ]
     },
     "execution_count": 593,
     "metadata": {},
     "output_type": "execute_result"
    }
   ],
   "source": [
    "im.size[1]*1.003921568627451"
   ]
  },
  {
   "cell_type": "code",
   "execution_count": 635,
   "metadata": {},
   "outputs": [
    {
     "data": {
      "text/plain": [
       "<module 'dataset' from '/home/ipmi/code/dataset.py'>"
      ]
     },
     "execution_count": 635,
     "metadata": {},
     "output_type": "execute_result"
    }
   ],
   "source": [
    "importlib.reload(dataset)"
   ]
  },
  {
   "cell_type": "code",
   "execution_count": 639,
   "metadata": {},
   "outputs": [],
   "source": [
    "\n",
    "data_set = dataset.build_dataset('train',cfg=cfg)\n",
    "train_loader = torch.utils.data.DataLoader(\n",
    "                    data_set, batch_size=32, drop_last=False,\n",
    "                    shuffle=False, num_workers=8)\n",
    "it = iter(train_loader)"
   ]
  },
  {
   "cell_type": "code",
   "execution_count": 640,
   "metadata": {},
   "outputs": [
    {
     "name": "stdout",
     "output_type": "stream",
     "text": [
      "98\r"
     ]
    }
   ],
   "source": [
    "for i in range(len(train_loader)):\n",
    "    it.next()\n",
    "    print(i,end='\\r')"
   ]
  },
  {
   "cell_type": "code",
   "execution_count": 643,
   "metadata": {},
   "outputs": [
    {
     "data": {
      "text/plain": [
       "1196"
      ]
     },
     "execution_count": 643,
     "metadata": {},
     "output_type": "execute_result"
    }
   ],
   "source": [
    "train_loader.dataset.vocab_size"
   ]
  },
  {
   "cell_type": "code",
   "execution_count": null,
   "metadata": {},
   "outputs": [],
   "source": [
    "'/media/MyDataStor2/MIMIC-CXR/physionet.org/files/mimic-cxr-jpg/2.0.0/'"
   ]
  }
 ],
 "metadata": {
  "kernelspec": {
   "display_name": "Python 3",
   "language": "python",
   "name": "python3"
  },
  "language_info": {
   "codemirror_mode": {
    "name": "ipython",
    "version": 3
   },
   "file_extension": ".py",
   "mimetype": "text/x-python",
   "name": "python",
   "nbconvert_exporter": "python",
   "pygments_lexer": "ipython3",
   "version": "3.7.7"
  }
 },
 "nbformat": 4,
 "nbformat_minor": 4
}
